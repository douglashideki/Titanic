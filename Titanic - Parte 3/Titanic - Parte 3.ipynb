{
 "cells": [
  {
   "cell_type": "markdown",
   "id": "63baa6ef",
   "metadata": {},
   "source": [
    "# TITANIC - Machine Learning from Disaster\n",
    "\n",
    "- Será abordado neste projeto um conjunto de dados muito famoso do Titanic que faz parte de uma competição do Kaggle.\n",
    "\n",
    "- [Clique aqui para acessar os dados disponíveis no Kaggle](https://www.kaggle.com/competitions/titanic)\n",
    "\n",
    "- Objetivo do projeto é usar o aprendizado de máquina para **criar um modelo que preveja quais passageiros sobreviveram ao naufrágio do Titanic**\n",
    "\n",
    "- É utilizado a **acurácia** para avaliar o resultado do modelo"
   ]
  },
  {
   "cell_type": "markdown",
   "id": "8e1fc2d9",
   "metadata": {},
   "source": [
    "**___________________________________________________________________________________________________________________________**\n",
    "\n",
    "# ETAPAS DO PROJETO\n",
    "- [Importação](#importacao)\n",
    "- [Feature Selection](#feat)\n",
    "- [Modelagem e Avaliação](#modelagem)\n",
    "- [Previsão](#previsao)\n",
    "- [Conclusão](#conclusao)\n",
    "- [Resumo](#resumo)"
   ]
  },
  {
   "cell_type": "markdown",
   "id": "4b1aca1f",
   "metadata": {},
   "source": [
    "**___________________________________________________________________________________________________________________________**\n",
    "<a id='importacao'></a>\n",
    "# IMPORTAÇÃO\n",
    "\n",
    "- Vamos importar as bases finais da parte 2"
   ]
  },
  {
   "cell_type": "code",
   "execution_count": 2,
   "id": "73ebb3ff",
   "metadata": {},
   "outputs": [],
   "source": [
    "# Importação de algumas bibliotecas\n",
    "import pandas as pd\n",
    "import matplotlib.pyplot as plt\n",
    "import seaborn as sns\n",
    "import string\n",
    "%matplotlib inline\n",
    "\n",
    "# Ignorando os avisos\n",
    "import warnings\n",
    "warnings.filterwarnings('ignore')"
   ]
  },
  {
   "cell_type": "code",
   "execution_count": 2,
   "id": "ce049d3e",
   "metadata": {
    "scrolled": true
   },
   "outputs": [
    {
     "data": {
      "text/html": [
       "<div>\n",
       "<style scoped>\n",
       "    .dataframe tbody tr th:only-of-type {\n",
       "        vertical-align: middle;\n",
       "    }\n",
       "\n",
       "    .dataframe tbody tr th {\n",
       "        vertical-align: top;\n",
       "    }\n",
       "\n",
       "    .dataframe thead th {\n",
       "        text-align: right;\n",
       "    }\n",
       "</style>\n",
       "<table border=\"1\" class=\"dataframe\">\n",
       "  <thead>\n",
       "    <tr style=\"text-align: right;\">\n",
       "      <th></th>\n",
       "      <th>PassengerId</th>\n",
       "      <th>Survived</th>\n",
       "      <th>Pclass</th>\n",
       "      <th>Sex_male</th>\n",
       "      <th>Embarked_C</th>\n",
       "      <th>Embarked_Q</th>\n",
       "      <th>Embarked_S</th>\n",
       "      <th>Title_Master</th>\n",
       "      <th>Title_Miss</th>\n",
       "      <th>Title_Mr</th>\n",
       "      <th>Title_Mrs</th>\n",
       "      <th>Title_Others</th>\n",
       "      <th>Classe_Idade</th>\n",
       "      <th>Family</th>\n",
       "      <th>Classe_Fare</th>\n",
       "    </tr>\n",
       "  </thead>\n",
       "  <tbody>\n",
       "    <tr>\n",
       "      <th>0</th>\n",
       "      <td>1</td>\n",
       "      <td>0</td>\n",
       "      <td>3</td>\n",
       "      <td>1</td>\n",
       "      <td>0</td>\n",
       "      <td>0</td>\n",
       "      <td>1</td>\n",
       "      <td>0</td>\n",
       "      <td>0</td>\n",
       "      <td>1</td>\n",
       "      <td>0</td>\n",
       "      <td>0</td>\n",
       "      <td>2</td>\n",
       "      <td>1</td>\n",
       "      <td>3</td>\n",
       "    </tr>\n",
       "    <tr>\n",
       "      <th>1</th>\n",
       "      <td>2</td>\n",
       "      <td>1</td>\n",
       "      <td>1</td>\n",
       "      <td>0</td>\n",
       "      <td>1</td>\n",
       "      <td>0</td>\n",
       "      <td>0</td>\n",
       "      <td>0</td>\n",
       "      <td>0</td>\n",
       "      <td>0</td>\n",
       "      <td>1</td>\n",
       "      <td>0</td>\n",
       "      <td>2</td>\n",
       "      <td>1</td>\n",
       "      <td>1</td>\n",
       "    </tr>\n",
       "    <tr>\n",
       "      <th>2</th>\n",
       "      <td>3</td>\n",
       "      <td>1</td>\n",
       "      <td>3</td>\n",
       "      <td>0</td>\n",
       "      <td>0</td>\n",
       "      <td>0</td>\n",
       "      <td>1</td>\n",
       "      <td>0</td>\n",
       "      <td>1</td>\n",
       "      <td>0</td>\n",
       "      <td>0</td>\n",
       "      <td>0</td>\n",
       "      <td>2</td>\n",
       "      <td>0</td>\n",
       "      <td>3</td>\n",
       "    </tr>\n",
       "  </tbody>\n",
       "</table>\n",
       "</div>"
      ],
      "text/plain": [
       "   PassengerId  Survived  Pclass  Sex_male  Embarked_C  Embarked_Q  \\\n",
       "0            1         0       3         1           0           0   \n",
       "1            2         1       1         0           1           0   \n",
       "2            3         1       3         0           0           0   \n",
       "\n",
       "   Embarked_S  Title_Master  Title_Miss  Title_Mr  Title_Mrs  Title_Others  \\\n",
       "0           1             0           0         1          0             0   \n",
       "1           0             0           0         0          1             0   \n",
       "2           1             0           1         0          0             0   \n",
       "\n",
       "   Classe_Idade  Family  Classe_Fare  \n",
       "0             2       1            3  \n",
       "1             2       1            1  \n",
       "2             2       0            3  "
      ]
     },
     "execution_count": 2,
     "metadata": {},
     "output_type": "execute_result"
    }
   ],
   "source": [
    "# Visualizando a base de treino\n",
    "treino = pd.read_csv('dataset_parte2/train_parte2.csv')\n",
    "treino.head(3)"
   ]
  },
  {
   "cell_type": "code",
   "execution_count": 3,
   "id": "5e19a045",
   "metadata": {
    "scrolled": false
   },
   "outputs": [
    {
     "data": {
      "text/html": [
       "<div>\n",
       "<style scoped>\n",
       "    .dataframe tbody tr th:only-of-type {\n",
       "        vertical-align: middle;\n",
       "    }\n",
       "\n",
       "    .dataframe tbody tr th {\n",
       "        vertical-align: top;\n",
       "    }\n",
       "\n",
       "    .dataframe thead th {\n",
       "        text-align: right;\n",
       "    }\n",
       "</style>\n",
       "<table border=\"1\" class=\"dataframe\">\n",
       "  <thead>\n",
       "    <tr style=\"text-align: right;\">\n",
       "      <th></th>\n",
       "      <th>PassengerId</th>\n",
       "      <th>Pclass</th>\n",
       "      <th>Sex_male</th>\n",
       "      <th>Embarked_C</th>\n",
       "      <th>Embarked_Q</th>\n",
       "      <th>Embarked_S</th>\n",
       "      <th>Title_Master</th>\n",
       "      <th>Title_Miss</th>\n",
       "      <th>Title_Mr</th>\n",
       "      <th>Title_Mrs</th>\n",
       "      <th>Title_Others</th>\n",
       "      <th>Classe_Idade</th>\n",
       "      <th>Family</th>\n",
       "      <th>Classe_Fare</th>\n",
       "    </tr>\n",
       "  </thead>\n",
       "  <tbody>\n",
       "    <tr>\n",
       "      <th>0</th>\n",
       "      <td>892</td>\n",
       "      <td>3</td>\n",
       "      <td>1</td>\n",
       "      <td>0</td>\n",
       "      <td>1</td>\n",
       "      <td>0</td>\n",
       "      <td>0</td>\n",
       "      <td>0</td>\n",
       "      <td>1</td>\n",
       "      <td>0</td>\n",
       "      <td>0</td>\n",
       "      <td>2</td>\n",
       "      <td>0</td>\n",
       "      <td>3</td>\n",
       "    </tr>\n",
       "    <tr>\n",
       "      <th>1</th>\n",
       "      <td>893</td>\n",
       "      <td>3</td>\n",
       "      <td>0</td>\n",
       "      <td>0</td>\n",
       "      <td>0</td>\n",
       "      <td>1</td>\n",
       "      <td>0</td>\n",
       "      <td>0</td>\n",
       "      <td>0</td>\n",
       "      <td>1</td>\n",
       "      <td>0</td>\n",
       "      <td>2</td>\n",
       "      <td>1</td>\n",
       "      <td>3</td>\n",
       "    </tr>\n",
       "    <tr>\n",
       "      <th>2</th>\n",
       "      <td>894</td>\n",
       "      <td>2</td>\n",
       "      <td>1</td>\n",
       "      <td>0</td>\n",
       "      <td>1</td>\n",
       "      <td>0</td>\n",
       "      <td>0</td>\n",
       "      <td>0</td>\n",
       "      <td>1</td>\n",
       "      <td>0</td>\n",
       "      <td>0</td>\n",
       "      <td>3</td>\n",
       "      <td>0</td>\n",
       "      <td>3</td>\n",
       "    </tr>\n",
       "  </tbody>\n",
       "</table>\n",
       "</div>"
      ],
      "text/plain": [
       "   PassengerId  Pclass  Sex_male  Embarked_C  Embarked_Q  Embarked_S  \\\n",
       "0          892       3         1           0           1           0   \n",
       "1          893       3         0           0           0           1   \n",
       "2          894       2         1           0           1           0   \n",
       "\n",
       "   Title_Master  Title_Miss  Title_Mr  Title_Mrs  Title_Others  Classe_Idade  \\\n",
       "0             0           0         1          0             0             2   \n",
       "1             0           0         0          1             0             2   \n",
       "2             0           0         1          0             0             3   \n",
       "\n",
       "   Family  Classe_Fare  \n",
       "0       0            3  \n",
       "1       1            3  \n",
       "2       0            3  "
      ]
     },
     "execution_count": 3,
     "metadata": {},
     "output_type": "execute_result"
    }
   ],
   "source": [
    "# Visualizando a base de teste\n",
    "teste = pd.read_csv('dataset_parte2/test_parte2.csv')\n",
    "teste.head(3)"
   ]
  },
  {
   "cell_type": "markdown",
   "id": "acee50ad",
   "metadata": {},
   "source": [
    "- Inicialmente a base será a mesma para todos os modelos"
   ]
  },
  {
   "cell_type": "code",
   "execution_count": 4,
   "id": "464b1e53",
   "metadata": {},
   "outputs": [],
   "source": [
    "# LogisticRegression\n",
    "treino_rl = treino\n",
    "\n",
    "# RandomForest\n",
    "treino_rf = treino\n",
    "\n",
    "# MLPClassifier\n",
    "treino_mlp = treino\n",
    "\n",
    "# SVC\n",
    "treino_svc = treino"
   ]
  },
  {
   "cell_type": "markdown",
   "id": "11f6df68",
   "metadata": {},
   "source": [
    "- Vamos testar essa base de dados utilizando modelos de machine learning mais avançados e armazenar os resultados das avaliações em um dataframe para facilitar a comparação com as melhorias que faremos posteriormente.\n",
    "\n",
    "<font color='red'> **Vamos dar prosseguimento ao 1º PASSO.** </font> [#1º PASSO](#passo1)"
   ]
  },
  {
   "cell_type": "markdown",
   "id": "77a18422",
   "metadata": {},
   "source": [
    "<a id='passo2'></a>\n",
    "- **Vamos continuar daqui o 2º PASSO...**\n",
    "\n",
    "**No final da parte 2 do projeto, foram sugeridas algumas análises e tratamentos que podem contribuir para aumentar a acurácia do nosso modelo.**\n",
    "\n",
    "- Após a submissão do \"submission_parte1.csv\" no Kaggle, obtivemos um Score: 0.76076\n",
    "- Após a submissão do \"submission_parte2.csv\" no Kaggle, obtivemos um Score: 0.77033\n",
    "\n",
    "**Melhorias**\n",
    "- Testar algoritmos mais avançados\n",
    "- Realizar a validação cruzada\n",
    "- Feature Selection\n",
    "- Fazer o tunning do modelo com o GridSearchCV\n",
    "\n",
    "**Vamos explorar estes pontos a seguir**"
   ]
  },
  {
   "cell_type": "markdown",
   "id": "c5e71c2d",
   "metadata": {},
   "source": [
    "**___________________________________________________________________________________________________________________________**\n",
    "<a id='feat'></a>\n",
    "# FEATURE SELECTION\n",
    "- Seleciona os recursos de acordo com as k pontuações mais altas.\n",
    "    - https://scikit-learn.org/stable/modules/generated/sklearn.feature_selection.SelectKBest.html#sklearn.feature_selection.SelectKBest"
   ]
  },
  {
   "cell_type": "code",
   "execution_count": 21,
   "id": "9c3bcd66",
   "metadata": {},
   "outputs": [],
   "source": [
    "# Importando o SelectKBest\n",
    "from sklearn.feature_selection import SelectKBest"
   ]
  },
  {
   "cell_type": "code",
   "execution_count": 22,
   "id": "2032a582",
   "metadata": {},
   "outputs": [],
   "source": [
    "# Separando os dados de treino e teste\n",
    "X = treino.drop(['PassengerId', 'Survived'],axis=1)\n",
    "y = treino['Survived']"
   ]
  },
  {
   "cell_type": "code",
   "execution_count": 23,
   "id": "c10230c9",
   "metadata": {},
   "outputs": [],
   "source": [
    "# Criando o nosso seletor\n",
    "seletor = SelectKBest(k=10).fit(X,y)"
   ]
  },
  {
   "cell_type": "code",
   "execution_count": 24,
   "id": "7594dec0",
   "metadata": {},
   "outputs": [
    {
     "data": {
      "text/html": [
       "<div>\n",
       "<style scoped>\n",
       "    .dataframe tbody tr th:only-of-type {\n",
       "        vertical-align: middle;\n",
       "    }\n",
       "\n",
       "    .dataframe tbody tr th {\n",
       "        vertical-align: top;\n",
       "    }\n",
       "\n",
       "    .dataframe thead th {\n",
       "        text-align: right;\n",
       "    }\n",
       "</style>\n",
       "<table border=\"1\" class=\"dataframe\">\n",
       "  <thead>\n",
       "    <tr style=\"text-align: right;\">\n",
       "      <th></th>\n",
       "      <th>Score</th>\n",
       "    </tr>\n",
       "  </thead>\n",
       "  <tbody>\n",
       "    <tr>\n",
       "      <th>Title_Mr</th>\n",
       "      <td>383.945495</td>\n",
       "    </tr>\n",
       "    <tr>\n",
       "      <th>Sex_male</th>\n",
       "      <td>372.405724</td>\n",
       "    </tr>\n",
       "    <tr>\n",
       "      <th>Title_Mrs</th>\n",
       "      <td>115.461086</td>\n",
       "    </tr>\n",
       "    <tr>\n",
       "      <th>Pclass</th>\n",
       "      <td>115.031272</td>\n",
       "    </tr>\n",
       "    <tr>\n",
       "      <th>Title_Miss</th>\n",
       "      <td>106.509051</td>\n",
       "    </tr>\n",
       "    <tr>\n",
       "      <th>Classe_Fare</th>\n",
       "      <td>57.695156</td>\n",
       "    </tr>\n",
       "    <tr>\n",
       "      <th>Embarked_C</th>\n",
       "      <td>25.895987</td>\n",
       "    </tr>\n",
       "    <tr>\n",
       "      <th>Embarked_S</th>\n",
       "      <td>20.374460</td>\n",
       "    </tr>\n",
       "    <tr>\n",
       "      <th>Classe_Idade</th>\n",
       "      <td>12.328492</td>\n",
       "    </tr>\n",
       "    <tr>\n",
       "      <th>Title_Master</th>\n",
       "      <td>6.503635</td>\n",
       "    </tr>\n",
       "    <tr>\n",
       "      <th>Title_Others</th>\n",
       "      <td>0.431670</td>\n",
       "    </tr>\n",
       "    <tr>\n",
       "      <th>Family</th>\n",
       "      <td>0.246193</td>\n",
       "    </tr>\n",
       "    <tr>\n",
       "      <th>Embarked_Q</th>\n",
       "      <td>0.011846</td>\n",
       "    </tr>\n",
       "  </tbody>\n",
       "</table>\n",
       "</div>"
      ],
      "text/plain": [
       "                   Score\n",
       "Title_Mr      383.945495\n",
       "Sex_male      372.405724\n",
       "Title_Mrs     115.461086\n",
       "Pclass        115.031272\n",
       "Title_Miss    106.509051\n",
       "Classe_Fare    57.695156\n",
       "Embarked_C     25.895987\n",
       "Embarked_S     20.374460\n",
       "Classe_Idade   12.328492\n",
       "Title_Master    6.503635\n",
       "Title_Others    0.431670\n",
       "Family          0.246193\n",
       "Embarked_Q      0.011846"
      ]
     },
     "execution_count": 24,
     "metadata": {},
     "output_type": "execute_result"
    }
   ],
   "source": [
    "# Visualizando os scores das colunas\n",
    "df_selection = pd.DataFrame(index=X.columns, data=seletor.scores_, columns=['Score']).sort_values('Score', ascending=False)\n",
    "df_selection"
   ]
  },
  {
   "cell_type": "code",
   "execution_count": 26,
   "id": "9fc5d93b",
   "metadata": {},
   "outputs": [
    {
     "data": {
      "text/plain": [
       "array(['Pclass', 'Sex_male', 'Embarked_C', 'Embarked_S', 'Title_Master',\n",
       "       'Title_Miss', 'Title_Mr', 'Title_Mrs', 'Classe_Idade',\n",
       "       'Classe_Fare'], dtype=object)"
      ]
     },
     "execution_count": 26,
     "metadata": {},
     "output_type": "execute_result"
    }
   ],
   "source": [
    "# Seleciona os recursos de acordo com as 10 pontuações mais altas\n",
    "seletor.get_feature_names_out()"
   ]
  },
  {
   "cell_type": "code",
   "execution_count": 27,
   "id": "c3559615",
   "metadata": {
    "scrolled": true
   },
   "outputs": [
    {
     "name": "stdout",
     "output_type": "stream",
     "text": [
      "Colunas que serão removidas:  ['PassengerId', 'Survived', 'Embarked_Q', 'Title_Others', 'Family']\n"
     ]
    }
   ],
   "source": [
    "# Seleciona as colunas que iremos remover com pontuações baixas\n",
    "remov_cols = [x for x in treino.columns if x not in seletor.get_feature_names_out()]\n",
    "print('Colunas que serão removidas: ', remov_cols)"
   ]
  },
  {
   "cell_type": "markdown",
   "id": "3e63152c",
   "metadata": {},
   "source": [
    "- Agora vamos testar novamente os modelos, porém removendo as colunas que podem atrapalhar os nossos modelos"
   ]
  },
  {
   "cell_type": "code",
   "execution_count": 28,
   "id": "3a9fccbc",
   "metadata": {},
   "outputs": [
    {
     "name": "stdout",
     "output_type": "stream",
     "text": [
      "Acurácia LogisticRegression: 0.8013593951093951\n"
     ]
    }
   ],
   "source": [
    "# LogisticRegression\n",
    "score_rl = avaliar(LogisticRegression, treino_rl, remov_cols)\n",
    "print('Acurácia LogisticRegression:', score_rl)"
   ]
  },
  {
   "cell_type": "code",
   "execution_count": 29,
   "id": "52cd2657",
   "metadata": {},
   "outputs": [
    {
     "name": "stdout",
     "output_type": "stream",
     "text": [
      "Acurácia RandomForest: 0.8272301319176318\n"
     ]
    }
   ],
   "source": [
    "# RandomForest\n",
    "score_rf = avaliar(RandomForestClassifier, treino_rf, remov_cols)\n",
    "print('Acurácia RandomForest:', score_rf)"
   ]
  },
  {
   "cell_type": "code",
   "execution_count": 30,
   "id": "e5b8256e",
   "metadata": {},
   "outputs": [
    {
     "name": "stdout",
     "output_type": "stream",
     "text": [
      "Acurácia MLPClassifier: 0.8350627413127413\n"
     ]
    }
   ],
   "source": [
    "# MLPClassifier\n",
    "score_mlp = avaliar(MLPClassifier, treino_mlp, remov_cols)\n",
    "print('Acurácia MLPClassifier:', score_mlp)"
   ]
  },
  {
   "cell_type": "code",
   "execution_count": 31,
   "id": "65dec395",
   "metadata": {},
   "outputs": [
    {
     "name": "stdout",
     "output_type": "stream",
     "text": [
      "Acurácia MLPClassifier: 0.8170246138996139\n"
     ]
    }
   ],
   "source": [
    "# MLPClassifier\n",
    "score_svc = avaliar(SVC, treino_svc, remov_cols)\n",
    "print('Acurácia MLPClassifier:', score_svc)"
   ]
  },
  {
   "cell_type": "markdown",
   "id": "83130c00",
   "metadata": {},
   "source": [
    "- Vamos agora visualizar a acurácia no dataframe e comparar com a base inicial"
   ]
  },
  {
   "cell_type": "code",
   "execution_count": 32,
   "id": "2c873dbe",
   "metadata": {
    "scrolled": false
   },
   "outputs": [
    {
     "data": {
      "text/html": [
       "<div>\n",
       "<style scoped>\n",
       "    .dataframe tbody tr th:only-of-type {\n",
       "        vertical-align: middle;\n",
       "    }\n",
       "\n",
       "    .dataframe tbody tr th {\n",
       "        vertical-align: top;\n",
       "    }\n",
       "\n",
       "    .dataframe thead th {\n",
       "        text-align: right;\n",
       "    }\n",
       "</style>\n",
       "<table border=\"1\" class=\"dataframe\">\n",
       "  <thead>\n",
       "    <tr style=\"text-align: right;\">\n",
       "      <th></th>\n",
       "      <th>modelos</th>\n",
       "      <th>Inicial</th>\n",
       "      <th>KBest</th>\n",
       "    </tr>\n",
       "  </thead>\n",
       "  <tbody>\n",
       "    <tr>\n",
       "      <th>0</th>\n",
       "      <td>LogisticRegression</td>\n",
       "      <td>0.830548</td>\n",
       "      <td>0.801359</td>\n",
       "    </tr>\n",
       "    <tr>\n",
       "      <th>1</th>\n",
       "      <td>RandomForest</td>\n",
       "      <td>0.803622</td>\n",
       "      <td>0.827230</td>\n",
       "    </tr>\n",
       "    <tr>\n",
       "      <th>2</th>\n",
       "      <td>MLPClassifier</td>\n",
       "      <td>0.821620</td>\n",
       "      <td>0.835063</td>\n",
       "    </tr>\n",
       "    <tr>\n",
       "      <th>3</th>\n",
       "      <td>SVC</td>\n",
       "      <td>0.833896</td>\n",
       "      <td>0.817025</td>\n",
       "    </tr>\n",
       "  </tbody>\n",
       "</table>\n",
       "</div>"
      ],
      "text/plain": [
       "              modelos   Inicial     KBest\n",
       "0  LogisticRegression  0.830548  0.801359\n",
       "1        RandomForest  0.803622  0.827230\n",
       "2       MLPClassifier  0.821620  0.835063\n",
       "3                 SVC  0.833896  0.817025"
      ]
     },
     "execution_count": 32,
     "metadata": {},
     "output_type": "execute_result"
    }
   ],
   "source": [
    "df_avaliacao['KBest'] = [score_rl, score_rf, score_mlp, score_svc]\n",
    "df_avaliacao"
   ]
  },
  {
   "cell_type": "markdown",
   "id": "a9c8014d",
   "metadata": {},
   "source": [
    "- Para os modelos RandomForest e MLPClassifier, iremos utilizar a base do KBest, ou seja, vamos remover as colunas ['PassengerId', 'Survived', 'Embarked_Q', 'Title_Others', 'Family']\n",
    "- Para os modelos LogisticRegression e SVC, iremos utilizar a base inicial com todas as colunas"
   ]
  },
  {
   "cell_type": "markdown",
   "id": "1e00255b",
   "metadata": {},
   "source": [
    "<a id='sex_male'></a>\n",
    "### Removendo as Colunas\n",
    "- **Base de Treino**"
   ]
  },
  {
   "cell_type": "code",
   "execution_count": 33,
   "id": "0c1aadaf",
   "metadata": {
    "scrolled": true
   },
   "outputs": [
    {
     "data": {
      "text/html": [
       "<div>\n",
       "<style scoped>\n",
       "    .dataframe tbody tr th:only-of-type {\n",
       "        vertical-align: middle;\n",
       "    }\n",
       "\n",
       "    .dataframe tbody tr th {\n",
       "        vertical-align: top;\n",
       "    }\n",
       "\n",
       "    .dataframe thead th {\n",
       "        text-align: right;\n",
       "    }\n",
       "</style>\n",
       "<table border=\"1\" class=\"dataframe\">\n",
       "  <thead>\n",
       "    <tr style=\"text-align: right;\">\n",
       "      <th></th>\n",
       "      <th>PassengerId</th>\n",
       "      <th>Survived</th>\n",
       "      <th>Pclass</th>\n",
       "      <th>Sex_male</th>\n",
       "      <th>Embarked_C</th>\n",
       "      <th>Embarked_Q</th>\n",
       "      <th>Embarked_S</th>\n",
       "      <th>Title_Master</th>\n",
       "      <th>Title_Miss</th>\n",
       "      <th>Title_Mr</th>\n",
       "      <th>Title_Mrs</th>\n",
       "      <th>Title_Others</th>\n",
       "      <th>Classe_Idade</th>\n",
       "      <th>Family</th>\n",
       "      <th>Classe_Fare</th>\n",
       "    </tr>\n",
       "  </thead>\n",
       "  <tbody>\n",
       "    <tr>\n",
       "      <th>0</th>\n",
       "      <td>1</td>\n",
       "      <td>0</td>\n",
       "      <td>3</td>\n",
       "      <td>1</td>\n",
       "      <td>0</td>\n",
       "      <td>0</td>\n",
       "      <td>1</td>\n",
       "      <td>0</td>\n",
       "      <td>0</td>\n",
       "      <td>1</td>\n",
       "      <td>0</td>\n",
       "      <td>0</td>\n",
       "      <td>2</td>\n",
       "      <td>1</td>\n",
       "      <td>3</td>\n",
       "    </tr>\n",
       "    <tr>\n",
       "      <th>1</th>\n",
       "      <td>2</td>\n",
       "      <td>1</td>\n",
       "      <td>1</td>\n",
       "      <td>0</td>\n",
       "      <td>1</td>\n",
       "      <td>0</td>\n",
       "      <td>0</td>\n",
       "      <td>0</td>\n",
       "      <td>0</td>\n",
       "      <td>0</td>\n",
       "      <td>1</td>\n",
       "      <td>0</td>\n",
       "      <td>2</td>\n",
       "      <td>1</td>\n",
       "      <td>1</td>\n",
       "    </tr>\n",
       "  </tbody>\n",
       "</table>\n",
       "</div>"
      ],
      "text/plain": [
       "   PassengerId  Survived  Pclass  Sex_male  Embarked_C  Embarked_Q  \\\n",
       "0            1         0       3         1           0           0   \n",
       "1            2         1       1         0           1           0   \n",
       "\n",
       "   Embarked_S  Title_Master  Title_Miss  Title_Mr  Title_Mrs  Title_Others  \\\n",
       "0           1             0           0         1          0             0   \n",
       "1           0             0           0         0          1             0   \n",
       "\n",
       "   Classe_Idade  Family  Classe_Fare  \n",
       "0             2       1            3  \n",
       "1             2       1            1  "
      ]
     },
     "execution_count": 33,
     "metadata": {},
     "output_type": "execute_result"
    }
   ],
   "source": [
    "# Visualizando a base de treino\n",
    "treino.head(2)"
   ]
  },
  {
   "cell_type": "code",
   "execution_count": 34,
   "id": "f22a2cb0",
   "metadata": {},
   "outputs": [],
   "source": [
    "# LogisticRegression\n",
    "treino_rl = treino\n",
    "\n",
    "# RandomForest\n",
    "treino_rf = treino.drop(['Embarked_Q', 'Title_Others', 'Family'], axis=1)\n",
    "\n",
    "# MLPClassifier\n",
    "treino_mlp = treino.drop(['Embarked_Q', 'Title_Others', 'Family'], axis=1)\n",
    "\n",
    "# SVC\n",
    "treino_svc = treino"
   ]
  },
  {
   "cell_type": "markdown",
   "id": "75c42900",
   "metadata": {},
   "source": [
    "- **Base de Teste**"
   ]
  },
  {
   "cell_type": "code",
   "execution_count": 35,
   "id": "6f8e3fec",
   "metadata": {},
   "outputs": [
    {
     "data": {
      "text/html": [
       "<div>\n",
       "<style scoped>\n",
       "    .dataframe tbody tr th:only-of-type {\n",
       "        vertical-align: middle;\n",
       "    }\n",
       "\n",
       "    .dataframe tbody tr th {\n",
       "        vertical-align: top;\n",
       "    }\n",
       "\n",
       "    .dataframe thead th {\n",
       "        text-align: right;\n",
       "    }\n",
       "</style>\n",
       "<table border=\"1\" class=\"dataframe\">\n",
       "  <thead>\n",
       "    <tr style=\"text-align: right;\">\n",
       "      <th></th>\n",
       "      <th>PassengerId</th>\n",
       "      <th>Pclass</th>\n",
       "      <th>Sex_male</th>\n",
       "      <th>Embarked_C</th>\n",
       "      <th>Embarked_Q</th>\n",
       "      <th>Embarked_S</th>\n",
       "      <th>Title_Master</th>\n",
       "      <th>Title_Miss</th>\n",
       "      <th>Title_Mr</th>\n",
       "      <th>Title_Mrs</th>\n",
       "      <th>Title_Others</th>\n",
       "      <th>Classe_Idade</th>\n",
       "      <th>Family</th>\n",
       "      <th>Classe_Fare</th>\n",
       "    </tr>\n",
       "  </thead>\n",
       "  <tbody>\n",
       "    <tr>\n",
       "      <th>0</th>\n",
       "      <td>892</td>\n",
       "      <td>3</td>\n",
       "      <td>1</td>\n",
       "      <td>0</td>\n",
       "      <td>1</td>\n",
       "      <td>0</td>\n",
       "      <td>0</td>\n",
       "      <td>0</td>\n",
       "      <td>1</td>\n",
       "      <td>0</td>\n",
       "      <td>0</td>\n",
       "      <td>2</td>\n",
       "      <td>0</td>\n",
       "      <td>3</td>\n",
       "    </tr>\n",
       "    <tr>\n",
       "      <th>1</th>\n",
       "      <td>893</td>\n",
       "      <td>3</td>\n",
       "      <td>0</td>\n",
       "      <td>0</td>\n",
       "      <td>0</td>\n",
       "      <td>1</td>\n",
       "      <td>0</td>\n",
       "      <td>0</td>\n",
       "      <td>0</td>\n",
       "      <td>1</td>\n",
       "      <td>0</td>\n",
       "      <td>2</td>\n",
       "      <td>1</td>\n",
       "      <td>3</td>\n",
       "    </tr>\n",
       "  </tbody>\n",
       "</table>\n",
       "</div>"
      ],
      "text/plain": [
       "   PassengerId  Pclass  Sex_male  Embarked_C  Embarked_Q  Embarked_S  \\\n",
       "0          892       3         1           0           1           0   \n",
       "1          893       3         0           0           0           1   \n",
       "\n",
       "   Title_Master  Title_Miss  Title_Mr  Title_Mrs  Title_Others  Classe_Idade  \\\n",
       "0             0           0         1          0             0             2   \n",
       "1             0           0         0          1             0             2   \n",
       "\n",
       "   Family  Classe_Fare  \n",
       "0       0            3  \n",
       "1       1            3  "
      ]
     },
     "execution_count": 35,
     "metadata": {},
     "output_type": "execute_result"
    }
   ],
   "source": [
    "# Visualizando a base de teste\n",
    "teste.head(2)"
   ]
  },
  {
   "cell_type": "code",
   "execution_count": 36,
   "id": "e6b2f1d6",
   "metadata": {},
   "outputs": [],
   "source": [
    "# LogisticRegression\n",
    "teste_rl = teste\n",
    "\n",
    "# RandomForest\n",
    "teste_rf = teste.drop(['Embarked_Q', 'Title_Others', 'Family'], axis=1)\n",
    "\n",
    "# MLPClassifier\n",
    "teste_mlp = teste.drop(['Embarked_Q', 'Title_Others', 'Family'], axis=1)\n",
    "\n",
    "# SVC\n",
    "teste_svc = teste"
   ]
  },
  {
   "cell_type": "markdown",
   "id": "d5869fa4",
   "metadata": {},
   "source": [
    "- Agora que **finalizamos os tratamentos**, vamos continuar executando os códigos abaixo para modelar, treinar e avaliar novamente o modelo final"
   ]
  },
  {
   "cell_type": "markdown",
   "id": "da5d66a6",
   "metadata": {},
   "source": [
    "**___________________________________________________________________________________________________________________________**\n",
    "<a id='passo1'></a> \n",
    "<a id='modelagem'></a>\n",
    "# MODELAGEM  E AVALIAÇÃO"
   ]
  },
  {
   "cell_type": "markdown",
   "id": "7a7c3c7f",
   "metadata": {},
   "source": [
    "### Modelos\n",
    "- Podemos selecionar algoritmos mais avançados dos que vimos nas partes anteriores.\n",
    "    - **Regressão Logística**\n",
    "        - https://scikit-learn.org/stable/modules/generated/sklearn.linear_model.LogisticRegression.html#sklearn.linear_model.LogisticRegression\n",
    "    - **Random Forest**\n",
    "        - https://scikit-learn.org/stable/modules/generated/sklearn.ensemble.RandomForestClassifier.html#sklearn.ensemble.RandomForestClassifier\n",
    "    - **MLPClassifier (Redes Neurais)**\n",
    "        - https://scikit-learn.org/stable/modules/generated/sklearn.neural_network.MLPClassifier.html#sklearn.neural_network.MLPClassifier\n",
    "    - **Support Vector Classification (SVC)**\n",
    "        - https://scikit-learn.org/stable/modules/generated/sklearn.svm.SVC.html"
   ]
  },
  {
   "cell_type": "markdown",
   "id": "cf6768d5",
   "metadata": {},
   "source": [
    "### Validação Cruzada\n",
    "\n",
    "- Para fazer essa análise, podemos usar:\n",
    "    - Validação Cruzada (com a acuária, método de avaliação usado na competição):\n",
    "        - https://scikit-learn.org/dev/modules/generated/sklearn.model_selection.cross_val_score.html"
   ]
  },
  {
   "cell_type": "markdown",
   "id": "528b9db5",
   "metadata": {},
   "source": [
    "### Função de Avaliação\n",
    "\n",
    "- Para facilitar nossa análise, vamos criar uma função para criar o modelo, avaliá-lo com a validação cruzada e por fim, esta função retornará o resultado da acurácia do modelo.\n",
    "\n",
    "- Vamos executar esta função e sempre que quisermos avaliar nossos modelos, basta chamar a função, inserir como parâmetro o classificador, a base de dados e as colunas que não fazem parte da nossa análise."
   ]
  },
  {
   "cell_type": "code",
   "execution_count": 37,
   "id": "1d28a659",
   "metadata": {},
   "outputs": [],
   "source": [
    "# Importando\n",
    "from sklearn.linear_model import LogisticRegression\n",
    "from sklearn.ensemble import RandomForestClassifier\n",
    "from sklearn.neural_network import MLPClassifier\n",
    "from sklearn.svm import SVC\n",
    "\n",
    "from sklearn.model_selection import cross_val_score"
   ]
  },
  {
   "cell_type": "code",
   "execution_count": 38,
   "id": "4133f297",
   "metadata": {},
   "outputs": [],
   "source": [
    "def avaliar(modelo, base, drop_colunas):\n",
    "    \n",
    "    # Separando a base de treino em X e y\n",
    "    X = base.drop(drop_colunas,axis=1)\n",
    "    y = base.Survived\n",
    "\n",
    "    ###################### Modelo\n",
    "    # Criando o classificador\n",
    "    clf = modelo(random_state=42)\n",
    "    score = cross_val_score(clf, X, y, cv=8, scoring='accuracy').mean()\n",
    "    \n",
    "    return score"
   ]
  },
  {
   "cell_type": "markdown",
   "id": "d9f38c38",
   "metadata": {},
   "source": [
    "### Regressão Logística"
   ]
  },
  {
   "cell_type": "code",
   "execution_count": 39,
   "id": "8ba5e911",
   "metadata": {
    "scrolled": true
   },
   "outputs": [
    {
     "data": {
      "text/html": [
       "<div>\n",
       "<style scoped>\n",
       "    .dataframe tbody tr th:only-of-type {\n",
       "        vertical-align: middle;\n",
       "    }\n",
       "\n",
       "    .dataframe tbody tr th {\n",
       "        vertical-align: top;\n",
       "    }\n",
       "\n",
       "    .dataframe thead th {\n",
       "        text-align: right;\n",
       "    }\n",
       "</style>\n",
       "<table border=\"1\" class=\"dataframe\">\n",
       "  <thead>\n",
       "    <tr style=\"text-align: right;\">\n",
       "      <th></th>\n",
       "      <th>PassengerId</th>\n",
       "      <th>Survived</th>\n",
       "      <th>Pclass</th>\n",
       "      <th>Sex_male</th>\n",
       "      <th>Embarked_C</th>\n",
       "      <th>Embarked_Q</th>\n",
       "      <th>Embarked_S</th>\n",
       "      <th>Title_Master</th>\n",
       "      <th>Title_Miss</th>\n",
       "      <th>Title_Mr</th>\n",
       "      <th>Title_Mrs</th>\n",
       "      <th>Title_Others</th>\n",
       "      <th>Classe_Idade</th>\n",
       "      <th>Family</th>\n",
       "      <th>Classe_Fare</th>\n",
       "    </tr>\n",
       "  </thead>\n",
       "  <tbody>\n",
       "    <tr>\n",
       "      <th>0</th>\n",
       "      <td>1</td>\n",
       "      <td>0</td>\n",
       "      <td>3</td>\n",
       "      <td>1</td>\n",
       "      <td>0</td>\n",
       "      <td>0</td>\n",
       "      <td>1</td>\n",
       "      <td>0</td>\n",
       "      <td>0</td>\n",
       "      <td>1</td>\n",
       "      <td>0</td>\n",
       "      <td>0</td>\n",
       "      <td>2</td>\n",
       "      <td>1</td>\n",
       "      <td>3</td>\n",
       "    </tr>\n",
       "    <tr>\n",
       "      <th>1</th>\n",
       "      <td>2</td>\n",
       "      <td>1</td>\n",
       "      <td>1</td>\n",
       "      <td>0</td>\n",
       "      <td>1</td>\n",
       "      <td>0</td>\n",
       "      <td>0</td>\n",
       "      <td>0</td>\n",
       "      <td>0</td>\n",
       "      <td>0</td>\n",
       "      <td>1</td>\n",
       "      <td>0</td>\n",
       "      <td>2</td>\n",
       "      <td>1</td>\n",
       "      <td>1</td>\n",
       "    </tr>\n",
       "  </tbody>\n",
       "</table>\n",
       "</div>"
      ],
      "text/plain": [
       "   PassengerId  Survived  Pclass  Sex_male  Embarked_C  Embarked_Q  \\\n",
       "0            1         0       3         1           0           0   \n",
       "1            2         1       1         0           1           0   \n",
       "\n",
       "   Embarked_S  Title_Master  Title_Miss  Title_Mr  Title_Mrs  Title_Others  \\\n",
       "0           1             0           0         1          0             0   \n",
       "1           0             0           0         0          1             0   \n",
       "\n",
       "   Classe_Idade  Family  Classe_Fare  \n",
       "0             2       1            3  \n",
       "1             2       1            1  "
      ]
     },
     "execution_count": 39,
     "metadata": {},
     "output_type": "execute_result"
    }
   ],
   "source": [
    "# Base\n",
    "treino_rl.head(2)"
   ]
  },
  {
   "cell_type": "code",
   "execution_count": 40,
   "id": "ac401a02",
   "metadata": {},
   "outputs": [
    {
     "name": "stdout",
     "output_type": "stream",
     "text": [
      "Acurácia LogisticRegression: 0.8305481821106822\n"
     ]
    }
   ],
   "source": [
    "score_rl = avaliar(LogisticRegression, treino_rl, ['PassengerId', 'Survived'])\n",
    "print('Acurácia LogisticRegression:', score_rl)"
   ]
  },
  {
   "cell_type": "markdown",
   "id": "b29d93a4",
   "metadata": {},
   "source": [
    "### Random Forest"
   ]
  },
  {
   "cell_type": "code",
   "execution_count": 41,
   "id": "9548434b",
   "metadata": {},
   "outputs": [
    {
     "data": {
      "text/html": [
       "<div>\n",
       "<style scoped>\n",
       "    .dataframe tbody tr th:only-of-type {\n",
       "        vertical-align: middle;\n",
       "    }\n",
       "\n",
       "    .dataframe tbody tr th {\n",
       "        vertical-align: top;\n",
       "    }\n",
       "\n",
       "    .dataframe thead th {\n",
       "        text-align: right;\n",
       "    }\n",
       "</style>\n",
       "<table border=\"1\" class=\"dataframe\">\n",
       "  <thead>\n",
       "    <tr style=\"text-align: right;\">\n",
       "      <th></th>\n",
       "      <th>PassengerId</th>\n",
       "      <th>Survived</th>\n",
       "      <th>Pclass</th>\n",
       "      <th>Sex_male</th>\n",
       "      <th>Embarked_C</th>\n",
       "      <th>Embarked_S</th>\n",
       "      <th>Title_Master</th>\n",
       "      <th>Title_Miss</th>\n",
       "      <th>Title_Mr</th>\n",
       "      <th>Title_Mrs</th>\n",
       "      <th>Classe_Idade</th>\n",
       "      <th>Classe_Fare</th>\n",
       "    </tr>\n",
       "  </thead>\n",
       "  <tbody>\n",
       "    <tr>\n",
       "      <th>0</th>\n",
       "      <td>1</td>\n",
       "      <td>0</td>\n",
       "      <td>3</td>\n",
       "      <td>1</td>\n",
       "      <td>0</td>\n",
       "      <td>1</td>\n",
       "      <td>0</td>\n",
       "      <td>0</td>\n",
       "      <td>1</td>\n",
       "      <td>0</td>\n",
       "      <td>2</td>\n",
       "      <td>3</td>\n",
       "    </tr>\n",
       "    <tr>\n",
       "      <th>1</th>\n",
       "      <td>2</td>\n",
       "      <td>1</td>\n",
       "      <td>1</td>\n",
       "      <td>0</td>\n",
       "      <td>1</td>\n",
       "      <td>0</td>\n",
       "      <td>0</td>\n",
       "      <td>0</td>\n",
       "      <td>0</td>\n",
       "      <td>1</td>\n",
       "      <td>2</td>\n",
       "      <td>1</td>\n",
       "    </tr>\n",
       "  </tbody>\n",
       "</table>\n",
       "</div>"
      ],
      "text/plain": [
       "   PassengerId  Survived  Pclass  Sex_male  Embarked_C  Embarked_S  \\\n",
       "0            1         0       3         1           0           1   \n",
       "1            2         1       1         0           1           0   \n",
       "\n",
       "   Title_Master  Title_Miss  Title_Mr  Title_Mrs  Classe_Idade  Classe_Fare  \n",
       "0             0           0         1          0             2            3  \n",
       "1             0           0         0          1             2            1  "
      ]
     },
     "execution_count": 41,
     "metadata": {},
     "output_type": "execute_result"
    }
   ],
   "source": [
    "# Base\n",
    "treino_rf.head(2)"
   ]
  },
  {
   "cell_type": "code",
   "execution_count": 42,
   "id": "30126fd3",
   "metadata": {},
   "outputs": [
    {
     "name": "stdout",
     "output_type": "stream",
     "text": [
      "Acurácia RandomForest: 0.8272301319176318\n"
     ]
    }
   ],
   "source": [
    "score_rf = avaliar(RandomForestClassifier, treino_rf, ['PassengerId', 'Survived'])\n",
    "print('Acurácia RandomForest:', score_rf)"
   ]
  },
  {
   "cell_type": "markdown",
   "id": "1fc8c3d8",
   "metadata": {},
   "source": [
    "### MLPClassifier (Redes Neurais)"
   ]
  },
  {
   "cell_type": "code",
   "execution_count": 43,
   "id": "68029a41",
   "metadata": {
    "scrolled": true
   },
   "outputs": [
    {
     "data": {
      "text/html": [
       "<div>\n",
       "<style scoped>\n",
       "    .dataframe tbody tr th:only-of-type {\n",
       "        vertical-align: middle;\n",
       "    }\n",
       "\n",
       "    .dataframe tbody tr th {\n",
       "        vertical-align: top;\n",
       "    }\n",
       "\n",
       "    .dataframe thead th {\n",
       "        text-align: right;\n",
       "    }\n",
       "</style>\n",
       "<table border=\"1\" class=\"dataframe\">\n",
       "  <thead>\n",
       "    <tr style=\"text-align: right;\">\n",
       "      <th></th>\n",
       "      <th>PassengerId</th>\n",
       "      <th>Survived</th>\n",
       "      <th>Pclass</th>\n",
       "      <th>Sex_male</th>\n",
       "      <th>Embarked_C</th>\n",
       "      <th>Embarked_S</th>\n",
       "      <th>Title_Master</th>\n",
       "      <th>Title_Miss</th>\n",
       "      <th>Title_Mr</th>\n",
       "      <th>Title_Mrs</th>\n",
       "      <th>Classe_Idade</th>\n",
       "      <th>Classe_Fare</th>\n",
       "    </tr>\n",
       "  </thead>\n",
       "  <tbody>\n",
       "    <tr>\n",
       "      <th>0</th>\n",
       "      <td>1</td>\n",
       "      <td>0</td>\n",
       "      <td>3</td>\n",
       "      <td>1</td>\n",
       "      <td>0</td>\n",
       "      <td>1</td>\n",
       "      <td>0</td>\n",
       "      <td>0</td>\n",
       "      <td>1</td>\n",
       "      <td>0</td>\n",
       "      <td>2</td>\n",
       "      <td>3</td>\n",
       "    </tr>\n",
       "    <tr>\n",
       "      <th>1</th>\n",
       "      <td>2</td>\n",
       "      <td>1</td>\n",
       "      <td>1</td>\n",
       "      <td>0</td>\n",
       "      <td>1</td>\n",
       "      <td>0</td>\n",
       "      <td>0</td>\n",
       "      <td>0</td>\n",
       "      <td>0</td>\n",
       "      <td>1</td>\n",
       "      <td>2</td>\n",
       "      <td>1</td>\n",
       "    </tr>\n",
       "  </tbody>\n",
       "</table>\n",
       "</div>"
      ],
      "text/plain": [
       "   PassengerId  Survived  Pclass  Sex_male  Embarked_C  Embarked_S  \\\n",
       "0            1         0       3         1           0           1   \n",
       "1            2         1       1         0           1           0   \n",
       "\n",
       "   Title_Master  Title_Miss  Title_Mr  Title_Mrs  Classe_Idade  Classe_Fare  \n",
       "0             0           0         1          0             2            3  \n",
       "1             0           0         0          1             2            1  "
      ]
     },
     "execution_count": 43,
     "metadata": {},
     "output_type": "execute_result"
    }
   ],
   "source": [
    "# Base\n",
    "treino_mlp.head(2)"
   ]
  },
  {
   "cell_type": "code",
   "execution_count": 44,
   "id": "3b6d17a4",
   "metadata": {},
   "outputs": [
    {
     "name": "stdout",
     "output_type": "stream",
     "text": [
      "Acurácia MLPClassifier: 0.8350627413127413\n"
     ]
    }
   ],
   "source": [
    "score_mlp = avaliar(MLPClassifier, treino_mlp, ['PassengerId', 'Survived'])\n",
    "print('Acurácia MLPClassifier:', score_mlp)"
   ]
  },
  {
   "cell_type": "markdown",
   "id": "89778d0a",
   "metadata": {},
   "source": [
    "### Support Vector Classification"
   ]
  },
  {
   "cell_type": "code",
   "execution_count": 45,
   "id": "c388531a",
   "metadata": {},
   "outputs": [
    {
     "data": {
      "text/html": [
       "<div>\n",
       "<style scoped>\n",
       "    .dataframe tbody tr th:only-of-type {\n",
       "        vertical-align: middle;\n",
       "    }\n",
       "\n",
       "    .dataframe tbody tr th {\n",
       "        vertical-align: top;\n",
       "    }\n",
       "\n",
       "    .dataframe thead th {\n",
       "        text-align: right;\n",
       "    }\n",
       "</style>\n",
       "<table border=\"1\" class=\"dataframe\">\n",
       "  <thead>\n",
       "    <tr style=\"text-align: right;\">\n",
       "      <th></th>\n",
       "      <th>PassengerId</th>\n",
       "      <th>Survived</th>\n",
       "      <th>Pclass</th>\n",
       "      <th>Sex_male</th>\n",
       "      <th>Embarked_C</th>\n",
       "      <th>Embarked_Q</th>\n",
       "      <th>Embarked_S</th>\n",
       "      <th>Title_Master</th>\n",
       "      <th>Title_Miss</th>\n",
       "      <th>Title_Mr</th>\n",
       "      <th>Title_Mrs</th>\n",
       "      <th>Title_Others</th>\n",
       "      <th>Classe_Idade</th>\n",
       "      <th>Family</th>\n",
       "      <th>Classe_Fare</th>\n",
       "    </tr>\n",
       "  </thead>\n",
       "  <tbody>\n",
       "    <tr>\n",
       "      <th>0</th>\n",
       "      <td>1</td>\n",
       "      <td>0</td>\n",
       "      <td>3</td>\n",
       "      <td>1</td>\n",
       "      <td>0</td>\n",
       "      <td>0</td>\n",
       "      <td>1</td>\n",
       "      <td>0</td>\n",
       "      <td>0</td>\n",
       "      <td>1</td>\n",
       "      <td>0</td>\n",
       "      <td>0</td>\n",
       "      <td>2</td>\n",
       "      <td>1</td>\n",
       "      <td>3</td>\n",
       "    </tr>\n",
       "    <tr>\n",
       "      <th>1</th>\n",
       "      <td>2</td>\n",
       "      <td>1</td>\n",
       "      <td>1</td>\n",
       "      <td>0</td>\n",
       "      <td>1</td>\n",
       "      <td>0</td>\n",
       "      <td>0</td>\n",
       "      <td>0</td>\n",
       "      <td>0</td>\n",
       "      <td>0</td>\n",
       "      <td>1</td>\n",
       "      <td>0</td>\n",
       "      <td>2</td>\n",
       "      <td>1</td>\n",
       "      <td>1</td>\n",
       "    </tr>\n",
       "  </tbody>\n",
       "</table>\n",
       "</div>"
      ],
      "text/plain": [
       "   PassengerId  Survived  Pclass  Sex_male  Embarked_C  Embarked_Q  \\\n",
       "0            1         0       3         1           0           0   \n",
       "1            2         1       1         0           1           0   \n",
       "\n",
       "   Embarked_S  Title_Master  Title_Miss  Title_Mr  Title_Mrs  Title_Others  \\\n",
       "0           1             0           0         1          0             0   \n",
       "1           0             0           0         0          1             0   \n",
       "\n",
       "   Classe_Idade  Family  Classe_Fare  \n",
       "0             2       1            3  \n",
       "1             2       1            1  "
      ]
     },
     "execution_count": 45,
     "metadata": {},
     "output_type": "execute_result"
    }
   ],
   "source": [
    "# Base\n",
    "treino_svc.head(2)"
   ]
  },
  {
   "cell_type": "code",
   "execution_count": 46,
   "id": "5d2b5cf3",
   "metadata": {},
   "outputs": [
    {
     "name": "stdout",
     "output_type": "stream",
     "text": [
      "Acurácia MLPClassifier: 0.8338963963963963\n"
     ]
    }
   ],
   "source": [
    "score_svc = avaliar(SVC, treino_svc, ['PassengerId', 'Survived'])\n",
    "print('Acurácia MLPClassifier:', score_svc)"
   ]
  },
  {
   "cell_type": "markdown",
   "id": "baa2db45",
   "metadata": {},
   "source": [
    "<font color='red'> **ATENÇÃO!** </font> \n",
    "- Se você está no 1º PASSO, continue executando os códigos abaixo para avançar para o 2º PASSO\n",
    "- Se você está no 2º PASSO, **PARABÉNS! O 2º PASSO foi finalizado.** Agora <font color='red'> **vamos dar prosseguimento ao 3º PASSO.** </font> [3º PASSO](#passo3)"
   ]
  },
  {
   "cell_type": "markdown",
   "id": "088989dd",
   "metadata": {},
   "source": [
    "### Vamos comparar os modelos com um DataFrame"
   ]
  },
  {
   "cell_type": "code",
   "execution_count": 19,
   "id": "7d9b3e22",
   "metadata": {},
   "outputs": [],
   "source": [
    "# Cria um dataframe para comparar a acurácia das nossas alterações\n",
    "df_avaliacao = pd.DataFrame({'modelos': ['LogisticRegression', 'RandomForest', 'MLPClassifier', 'SVC']})"
   ]
  },
  {
   "cell_type": "code",
   "execution_count": 20,
   "id": "f6d03181",
   "metadata": {
    "scrolled": false
   },
   "outputs": [
    {
     "data": {
      "text/html": [
       "<div>\n",
       "<style scoped>\n",
       "    .dataframe tbody tr th:only-of-type {\n",
       "        vertical-align: middle;\n",
       "    }\n",
       "\n",
       "    .dataframe tbody tr th {\n",
       "        vertical-align: top;\n",
       "    }\n",
       "\n",
       "    .dataframe thead th {\n",
       "        text-align: right;\n",
       "    }\n",
       "</style>\n",
       "<table border=\"1\" class=\"dataframe\">\n",
       "  <thead>\n",
       "    <tr style=\"text-align: right;\">\n",
       "      <th></th>\n",
       "      <th>modelos</th>\n",
       "      <th>Inicial</th>\n",
       "    </tr>\n",
       "  </thead>\n",
       "  <tbody>\n",
       "    <tr>\n",
       "      <th>0</th>\n",
       "      <td>LogisticRegression</td>\n",
       "      <td>0.830548</td>\n",
       "    </tr>\n",
       "    <tr>\n",
       "      <th>1</th>\n",
       "      <td>RandomForest</td>\n",
       "      <td>0.803622</td>\n",
       "    </tr>\n",
       "    <tr>\n",
       "      <th>2</th>\n",
       "      <td>MLPClassifier</td>\n",
       "      <td>0.821620</td>\n",
       "    </tr>\n",
       "    <tr>\n",
       "      <th>3</th>\n",
       "      <td>SVC</td>\n",
       "      <td>0.833896</td>\n",
       "    </tr>\n",
       "  </tbody>\n",
       "</table>\n",
       "</div>"
      ],
      "text/plain": [
       "              modelos   Inicial\n",
       "0  LogisticRegression  0.830548\n",
       "1        RandomForest  0.803622\n",
       "2       MLPClassifier  0.821620\n",
       "3                 SVC  0.833896"
      ]
     },
     "execution_count": 20,
     "metadata": {},
     "output_type": "execute_result"
    }
   ],
   "source": [
    "df_avaliacao['Inicial'] = [score_rl, score_rf, score_mlp, score_svc]\n",
    "df_avaliacao"
   ]
  },
  {
   "cell_type": "markdown",
   "id": "70f1646c",
   "metadata": {},
   "source": [
    "- Acima, podemos ver o resultado da nossa base de dados inicial. Essa é a mesma base utilizada no final da parte 2, porém agora foi testada com modelos de machine learning mais avançados\n",
    "- Este é o fim do **1º PASSO**. <font color='red'> **Vamos dar prosseguimento ao 2º PASSO** </font> e tratar os dados do projeto. [2º PASSO](#passo2)\n"
   ]
  },
  {
   "cell_type": "markdown",
   "id": "35cb8267",
   "metadata": {},
   "source": [
    "**___________________________________________________________________________________________________________________________**\n",
    "<a id='passo3'></a> \n",
    "<a id='melhorias'></a>\n",
    "# Melhorias"
   ]
  },
  {
   "cell_type": "markdown",
   "id": "9c37c69e",
   "metadata": {},
   "source": [
    "- **Você está iniciando o 3º e último passo...** execute os códigos abaixo e então finalize o projeto.\n",
    "\n",
    "### GridSearchCV\n",
    "- Vamos usar o **grid_search** para estimar os melhores parâmetros\n",
    "    - https://scikit-learn.org/stable/modules/generated/sklearn.model_selection.GridSearchCV.html"
   ]
  },
  {
   "cell_type": "code",
   "execution_count": 47,
   "id": "6207a3b5",
   "metadata": {
    "scrolled": true
   },
   "outputs": [
    {
     "data": {
      "text/html": [
       "<div>\n",
       "<style scoped>\n",
       "    .dataframe tbody tr th:only-of-type {\n",
       "        vertical-align: middle;\n",
       "    }\n",
       "\n",
       "    .dataframe tbody tr th {\n",
       "        vertical-align: top;\n",
       "    }\n",
       "\n",
       "    .dataframe thead th {\n",
       "        text-align: right;\n",
       "    }\n",
       "</style>\n",
       "<table border=\"1\" class=\"dataframe\">\n",
       "  <thead>\n",
       "    <tr style=\"text-align: right;\">\n",
       "      <th></th>\n",
       "      <th>modelos</th>\n",
       "      <th>Inicial</th>\n",
       "      <th>KBest</th>\n",
       "    </tr>\n",
       "  </thead>\n",
       "  <tbody>\n",
       "    <tr>\n",
       "      <th>0</th>\n",
       "      <td>LogisticRegression</td>\n",
       "      <td>0.830548</td>\n",
       "      <td>0.801359</td>\n",
       "    </tr>\n",
       "    <tr>\n",
       "      <th>1</th>\n",
       "      <td>RandomForest</td>\n",
       "      <td>0.803622</td>\n",
       "      <td>0.827230</td>\n",
       "    </tr>\n",
       "    <tr>\n",
       "      <th>2</th>\n",
       "      <td>MLPClassifier</td>\n",
       "      <td>0.821620</td>\n",
       "      <td>0.835063</td>\n",
       "    </tr>\n",
       "    <tr>\n",
       "      <th>3</th>\n",
       "      <td>SVC</td>\n",
       "      <td>0.833896</td>\n",
       "      <td>0.817025</td>\n",
       "    </tr>\n",
       "  </tbody>\n",
       "</table>\n",
       "</div>"
      ],
      "text/plain": [
       "              modelos   Inicial     KBest\n",
       "0  LogisticRegression  0.830548  0.801359\n",
       "1        RandomForest  0.803622  0.827230\n",
       "2       MLPClassifier  0.821620  0.835063\n",
       "3                 SVC  0.833896  0.817025"
      ]
     },
     "execution_count": 47,
     "metadata": {},
     "output_type": "execute_result"
    }
   ],
   "source": [
    "# Visualizando novamente a acurácia dos modelos\n",
    "df_avaliacao"
   ]
  },
  {
   "cell_type": "markdown",
   "id": "ea84a3b4",
   "metadata": {},
   "source": [
    "- Será que é possível melhorar ainda mais o nosso modelo? Vamos tentar fazer isso utilizando o GridSearchCv"
   ]
  },
  {
   "cell_type": "code",
   "execution_count": 48,
   "id": "b2e70444",
   "metadata": {},
   "outputs": [],
   "source": [
    "# Importando\n",
    "from sklearn.model_selection import GridSearchCV\n",
    "from sklearn.model_selection import KFold"
   ]
  },
  {
   "cell_type": "code",
   "execution_count": 49,
   "id": "160b64f9",
   "metadata": {},
   "outputs": [],
   "source": [
    "# Definindo os parâmetros\n",
    "parametros_rl = {\n",
    "    'penalty': ['l1','l2'],\n",
    "    'C': [0.01,0.1,1,10],\n",
    "    'solver': ['lbfgs','liblinear','saga'],\n",
    "    'max_iter': [100,1000,5000,10000]\n",
    "}"
   ]
  },
  {
   "cell_type": "code",
   "execution_count": 50,
   "id": "9c06cc04",
   "metadata": {},
   "outputs": [],
   "source": [
    "# Definindo os parâmetros\n",
    "parametros_rf = {\n",
    "    'n_estimators': [100,200,500,1000],\n",
    "    'criterion': ['gini','entropy','log_loss'],\n",
    "    'max_depth': [2,4,6,8,None],\n",
    "    'max_features': ['sqrt','log2',None]\n",
    "}"
   ]
  },
  {
   "cell_type": "code",
   "execution_count": 51,
   "id": "3c8fcbdb",
   "metadata": {},
   "outputs": [],
   "source": [
    "# Definindo os parâmetros\n",
    "parametros_mlp = {\n",
    "    'solver':  ['lbfgs','sgd','adam'],\n",
    "    'alpha': [10.0**(-1),10.0**(-5),10.0**(-7),10.0**(-10)],\n",
    "    'max_iter': [200,500,1000,5000]\n",
    "}"
   ]
  },
  {
   "cell_type": "code",
   "execution_count": 52,
   "id": "244ff119",
   "metadata": {},
   "outputs": [],
   "source": [
    "# Defindo os parâmetros\n",
    "parametros_svc = {\n",
    "    'C': [0.1, 1, 10, 100],  # Parâmetro de regularização\n",
    "    'kernel': ['linear', 'poly', 'rbf', 'sigmoid'],  # Tipo de kernel\n",
    "    'degree': [2, 3, 4],  # Grau do polinômio (usado apenas com kernel 'poly')\n",
    "    'gamma': ['scale', 'auto'],  # Coeficiente da função kernel (usado com 'rbf', 'poly' e 'sigmoid')\n",
    "    'coef0': [0.0, 0.1, 0.5],  # Termo independente na função kernel (usado com 'poly' e 'sigmoid')\n",
    "    'class_weight': [None, 'balanced']  # Peso das classes\n",
    "}\n"
   ]
  },
  {
   "cell_type": "code",
   "execution_count": 54,
   "id": "96647dad",
   "metadata": {},
   "outputs": [],
   "source": [
    "# Importando o datetime para visualizar a hora atual\n",
    "from datetime import datetime\n",
    "\n",
    "def hora_atual():\n",
    "    agora = datetime.now()\n",
    "    print(str(agora.hour) + ':' + str(agora.minute) + ':' + str(agora.second))"
   ]
  },
  {
   "cell_type": "code",
   "execution_count": 55,
   "id": "1b58d1fe",
   "metadata": {},
   "outputs": [
    {
     "name": "stdout",
     "output_type": "stream",
     "text": [
      "16:2:18\n"
     ]
    }
   ],
   "source": [
    "hora_atual()"
   ]
  },
  {
   "cell_type": "code",
   "execution_count": 56,
   "id": "ed3148c9",
   "metadata": {},
   "outputs": [],
   "source": [
    "# Definindo uma função para realizar o gridsearch\n",
    "def grid(modelo, base, parametros):\n",
    "    \n",
    "    # Separando a base de treino em X e y\n",
    "    X = base.drop(['PassengerId', 'Survived'], axis=1)\n",
    "    y = base['Survived']\n",
    "\n",
    "    print('Início: ') \n",
    "    hora_atual()\n",
    "\n",
    "    kfold = KFold(n_splits=8, random_state=42, shuffle=True)\n",
    "    \n",
    "    grid_search = GridSearchCV(modelo(random_state=42), parametros, scoring='accuracy', cv=kfold)\n",
    "    grid_search = grid_search.fit(X, y)\n",
    "\n",
    "    print('Fim: ')\n",
    "    hora_atual()\n",
    "    \n",
    "    return grid_search"
   ]
  },
  {
   "cell_type": "code",
   "execution_count": 57,
   "id": "afba4bcb",
   "metadata": {
    "scrolled": true
   },
   "outputs": [
    {
     "name": "stdout",
     "output_type": "stream",
     "text": [
      "Início: \n",
      "16:2:56\n",
      "Fim: \n",
      "16:3:53\n"
     ]
    }
   ],
   "source": [
    "# Para o Regressão Logistica\n",
    "grid_search_rl = grid(LogisticRegression, treino_rl, parametros_rl)"
   ]
  },
  {
   "cell_type": "code",
   "execution_count": 58,
   "id": "106547e6",
   "metadata": {},
   "outputs": [
    {
     "name": "stdout",
     "output_type": "stream",
     "text": [
      "Início: \n",
      "16:3:53\n",
      "Fim: \n",
      "16:35:43\n"
     ]
    }
   ],
   "source": [
    "# Para o RandomForestClassifier\n",
    "grid_search_rf = grid(RandomForestClassifier, treino_rf, parametros_rf)"
   ]
  },
  {
   "cell_type": "code",
   "execution_count": 59,
   "id": "52c4d1f5",
   "metadata": {},
   "outputs": [
    {
     "name": "stdout",
     "output_type": "stream",
     "text": [
      "Início: \n",
      "16:35:43\n",
      "Fim: \n",
      "16:49:55\n"
     ]
    }
   ],
   "source": [
    "# Para o MLPClassifier\n",
    "grid_search_mlp = grid(MLPClassifier, treino_mlp, parametros_mlp)"
   ]
  },
  {
   "cell_type": "code",
   "execution_count": 60,
   "id": "00206f11",
   "metadata": {
    "scrolled": true
   },
   "outputs": [
    {
     "name": "stdout",
     "output_type": "stream",
     "text": [
      "Início: \n",
      "16:49:55\n",
      "Fim: \n",
      "16:58:34\n"
     ]
    }
   ],
   "source": [
    "# Para o SVC\n",
    "grid_search_svc = grid(SVC, treino_svc, parametros_svc)"
   ]
  },
  {
   "cell_type": "markdown",
   "id": "c93d7022",
   "metadata": {},
   "source": [
    "- **Verificando os melhores scores**"
   ]
  },
  {
   "cell_type": "code",
   "execution_count": 61,
   "id": "a0e44b11",
   "metadata": {
    "scrolled": true
   },
   "outputs": [
    {
     "data": {
      "text/plain": [
       "0.8339064510939511"
      ]
     },
     "execution_count": 61,
     "metadata": {},
     "output_type": "execute_result"
    }
   ],
   "source": [
    "# Verificando o melhor score da regressão logística\n",
    "rl_best_score = grid_search_rl.best_score_\n",
    "rl_best_score"
   ]
  },
  {
   "cell_type": "code",
   "execution_count": 62,
   "id": "5f828c9e",
   "metadata": {
    "scrolled": true
   },
   "outputs": [
    {
     "data": {
      "text/plain": [
       "0.8305582368082369"
      ]
     },
     "execution_count": 62,
     "metadata": {},
     "output_type": "execute_result"
    }
   ],
   "source": [
    "# Para o RandomForest\n",
    "rf_best_score = grid_search_rf.best_score_\n",
    "rf_best_score"
   ]
  },
  {
   "cell_type": "code",
   "execution_count": 63,
   "id": "a9af6bb4",
   "metadata": {
    "scrolled": true
   },
   "outputs": [
    {
     "data": {
      "text/plain": [
       "0.8361888674388674"
      ]
     },
     "execution_count": 63,
     "metadata": {},
     "output_type": "execute_result"
    }
   ],
   "source": [
    "# e para o MLPClassifier\n",
    "mlp_best_score = grid_search_mlp.best_score_\n",
    "mlp_best_score"
   ]
  },
  {
   "cell_type": "code",
   "execution_count": 64,
   "id": "3a185971",
   "metadata": {},
   "outputs": [
    {
     "data": {
      "text/plain": [
       "0.8372848294723294"
      ]
     },
     "execution_count": 64,
     "metadata": {},
     "output_type": "execute_result"
    }
   ],
   "source": [
    "# e para o SupportVectorClassification\n",
    "svc_best_score = grid_search_svc.best_score_\n",
    "svc_best_score"
   ]
  },
  {
   "cell_type": "markdown",
   "id": "65c9d920",
   "metadata": {},
   "source": [
    "- **E os melhores parâmetros**"
   ]
  },
  {
   "cell_type": "code",
   "execution_count": 65,
   "id": "0bcef275",
   "metadata": {},
   "outputs": [
    {
     "data": {
      "text/plain": [
       "{'C': 1, 'max_iter': 100, 'penalty': 'l2', 'solver': 'lbfgs'}"
      ]
     },
     "execution_count": 65,
     "metadata": {},
     "output_type": "execute_result"
    }
   ],
   "source": [
    "# Verificando os melhores parâmetros da regressão logística\n",
    "grid_search_rl.best_params_"
   ]
  },
  {
   "cell_type": "code",
   "execution_count": 66,
   "id": "a2866c20",
   "metadata": {},
   "outputs": [
    {
     "data": {
      "text/plain": [
       "{'criterion': 'entropy',\n",
       " 'max_depth': 6,\n",
       " 'max_features': 'sqrt',\n",
       " 'n_estimators': 200}"
      ]
     },
     "execution_count": 66,
     "metadata": {},
     "output_type": "execute_result"
    }
   ],
   "source": [
    "# Para o RandomForest\n",
    "grid_search_rf.best_params_"
   ]
  },
  {
   "cell_type": "code",
   "execution_count": 67,
   "id": "c1f0aa91",
   "metadata": {},
   "outputs": [
    {
     "data": {
      "text/plain": [
       "{'alpha': 1e-05, 'max_iter': 200, 'solver': 'adam'}"
      ]
     },
     "execution_count": 67,
     "metadata": {},
     "output_type": "execute_result"
    }
   ],
   "source": [
    "# e para o MLPClassifier\n",
    "grid_search_mlp.best_params_"
   ]
  },
  {
   "cell_type": "code",
   "execution_count": 68,
   "id": "0a985941",
   "metadata": {},
   "outputs": [
    {
     "data": {
      "text/plain": [
       "{'C': 1,\n",
       " 'class_weight': None,\n",
       " 'coef0': 0.0,\n",
       " 'degree': 3,\n",
       " 'gamma': 'auto',\n",
       " 'kernel': 'poly'}"
      ]
     },
     "execution_count": 68,
     "metadata": {},
     "output_type": "execute_result"
    }
   ],
   "source": [
    "# e para o SupportVectorClassification\n",
    "grid_search_svc.best_params_"
   ]
  },
  {
   "cell_type": "markdown",
   "id": "c26c72a5",
   "metadata": {},
   "source": [
    "**___________________________________________________________________________________________________________________________**\n",
    "<a id='previsao'></a>\n",
    "# PREVISÃO"
   ]
  },
  {
   "cell_type": "markdown",
   "id": "1c67f835",
   "metadata": {},
   "source": [
    "- Antes de testar a base de teste, vamos analisar novamente o resultado final do nosso modelo após todos os tratamentos feitos anteriormente"
   ]
  },
  {
   "cell_type": "code",
   "execution_count": 69,
   "id": "8c97ead2",
   "metadata": {},
   "outputs": [
    {
     "data": {
      "text/html": [
       "<div>\n",
       "<style scoped>\n",
       "    .dataframe tbody tr th:only-of-type {\n",
       "        vertical-align: middle;\n",
       "    }\n",
       "\n",
       "    .dataframe tbody tr th {\n",
       "        vertical-align: top;\n",
       "    }\n",
       "\n",
       "    .dataframe thead th {\n",
       "        text-align: right;\n",
       "    }\n",
       "</style>\n",
       "<table border=\"1\" class=\"dataframe\">\n",
       "  <thead>\n",
       "    <tr style=\"text-align: right;\">\n",
       "      <th></th>\n",
       "      <th>modelos</th>\n",
       "      <th>Inicial</th>\n",
       "      <th>KBest</th>\n",
       "      <th>Grid_Best_Score</th>\n",
       "    </tr>\n",
       "  </thead>\n",
       "  <tbody>\n",
       "    <tr>\n",
       "      <th>0</th>\n",
       "      <td>LogisticRegression</td>\n",
       "      <td>0.830548</td>\n",
       "      <td>0.801359</td>\n",
       "      <td>0.833906</td>\n",
       "    </tr>\n",
       "    <tr>\n",
       "      <th>1</th>\n",
       "      <td>RandomForest</td>\n",
       "      <td>0.803622</td>\n",
       "      <td>0.827230</td>\n",
       "      <td>0.830558</td>\n",
       "    </tr>\n",
       "    <tr>\n",
       "      <th>2</th>\n",
       "      <td>MLPClassifier</td>\n",
       "      <td>0.821620</td>\n",
       "      <td>0.835063</td>\n",
       "      <td>0.836189</td>\n",
       "    </tr>\n",
       "    <tr>\n",
       "      <th>3</th>\n",
       "      <td>SVC</td>\n",
       "      <td>0.833896</td>\n",
       "      <td>0.817025</td>\n",
       "      <td>0.837285</td>\n",
       "    </tr>\n",
       "  </tbody>\n",
       "</table>\n",
       "</div>"
      ],
      "text/plain": [
       "              modelos   Inicial     KBest  Grid_Best_Score\n",
       "0  LogisticRegression  0.830548  0.801359         0.833906\n",
       "1        RandomForest  0.803622  0.827230         0.830558\n",
       "2       MLPClassifier  0.821620  0.835063         0.836189\n",
       "3                 SVC  0.833896  0.817025         0.837285"
      ]
     },
     "execution_count": 69,
     "metadata": {},
     "output_type": "execute_result"
    }
   ],
   "source": [
    "# Adiciona uma coluna e insere os resultados das avaliações\n",
    "df_avaliacao['Grid_Best_Score'] = rl_best_score, rf_best_score, mlp_best_score, svc_best_score\n",
    "df_avaliacao"
   ]
  },
  {
   "cell_type": "code",
   "execution_count": 70,
   "id": "7b165ee5",
   "metadata": {},
   "outputs": [
    {
     "data": {
      "text/plain": [
       "<matplotlib.legend.Legend at 0x2d07ddc6490>"
      ]
     },
     "execution_count": 70,
     "metadata": {},
     "output_type": "execute_result"
    },
    {
     "data": {
      "image/png": "[encoded data removed]",
      "text/plain": [
       "<Figure size 1200x400 with 1 Axes>"
      ]
     },
     "metadata": {},
     "output_type": "display_data"
    }
   ],
   "source": [
    "# Gráfico para comparar os modelos\n",
    "plt.figure(figsize=(12, 4))\n",
    "\n",
    "df_avaliacao.iloc[0, 1:].plot(label='LogisticRegression')\n",
    "df_avaliacao.iloc[1, 1:].plot(label='RandomForest')\n",
    "df_avaliacao.iloc[2, 1:].plot(label='MLPClassifier')\n",
    "df_avaliacao.iloc[3, 1:].plot(label='SupportVectorClassification')\n",
    "\n",
    "plt.legend()"
   ]
  },
  {
   "cell_type": "markdown",
   "id": "44f92228",
   "metadata": {},
   "source": [
    "- Vamos utilizar o modelo MLPClassifier (Redes Neurais) para predizer a base de teste.\n",
    "- Foi feito a submissão da predição da base de teste utilizando o modelo SupportVectorClassification, porém o mesmo obteve uma acurácia menor que o modelo MLP. Por este motivo estaremos utilizando o modelo MLP."
   ]
  },
  {
   "cell_type": "code",
   "execution_count": 71,
   "id": "89afd5cc",
   "metadata": {},
   "outputs": [
    {
     "data": {
      "text/html": [
       "<style>#sk-container-id-1 {color: black;background-color: white;}#sk-container-id-1 pre{padding: 0;}#sk-container-id-1 div.sk-toggleable {background-color: white;}#sk-container-id-1 label.sk-toggleable__label {cursor: pointer;display: block;width: 100%;margin-bottom: 0;padding: 0.3em;box-sizing: border-box;text-align: center;}#sk-container-id-1 label.sk-toggleable__label-arrow:before {content: \"▸\";float: left;margin-right: 0.25em;color: #696969;}#sk-container-id-1 label.sk-toggleable__label-arrow:hover:before {color: black;}#sk-container-id-1 div.sk-estimator:hover label.sk-toggleable__label-arrow:before {color: black;}#sk-container-id-1 div.sk-toggleable__content {max-height: 0;max-width: 0;overflow: hidden;text-align: left;background-color: #f0f8ff;}#sk-container-id-1 div.sk-toggleable__content pre {margin: 0.2em;color: black;border-radius: 0.25em;background-color: #f0f8ff;}#sk-container-id-1 input.sk-toggleable__control:checked~div.sk-toggleable__content {max-height: 200px;max-width: 100%;overflow: auto;}#sk-container-id-1 input.sk-toggleable__control:checked~label.sk-toggleable__label-arrow:before {content: \"▾\";}#sk-container-id-1 div.sk-estimator input.sk-toggleable__control:checked~label.sk-toggleable__label {background-color: #d4ebff;}#sk-container-id-1 div.sk-label input.sk-toggleable__control:checked~label.sk-toggleable__label {background-color: #d4ebff;}#sk-container-id-1 input.sk-hidden--visually {border: 0;clip: rect(1px 1px 1px 1px);clip: rect(1px, 1px, 1px, 1px);height: 1px;margin: -1px;overflow: hidden;padding: 0;position: absolute;width: 1px;}#sk-container-id-1 div.sk-estimator {font-family: monospace;background-color: #f0f8ff;border: 1px dotted black;border-radius: 0.25em;box-sizing: border-box;margin-bottom: 0.5em;}#sk-container-id-1 div.sk-estimator:hover {background-color: #d4ebff;}#sk-container-id-1 div.sk-parallel-item::after {content: \"\";width: 100%;border-bottom: 1px solid gray;flex-grow: 1;}#sk-container-id-1 div.sk-label:hover label.sk-toggleable__label {background-color: #d4ebff;}#sk-container-id-1 div.sk-serial::before {content: \"\";position: absolute;border-left: 1px solid gray;box-sizing: border-box;top: 0;bottom: 0;left: 50%;z-index: 0;}#sk-container-id-1 div.sk-serial {display: flex;flex-direction: column;align-items: center;background-color: white;padding-right: 0.2em;padding-left: 0.2em;position: relative;}#sk-container-id-1 div.sk-item {position: relative;z-index: 1;}#sk-container-id-1 div.sk-parallel {display: flex;align-items: stretch;justify-content: center;background-color: white;position: relative;}#sk-container-id-1 div.sk-item::before, #sk-container-id-1 div.sk-parallel-item::before {content: \"\";position: absolute;border-left: 1px solid gray;box-sizing: border-box;top: 0;bottom: 0;left: 50%;z-index: -1;}#sk-container-id-1 div.sk-parallel-item {display: flex;flex-direction: column;z-index: 1;position: relative;background-color: white;}#sk-container-id-1 div.sk-parallel-item:first-child::after {align-self: flex-end;width: 50%;}#sk-container-id-1 div.sk-parallel-item:last-child::after {align-self: flex-start;width: 50%;}#sk-container-id-1 div.sk-parallel-item:only-child::after {width: 0;}#sk-container-id-1 div.sk-dashed-wrapped {border: 1px dashed gray;margin: 0 0.4em 0.5em 0.4em;box-sizing: border-box;padding-bottom: 0.4em;background-color: white;}#sk-container-id-1 div.sk-label label {font-family: monospace;font-weight: bold;display: inline-block;line-height: 1.2em;}#sk-container-id-1 div.sk-label-container {text-align: center;}#sk-container-id-1 div.sk-container {/* jupyter's `normalize.less` sets `[hidden] { display: none; }` but bootstrap.min.css set `[hidden] { display: none !important; }` so we also need the `!important` here to be able to override the default hidden behavior on the sphinx rendered scikit-learn.org. See: https://github.com/scikit-learn/scikit-learn/issues/21755 */display: inline-block !important;position: relative;}#sk-container-id-1 div.sk-text-repr-fallback {display: none;}</style><div id=\"sk-container-id-1\" class=\"sk-top-container\"><div class=\"sk-text-repr-fallback\"><pre>MLPClassifier(alpha=1e-05, random_state=42)</pre><b>In a Jupyter environment, please rerun this cell to show the HTML representation or trust the notebook. <br />On GitHub, the HTML representation is unable to render, please try loading this page with nbviewer.org.</b></div><div class=\"sk-container\" hidden><div class=\"sk-item\"><div class=\"sk-estimator sk-toggleable\"><input class=\"sk-toggleable__control sk-hidden--visually\" id=\"sk-estimator-id-1\" type=\"checkbox\" checked><label for=\"sk-estimator-id-1\" class=\"sk-toggleable__label sk-toggleable__label-arrow\">MLPClassifier</label><div class=\"sk-toggleable__content\"><pre>MLPClassifier(alpha=1e-05, random_state=42)</pre></div></div></div></div></div>"
      ],
      "text/plain": [
       "MLPClassifier(alpha=1e-05, random_state=42)"
      ]
     },
     "execution_count": 71,
     "metadata": {},
     "output_type": "execute_result"
    }
   ],
   "source": [
    "# Para o MLPClassifier\n",
    "clf_best_mlp = grid_search_mlp.best_estimator_\n",
    "clf_best_mlp"
   ]
  },
  {
   "cell_type": "markdown",
   "id": "70fb0198",
   "metadata": {},
   "source": [
    "### Fazendo a previsão para os dados de teste"
   ]
  },
  {
   "cell_type": "code",
   "execution_count": 72,
   "id": "708e15b1",
   "metadata": {},
   "outputs": [],
   "source": [
    "# Separando a base de treino em X e y\n",
    "X = treino_mlp.drop(['PassengerId', 'Survived'], axis=1)\n",
    "y = treino_mlp['Survived']"
   ]
  },
  {
   "cell_type": "code",
   "execution_count": 73,
   "id": "e2661e59",
   "metadata": {
    "scrolled": false
   },
   "outputs": [
    {
     "data": {
      "text/html": [
       "<div>\n",
       "<style scoped>\n",
       "    .dataframe tbody tr th:only-of-type {\n",
       "        vertical-align: middle;\n",
       "    }\n",
       "\n",
       "    .dataframe tbody tr th {\n",
       "        vertical-align: top;\n",
       "    }\n",
       "\n",
       "    .dataframe thead th {\n",
       "        text-align: right;\n",
       "    }\n",
       "</style>\n",
       "<table border=\"1\" class=\"dataframe\">\n",
       "  <thead>\n",
       "    <tr style=\"text-align: right;\">\n",
       "      <th></th>\n",
       "      <th>Pclass</th>\n",
       "      <th>Sex_male</th>\n",
       "      <th>Embarked_C</th>\n",
       "      <th>Embarked_S</th>\n",
       "      <th>Title_Master</th>\n",
       "      <th>Title_Miss</th>\n",
       "      <th>Title_Mr</th>\n",
       "      <th>Title_Mrs</th>\n",
       "      <th>Classe_Idade</th>\n",
       "      <th>Classe_Fare</th>\n",
       "    </tr>\n",
       "  </thead>\n",
       "  <tbody>\n",
       "    <tr>\n",
       "      <th>0</th>\n",
       "      <td>3</td>\n",
       "      <td>1</td>\n",
       "      <td>0</td>\n",
       "      <td>1</td>\n",
       "      <td>0</td>\n",
       "      <td>0</td>\n",
       "      <td>1</td>\n",
       "      <td>0</td>\n",
       "      <td>2</td>\n",
       "      <td>3</td>\n",
       "    </tr>\n",
       "    <tr>\n",
       "      <th>1</th>\n",
       "      <td>1</td>\n",
       "      <td>0</td>\n",
       "      <td>1</td>\n",
       "      <td>0</td>\n",
       "      <td>0</td>\n",
       "      <td>0</td>\n",
       "      <td>0</td>\n",
       "      <td>1</td>\n",
       "      <td>2</td>\n",
       "      <td>1</td>\n",
       "    </tr>\n",
       "  </tbody>\n",
       "</table>\n",
       "</div>"
      ],
      "text/plain": [
       "   Pclass  Sex_male  Embarked_C  Embarked_S  Title_Master  Title_Miss  \\\n",
       "0       3         1           0           1             0           0   \n",
       "1       1         0           1           0             0           0   \n",
       "\n",
       "   Title_Mr  Title_Mrs  Classe_Idade  Classe_Fare  \n",
       "0         1          0             2            3  \n",
       "1         0          1             2            1  "
      ]
     },
     "execution_count": 73,
     "metadata": {},
     "output_type": "execute_result"
    }
   ],
   "source": [
    "# Visualizando o X_train\n",
    "X.head(2)"
   ]
  },
  {
   "cell_type": "code",
   "execution_count": 74,
   "id": "ca3940aa",
   "metadata": {},
   "outputs": [
    {
     "data": {
      "text/html": [
       "<div>\n",
       "<style scoped>\n",
       "    .dataframe tbody tr th:only-of-type {\n",
       "        vertical-align: middle;\n",
       "    }\n",
       "\n",
       "    .dataframe tbody tr th {\n",
       "        vertical-align: top;\n",
       "    }\n",
       "\n",
       "    .dataframe thead th {\n",
       "        text-align: right;\n",
       "    }\n",
       "</style>\n",
       "<table border=\"1\" class=\"dataframe\">\n",
       "  <thead>\n",
       "    <tr style=\"text-align: right;\">\n",
       "      <th></th>\n",
       "      <th>PassengerId</th>\n",
       "      <th>Pclass</th>\n",
       "      <th>Sex_male</th>\n",
       "      <th>Embarked_C</th>\n",
       "      <th>Embarked_S</th>\n",
       "      <th>Title_Master</th>\n",
       "      <th>Title_Miss</th>\n",
       "      <th>Title_Mr</th>\n",
       "      <th>Title_Mrs</th>\n",
       "      <th>Classe_Idade</th>\n",
       "      <th>Classe_Fare</th>\n",
       "    </tr>\n",
       "  </thead>\n",
       "  <tbody>\n",
       "    <tr>\n",
       "      <th>0</th>\n",
       "      <td>892</td>\n",
       "      <td>3</td>\n",
       "      <td>1</td>\n",
       "      <td>0</td>\n",
       "      <td>0</td>\n",
       "      <td>0</td>\n",
       "      <td>0</td>\n",
       "      <td>1</td>\n",
       "      <td>0</td>\n",
       "      <td>2</td>\n",
       "      <td>3</td>\n",
       "    </tr>\n",
       "    <tr>\n",
       "      <th>1</th>\n",
       "      <td>893</td>\n",
       "      <td>3</td>\n",
       "      <td>0</td>\n",
       "      <td>0</td>\n",
       "      <td>1</td>\n",
       "      <td>0</td>\n",
       "      <td>0</td>\n",
       "      <td>0</td>\n",
       "      <td>1</td>\n",
       "      <td>2</td>\n",
       "      <td>3</td>\n",
       "    </tr>\n",
       "  </tbody>\n",
       "</table>\n",
       "</div>"
      ],
      "text/plain": [
       "   PassengerId  Pclass  Sex_male  Embarked_C  Embarked_S  Title_Master  \\\n",
       "0          892       3         1           0           0             0   \n",
       "1          893       3         0           0           1             0   \n",
       "\n",
       "   Title_Miss  Title_Mr  Title_Mrs  Classe_Idade  Classe_Fare  \n",
       "0           0         1          0             2            3  \n",
       "1           0         0          1             2            3  "
      ]
     },
     "execution_count": 74,
     "metadata": {},
     "output_type": "execute_result"
    }
   ],
   "source": [
    "# Visualizando a base de teste\n",
    "teste_mlp.head(2)"
   ]
  },
  {
   "cell_type": "code",
   "execution_count": 75,
   "id": "4f130a33",
   "metadata": {
    "scrolled": true
   },
   "outputs": [
    {
     "data": {
      "text/html": [
       "<div>\n",
       "<style scoped>\n",
       "    .dataframe tbody tr th:only-of-type {\n",
       "        vertical-align: middle;\n",
       "    }\n",
       "\n",
       "    .dataframe tbody tr th {\n",
       "        vertical-align: top;\n",
       "    }\n",
       "\n",
       "    .dataframe thead th {\n",
       "        text-align: right;\n",
       "    }\n",
       "</style>\n",
       "<table border=\"1\" class=\"dataframe\">\n",
       "  <thead>\n",
       "    <tr style=\"text-align: right;\">\n",
       "      <th></th>\n",
       "      <th>Pclass</th>\n",
       "      <th>Sex_male</th>\n",
       "      <th>Embarked_C</th>\n",
       "      <th>Embarked_S</th>\n",
       "      <th>Title_Master</th>\n",
       "      <th>Title_Miss</th>\n",
       "      <th>Title_Mr</th>\n",
       "      <th>Title_Mrs</th>\n",
       "      <th>Classe_Idade</th>\n",
       "      <th>Classe_Fare</th>\n",
       "    </tr>\n",
       "  </thead>\n",
       "  <tbody>\n",
       "    <tr>\n",
       "      <th>0</th>\n",
       "      <td>3</td>\n",
       "      <td>1</td>\n",
       "      <td>0</td>\n",
       "      <td>0</td>\n",
       "      <td>0</td>\n",
       "      <td>0</td>\n",
       "      <td>1</td>\n",
       "      <td>0</td>\n",
       "      <td>2</td>\n",
       "      <td>3</td>\n",
       "    </tr>\n",
       "    <tr>\n",
       "      <th>1</th>\n",
       "      <td>3</td>\n",
       "      <td>0</td>\n",
       "      <td>0</td>\n",
       "      <td>1</td>\n",
       "      <td>0</td>\n",
       "      <td>0</td>\n",
       "      <td>0</td>\n",
       "      <td>1</td>\n",
       "      <td>2</td>\n",
       "      <td>3</td>\n",
       "    </tr>\n",
       "  </tbody>\n",
       "</table>\n",
       "</div>"
      ],
      "text/plain": [
       "   Pclass  Sex_male  Embarked_C  Embarked_S  Title_Master  Title_Miss  \\\n",
       "0       3         1           0           0             0           0   \n",
       "1       3         0           0           1             0           0   \n",
       "\n",
       "   Title_Mr  Title_Mrs  Classe_Idade  Classe_Fare  \n",
       "0         1          0             2            3  \n",
       "1         0          1             2            3  "
      ]
     },
     "execution_count": 75,
     "metadata": {},
     "output_type": "execute_result"
    }
   ],
   "source": [
    "# Para a base de teste ser igual a base de treino, precisamos eliminar algumas colunas\n",
    "X_teste = teste_mlp.drop(['PassengerId'],axis=1)\n",
    "X_teste.head(2)"
   ]
  },
  {
   "cell_type": "markdown",
   "id": "91afadbf",
   "metadata": {},
   "source": [
    "- Para fazer previsão nos dados de teste, vamos treinar novamente o modelo, mas agora com todos os valores de treino"
   ]
  },
  {
   "cell_type": "code",
   "execution_count": 76,
   "id": "ead0e0f7",
   "metadata": {},
   "outputs": [],
   "source": [
    "# Criando o classificador\n",
    "clf_best_mlp = MLPClassifier(alpha=1e-05, random_state=42)\n",
    "\n",
    "# Fazendo o fit com TODOS os dados de treino\n",
    "clf_best_mlp = clf_best_mlp.fit(X, y)"
   ]
  },
  {
   "cell_type": "markdown",
   "id": "f6216559",
   "metadata": {},
   "source": [
    "- Fazendo a previsão nos dados de teste, os dados que ainda não foram \"vistos\" pelo nosso modelo"
   ]
  },
  {
   "cell_type": "code",
   "execution_count": 77,
   "id": "a88ce180",
   "metadata": {},
   "outputs": [],
   "source": [
    "# Utilizando o MLPClassifier na base de teste\n",
    "y_pred = clf_best_mlp.predict(X_teste)"
   ]
  },
  {
   "cell_type": "code",
   "execution_count": 78,
   "id": "f600d8e0",
   "metadata": {},
   "outputs": [],
   "source": [
    "# Criando uma nova coluna com a previsão na base de teste\n",
    "teste_mlp['Survived'] = y_pred"
   ]
  },
  {
   "cell_type": "code",
   "execution_count": 79,
   "id": "a7f24559",
   "metadata": {},
   "outputs": [
    {
     "data": {
      "text/html": [
       "<div>\n",
       "<style scoped>\n",
       "    .dataframe tbody tr th:only-of-type {\n",
       "        vertical-align: middle;\n",
       "    }\n",
       "\n",
       "    .dataframe tbody tr th {\n",
       "        vertical-align: top;\n",
       "    }\n",
       "\n",
       "    .dataframe thead th {\n",
       "        text-align: right;\n",
       "    }\n",
       "</style>\n",
       "<table border=\"1\" class=\"dataframe\">\n",
       "  <thead>\n",
       "    <tr style=\"text-align: right;\">\n",
       "      <th></th>\n",
       "      <th>PassengerId</th>\n",
       "      <th>Survived</th>\n",
       "    </tr>\n",
       "  </thead>\n",
       "  <tbody>\n",
       "    <tr>\n",
       "      <th>0</th>\n",
       "      <td>892</td>\n",
       "      <td>0</td>\n",
       "    </tr>\n",
       "    <tr>\n",
       "      <th>1</th>\n",
       "      <td>893</td>\n",
       "      <td>1</td>\n",
       "    </tr>\n",
       "    <tr>\n",
       "      <th>2</th>\n",
       "      <td>894</td>\n",
       "      <td>0</td>\n",
       "    </tr>\n",
       "    <tr>\n",
       "      <th>3</th>\n",
       "      <td>895</td>\n",
       "      <td>0</td>\n",
       "    </tr>\n",
       "    <tr>\n",
       "      <th>4</th>\n",
       "      <td>896</td>\n",
       "      <td>1</td>\n",
       "    </tr>\n",
       "  </tbody>\n",
       "</table>\n",
       "</div>"
      ],
      "text/plain": [
       "   PassengerId  Survived\n",
       "0          892         0\n",
       "1          893         1\n",
       "2          894         0\n",
       "3          895         0\n",
       "4          896         1"
      ]
     },
     "execution_count": 79,
     "metadata": {},
     "output_type": "execute_result"
    }
   ],
   "source": [
    "# Selecionando apenas a coluna de Id e Survived para fazer o envio\n",
    "base_envio = teste_mlp[['PassengerId','Survived']]\n",
    "base_envio.head()"
   ]
  },
  {
   "cell_type": "code",
   "execution_count": 80,
   "id": "ced64242",
   "metadata": {},
   "outputs": [],
   "source": [
    "# Exportando para um csv\n",
    "base_envio.to_csv('submission/submission_parte3.csv',index=False)"
   ]
  },
  {
   "cell_type": "markdown",
   "id": "c1cc142d",
   "metadata": {},
   "source": [
    "- Agora que temos os resultados previstos pelo nosso modelo, podemos ir ao [Kaggle](https://www.kaggle.com/competitions/titanic/submissions) e fazer a submissão e verificar qual foi a acurácia do modelo."
   ]
  },
  {
   "cell_type": "markdown",
   "id": "1757499f",
   "metadata": {},
   "source": [
    "**___________________________________________________________________________________________________________________________**\n",
    "<a id='conclusao'></a>\n",
    "# CONCLUSÃO\n",
    "\n",
    "- Após a submissão do submission_parte1.csv no Kaggle, obtivemos um Score: 0.76076\n",
    "- Após a submissão do submission_parte2.csv no Kaggle, obtivemos um Score: 0.77033\n",
    "- Após a submissão do submission_parte3.csv no Kaggle, obtivemos um Score: 0.78468"
   ]
  },
  {
   "cell_type": "code",
   "execution_count": 3,
   "id": "734e420a",
   "metadata": {
    "scrolled": false
   },
   "outputs": [
    {
     "data": {
      "image/png": "[encoded data removed]",
      "text/plain": [
       "<Figure size 640x480 with 1 Axes>"
      ]
     },
     "metadata": {},
     "output_type": "display_data"
    }
   ],
   "source": [
    "# Gráfico do histórico dos resultados\n",
    "x = [1, 2, 3]\n",
    "y = [0.76076, 0.77033, 0.78468]\n",
    "\n",
    "plt.plot(x, y, '-o')\n",
    "\n",
    "plt.xticks(x, ['Parte1', 'Parte2', 'Parte3'])\n",
    "plt.yticks([])\n",
    "\n",
    "# Deixar apenas o eixo x visível  \n",
    "plt.gca().spines['left'].set_visible(False)  \n",
    "plt.gca().spines['right'].set_visible(False)  \n",
    "plt.gca().spines['top'].set_visible(False)  \n",
    "plt.gca().spines['bottom'].set_visible(False)\n",
    "\n",
    "for i, y_valor in enumerate(y):\n",
    "    plt.annotate(y_valor, [x[i]+0.08, y[i]])\n",
    "\n",
    "plt.title('Histórico dos Resultados')\n",
    "\n",
    "plt.show()"
   ]
  },
  {
   "cell_type": "markdown",
   "id": "959eb5fb",
   "metadata": {},
   "source": [
    "**___________________________________________________________________________________________________________________________**\n",
    "<a id='resumo'></a>\n",
    "# RESUMO\n",
    "\n",
    "### Parte 1\n",
    "\n",
    "**Tratamento**\n",
    "- Coluna Embarked valores nulos atualizados com o valor \"S\"\n",
    "- Coluna Fare valores nulos atualizados com o valor 7.0\n",
    "- Coluna Age, os valores nulos foram substituidos pela mediana das idades de acordo com a classe (Pclass) e o sexo (Sex)\n",
    "- Coluna Cabin foi removida devido a alta cardinalidade e muitos valores nulos\n",
    "- Coluna Sex foi transformada para numérica com valores 1 para male e 0 para female\n",
    "- Coluna Embarked foi transformada em numérica utilizando o método OneHotEncoder\n",
    "- Coluna Name e Ticket foi removida por possuir alta cardinalidade\n",
    "\n",
    "**Modelagem e Avaliação**\n",
    "- Foram criados três modelos para fazer a previsão\n",
    "    - Acurácia DecisionTree: 0.76\n",
    "    - Acurácia KNN: 0.73\n",
    "    - Acurácia LogisticRegression: 0.82\n",
    "\n",
    "**Submissão Kaggle (LogisticRegression)**\n",
    "- Score: 0.76076\n",
    "\n",
    "### Parte 2\n",
    "\n",
    "**Tratamento**\n",
    "- Coluna Name: foi retirado o título pertencente a cada registro e então codificado com o OneHotEncoder.\n",
    "- Coluna Age: foi criado uma classificação para as idades, sendo elas, criança, adulto e idoso e então codificado em numérico.\n",
    "- Coluna SibSp e Parch: foi criado uma nova coluna Family que é a soma dos valores das colunas SibSp e Parch\n",
    "- Coluna Fare: foi removida a coluna Fare, deixando apenas a coluna Pclass\n",
    "\n",
    "**Modelagem e Avaliação**\n",
    "- Foram criados três modelos para fazer a previsão\n",
    "    - Acurácia DecisionTree: 0.78\n",
    "    - Acurácia KNN: 0.78\n",
    "    - Acurácia LogisticRegression: 0.84\n",
    "    \n",
    "**Submissão Kaggle (LogisticRegression)**\n",
    "- Score: 0.77033\n",
    "\n",
    "### Parte 3\n",
    "\n",
    "**Tratamento**\n",
    "- Utilizamos quatro modelos de Machine Learning: LogisticRegression, RandomForest, MLPClassifier e SVC\n",
    "- Além disso, fizemos a validação cruzada e a seleção de features.\n",
    "- Na seleção de features, foi identificado que as colunas 'PassengerId', 'Survived', 'Embarked_Q', 'Title_Others' e 'Family' tiveram baixa pontuação e poderiam ser removidas\n",
    "- Por fim, foi realizado o GridSearchCV para identificar os melhores parâmetros para cada modelo e com isso, conseguimos melhorar a acurácia.\n",
    "\n",
    "**Modelagem e Avaliação**\n",
    "- Foram criados quatro modelos para fazer a previsão:\n",
    "    - Acurácia LogisticRegression: 0.8339\n",
    "    - Acurácia RandomForest: 0.8305\n",
    "    - Acurácia MLPClassifier: 0.8361\n",
    "    - Acurácia SVC: 0.8372\n",
    "    \n",
    "**Submissão Kaggle (MLPClassifier)**\n",
    "- Score: 0.78468"
   ]
  },
  {
   "cell_type": "markdown",
   "id": "836c80e8",
   "metadata": {},
   "source": [
    "### Código dos tratamentos\n",
    "```\n",
    "######################## PARTE 1 #######################################\n",
    "# Tratando a Coluna Embarked - Base de Treino\n",
    "treino.loc[treino['Embarked'].isnull(), 'Embarked'] = 'S'\n",
    "\n",
    "# Tratando a Coluna Age - Base de Treino e Teste\n",
    "treino['Age'].fillna(treino.groupby(['Pclass', 'Sex'])['Age'].transform('median'), inplace=True)\n",
    "teste['Age'].fillna(teste.groupby(['Pclass', 'Sex'])['Age'].transform('median'), inplace=True)\n",
    "\n",
    "# Tratando a Coluna Fare - Base de Teste\n",
    "teste.loc[teste['Fare'].isnull(), 'Fare'] = 7.0\n",
    "\n",
    "# Tratando a Coluna Sex - Base de Treino e Teste\n",
    "treino['Sex_male'] = pd.get_dummies(treino['Sex'], drop_first=True, dtype='int32')\n",
    "teste['Sex_male'] = pd.get_dummies(teste['Sex'], drop_first=True, dtype='int32')\n",
    "\n",
    "# Importando OneHotEnconder\n",
    "from sklearn.preprocessing import OneHotEncoder\n",
    "\n",
    "# Tratando a Coluna Embarked - Base de Treino e Teste\n",
    "ohe = OneHotEncoder(handle_unknown='ignore',dtype='int32')\n",
    "\n",
    "ohe_df_treino = pd.DataFrame(ohe.fit_transform(treino[['Embarked']]).toarray(), columns=ohe.get_feature_names_out())\n",
    "treino = pd.concat([treino, ohe_df_treino], axis=1)\n",
    "\n",
    "ohe_df_teste = pd.DataFrame(ohe.transform(teste[['Embarked']]).toarray(), columns=ohe.get_feature_names_out())\n",
    "teste = pd.concat([teste, ohe_df_teste], axis=1)\n",
    "\n",
    "# Removendo as colunas\n",
    "treino.drop(['Cabin', 'Sex', 'Embarked', 'Ticket'], axis=1, inplace=True)\n",
    "\n",
    "# Removendo as colunas\n",
    "teste.drop(['Cabin', 'Sex', 'Embarked', 'Ticket'], axis=1, inplace=True)\n",
    "\n",
    "######################## PARTE 2 #######################################\n",
    "\n",
    "# importando a biblioteca string\n",
    "import string\n",
    "\n",
    "# Cria uma função que retorna apenas o título de cada registro\n",
    "def title(texto):\n",
    "    return ''.join([x for x in texto.split(',')[-1] if x not in string.punctuation]).split()[0]\n",
    "\n",
    "# Aplicando a função para todas as linhas e retornando apenas o título\n",
    "# O título então é armazenado em uma nova coluna chamada \"Title\"\n",
    "treino['Title'] = treino['Name'].apply(lambda x: title(x))\n",
    "\n",
    "# Deixando apenas os títulos Mr, Miss, Mrs e Master, os demais iremos nomeá-los como \"others\"\n",
    "treino['Title'] = treino['Title'].apply(lambda x: x if x in ('Mr', 'Miss', 'Mrs', 'Master') else 'Others')\n",
    "\n",
    "# transformando em numérico\n",
    "treino = pd.get_dummies(treino, prefix='Title', dtype='int32', columns=['Title'])\n",
    "\n",
    "# Aplicando a função para todas as linhas e retornando apenas o título\n",
    "# O título então é armazenado em uma nova coluna chamada \"Title\"\n",
    "teste['Title'] = teste['Name'].apply(lambda x: title(x))\n",
    "\n",
    "# Deixando apenas os títulos Mr, Miss, Mrs e Master, os demais iremos nomeá-los como \"others\"\n",
    "teste['Title'] = teste['Title'].apply(lambda x: x if x in ('Mr', 'Miss', 'Mrs', 'Master') else 'Others')\n",
    "\n",
    "# Codificando a coluna Title para transformar os valores do tipo texto em valores numéricos\n",
    "teste = pd.get_dummies(teste, prefix='Title', dtype='int32', columns=['Title'])\n",
    "\n",
    "# Função para classificar as idades\n",
    "def classifica_idade(idade):\n",
    "    if idade < 18:\n",
    "        return 1\n",
    "    elif idade >= 18 and idade < 55:\n",
    "        return 2\n",
    "    else:\n",
    "        return 3\n",
    "\n",
    "# Criando uma coluna com a classificação das idades para a base de treino\n",
    "treino['Classe_Idade'] = treino['Age'].apply(lambda x: classifica_idade(x))\n",
    "\n",
    "# Criando uma coluna com a classificação das idades para a base de teste\n",
    "teste['Classe_Idade'] = teste['Age'].apply(lambda x: classifica_idade(x))\n",
    "\n",
    "# Unindo SipSp e Parch para a base de treino\n",
    "treino['Family'] = treino['SibSp'] + treino['Parch']\n",
    "\n",
    "# Unindo SipSp e Parch para a base de teste\n",
    "teste['Family'] = teste['SibSp'] + teste['Parch']\n",
    "\n",
    "# Removendo as colunas da base de treino\n",
    "treino.drop(['Name', 'Age', 'SibSp', 'Parch', 'Fare'], axis=1, inplace=True)\n",
    "\n",
    "# Removendo as colunas da base de teste\n",
    "teste.drop(['Name', 'Age', 'SibSp', 'Parch', 'Fare'], axis=1, inplace=True)\n",
    "\n",
    "######################## PARTE 3 #######################################\n",
    "\n",
    "# Importando o SelectKBest\n",
    "from sklearn.feature_selection import SelectKBest\n",
    "\n",
    "# Separando os dados de treino e teste\n",
    "X = treino.drop(['PassengerId', 'Survived'],axis=1)\n",
    "y = treino['Survived']\n",
    "\n",
    "# Criando o nosso seletor\n",
    "seletor = SelectKBest(k=10).fit(X,y)\n",
    "\n",
    "# Seleciona as colunas que iremos remover com pontuações baixas\n",
    "remov_cols = [x for x in treino.columns if x not in seletor.get_feature_names_out()]\n",
    "\n",
    "# Definindo a base de treino e teste para o modelo MLPClassifier\n",
    "treino_mlp = treino.drop(['Embarked_Q', 'Title_Others', 'Family'], axis=1)\n",
    "teste_mlp = teste.drop(['Embarked_Q', 'Title_Others', 'Family'], axis=1)\n",
    "\n",
    "# Definindo os parâmetros para o GridSearchCV\n",
    "parametros_mlp = {\n",
    "    'solver':  ['lbfgs','sgd','adam'],\n",
    "    'alpha': [10.0**(-1),10.0**(-5),10.0**(-7),10.0**(-10)],\n",
    "    'max_iter': [200,500,1000,5000]\n",
    "}\n",
    "\n",
    "# Importando o datetime para visualizar a hora atual\n",
    "from datetime import datetime\n",
    "\n",
    "def hora_atual():\n",
    "    agora = datetime.now()\n",
    "    print(str(agora.hour) + ':' + str(agora.minute) + ':' + str(agora.second))\n",
    "\n",
    "# Definindo uma função para realizar o gridsearch\n",
    "def grid(modelo, base, parametros):\n",
    "    \n",
    "    # Separando a base de treino em X e y\n",
    "    X = base.drop(['PassengerId', 'Survived'], axis=1)\n",
    "    y = base['Survived']\n",
    "\n",
    "    print('Início: ') \n",
    "    hora_atual()\n",
    "\n",
    "    kfold = KFold(n_splits=8, random_state=42, shuffle=True)\n",
    "    \n",
    "    grid_search = GridSearchCV(modelo(random_state=42), parametros, scoring='accuracy', cv=kfold)\n",
    "    grid_search = grid_search.fit(X, y)\n",
    "\n",
    "    print('Fim: ')\n",
    "    hora_atual()\n",
    "    \n",
    "    return grid_search\n",
    "\n",
    "\n",
    "# Chama a função para o MLPClassifier\n",
    "grid_search_mlp = grid(MLPClassifier, treino_mlp, parametros_mlp)\n",
    "\n",
    "# Separando a base de treino em X e y\n",
    "X = treino_mlp.drop(['PassengerId', 'Survived'], axis=1)\n",
    "y = treino_mlp['Survived']\n",
    "\n",
    "# Para a base de teste ser igual a base de treino, precisamos eliminar algumas colunas\n",
    "X_teste = teste_mlp.drop(['PassengerId'],axis=1)\n",
    "\n",
    "# Criando o classificador com os melhores parâmetros\n",
    "clf_best_mlp = MLPClassifier(alpha=1e-05, random_state=42)\n",
    "\n",
    "# Fazendo o fit com TODOS os dados de treino\n",
    "clf_best_mlp = clf_best_mlp.fit(X, y)\n",
    "\n",
    "# Utilizando o MLPClassifier na base de teste\n",
    "y_pred = clf_best_mlp.predict(X_teste)\n",
    "\n",
    "# Criando uma nova coluna com a previsão na base de teste\n",
    "teste_mlp['Survived'] = y_pred\n",
    "\n",
    "# Selecionando apenas a coluna de Id e Survived para fazer o envio\n",
    "base_envio = teste_mlp[['PassengerId','Survived']]\n",
    "base_envio.head()\n",
    "\n",
    "# Exportando para um csv\n",
    "base_envio.to_csv('submission_parte3.csv',index=False)\n",
    "```"
   ]
  }
 ],
 "metadata": {
  "kernelspec": {
   "display_name": "Python 3 (ipykernel)",
   "language": "python",
   "name": "python3"
  },
  "language_info": {
   "codemirror_mode": {
    "name": "ipython",
    "version": 3
   },
   "file_extension": ".py",
   "mimetype": "text/x-python",
   "name": "python",
   "nbconvert_exporter": "python",
   "pygments_lexer": "ipython3",
   "version": "3.11.5"
  }
 },
 "nbformat": 4,
 "nbformat_minor": 5
}
