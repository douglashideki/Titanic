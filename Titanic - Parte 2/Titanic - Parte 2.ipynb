{
 "cells": [
  {
   "cell_type": "markdown",
   "id": "63baa6ef",
   "metadata": {},
   "source": [
    "# TITANIC - Machine Learning from Disaster\n",
    "\n",
    "- Será abordado neste projeto um conjunto de dados muito famoso do Titanic que faz parte de uma competição do Kaggle.\n",
    "\n",
    "- [Clique aqui para acessar os dados disponíveis no Kaggle](https://www.kaggle.com/competitions/titanic)\n",
    "\n",
    "- Objetivo do projeto é usar o aprendizado de máquina para **criar um modelo que preveja quais passageiros sobreviveram ao naufrágio do Titanic**\n",
    "\n",
    "- É utilizado a **acurácia** para avaliar o resultado do modelo"
   ]
  },
  {
   "cell_type": "markdown",
   "id": "f2b82880",
   "metadata": {},
   "source": [
    "**___________________________________________________________________________________________________________________________**\n",
    "\n",
    "# DESCRIÇÃO DO DATASET\n",
    "\n",
    "- **Variáveis**\n",
    "    - Survival:\tSobrevivência (0 = Não, 1 = Sim)\n",
    "    - Pclass: Classe do bilhete\t(1 = 1º, 2 = 2º, 3 = 3º)\n",
    "    - Sex: Gênero\t\n",
    "    - Age: Idade em anos\t\n",
    "    - Sibsp: Nº de irmãos/cônjuges a bordo do Titanic\t\n",
    "    - Parch: Nº de pais/filhos a bordo do Titanic\t\t\n",
    "    - Ticket: Número do bilhete\t\t\n",
    "    - Fare:\tTarifa do passageiro\t\n",
    "    - Cabin: Número da cabine\t\n",
    "    - Embarked:\tPorto de embarcação\t(C = Cherbourg, Q = Queenstown, S = Southampton)\n",
    "\n",
    "&nbsp;\n",
    "\n",
    "- **Notas de Variáveis**\n",
    "    - pclass: Um proxy para status socioeconômico (SES)\n",
    "        - 1º = Alto\n",
    "        - 2º = Médio\n",
    "        - 3º = Baixo\n",
    "     - age: A idade é fracionária se for menor que 1. Se a idade for estimada, ela está no formato de xx.5\n",
    "     - sibsp: O conjunto de dados define as relações familiares desta forma...\n",
    "        - Irmão = irmão, irmã, meio-irmão, meia-irmã\n",
    "        - Cônjuge = marido, esposa (amantes e noivos foram ignorados)\n",
    "     - parch: O conjunto de dados define as relações familiares desta forma...\n",
    "        - Pais = mãe, pai\n",
    "        - Filho = filha, filho, enteada, enteado\n",
    "        - Algumas crianças viajaram apenas com uma babá, portanto parch=0 para elas."
   ]
  },
  {
   "cell_type": "markdown",
   "id": "8e1fc2d9",
   "metadata": {},
   "source": [
    "**___________________________________________________________________________________________________________________________**\n",
    "\n",
    "# ETAPAS DO PROJETO\n",
    "- [Importação](#importacao)\n",
    "- [Tratamento](#tratamento)\n",
    "- [Modelagem](#modelagem)\n",
    "- [Avaliação](#avaliacao)\n",
    "- [Previsão](#previsao)\n",
    "- [Conclusão](#conclusao)\n",
    "- [Resumo](#resumo)\n",
    "- [Exportação Base Final Parte 2](#exportacao)\n"
   ]
  },
  {
   "cell_type": "markdown",
   "id": "4b1aca1f",
   "metadata": {},
   "source": [
    "**___________________________________________________________________________________________________________________________**\n",
    "<a id='importacao'></a>\n",
    "# IMPORTAÇÃO\n",
    "\n",
    "- Vamos importar novamente as bases e replicar todos os tratamentos que foram feitos na parte 1 do projeto"
   ]
  },
  {
   "cell_type": "code",
   "execution_count": 203,
   "id": "73ebb3ff",
   "metadata": {},
   "outputs": [],
   "source": [
    "# Importação de algumas bibliotecas\n",
    "import pandas as pd\n",
    "import matplotlib.pyplot as plt\n",
    "import seaborn as sns\n",
    "%matplotlib inline"
   ]
  },
  {
   "cell_type": "code",
   "execution_count": 204,
   "id": "ce049d3e",
   "metadata": {
    "scrolled": true
   },
   "outputs": [
    {
     "data": {
      "text/html": [
       "<div>\n",
       "<style scoped>\n",
       "    .dataframe tbody tr th:only-of-type {\n",
       "        vertical-align: middle;\n",
       "    }\n",
       "\n",
       "    .dataframe tbody tr th {\n",
       "        vertical-align: top;\n",
       "    }\n",
       "\n",
       "    .dataframe thead th {\n",
       "        text-align: right;\n",
       "    }\n",
       "</style>\n",
       "<table border=\"1\" class=\"dataframe\">\n",
       "  <thead>\n",
       "    <tr style=\"text-align: right;\">\n",
       "      <th></th>\n",
       "      <th>PassengerId</th>\n",
       "      <th>Survived</th>\n",
       "      <th>Pclass</th>\n",
       "      <th>Name</th>\n",
       "      <th>Sex</th>\n",
       "      <th>Age</th>\n",
       "      <th>SibSp</th>\n",
       "      <th>Parch</th>\n",
       "      <th>Ticket</th>\n",
       "      <th>Fare</th>\n",
       "      <th>Cabin</th>\n",
       "      <th>Embarked</th>\n",
       "    </tr>\n",
       "  </thead>\n",
       "  <tbody>\n",
       "    <tr>\n",
       "      <th>0</th>\n",
       "      <td>1</td>\n",
       "      <td>0</td>\n",
       "      <td>3</td>\n",
       "      <td>Braund, Mr. Owen Harris</td>\n",
       "      <td>male</td>\n",
       "      <td>22.0</td>\n",
       "      <td>1</td>\n",
       "      <td>0</td>\n",
       "      <td>A/5 21171</td>\n",
       "      <td>7.2500</td>\n",
       "      <td>NaN</td>\n",
       "      <td>S</td>\n",
       "    </tr>\n",
       "    <tr>\n",
       "      <th>1</th>\n",
       "      <td>2</td>\n",
       "      <td>1</td>\n",
       "      <td>1</td>\n",
       "      <td>Cumings, Mrs. John Bradley (Florence Briggs Th...</td>\n",
       "      <td>female</td>\n",
       "      <td>38.0</td>\n",
       "      <td>1</td>\n",
       "      <td>0</td>\n",
       "      <td>PC 17599</td>\n",
       "      <td>71.2833</td>\n",
       "      <td>C85</td>\n",
       "      <td>C</td>\n",
       "    </tr>\n",
       "    <tr>\n",
       "      <th>2</th>\n",
       "      <td>3</td>\n",
       "      <td>1</td>\n",
       "      <td>3</td>\n",
       "      <td>Heikkinen, Miss. Laina</td>\n",
       "      <td>female</td>\n",
       "      <td>26.0</td>\n",
       "      <td>0</td>\n",
       "      <td>0</td>\n",
       "      <td>STON/O2. 3101282</td>\n",
       "      <td>7.9250</td>\n",
       "      <td>NaN</td>\n",
       "      <td>S</td>\n",
       "    </tr>\n",
       "  </tbody>\n",
       "</table>\n",
       "</div>"
      ],
      "text/plain": [
       "   PassengerId  Survived  Pclass  \\\n",
       "0            1         0       3   \n",
       "1            2         1       1   \n",
       "2            3         1       3   \n",
       "\n",
       "                                                Name     Sex   Age  SibSp  \\\n",
       "0                            Braund, Mr. Owen Harris    male  22.0      1   \n",
       "1  Cumings, Mrs. John Bradley (Florence Briggs Th...  female  38.0      1   \n",
       "2                             Heikkinen, Miss. Laina  female  26.0      0   \n",
       "\n",
       "   Parch            Ticket     Fare Cabin Embarked  \n",
       "0      0         A/5 21171   7.2500   NaN        S  \n",
       "1      0          PC 17599  71.2833   C85        C  \n",
       "2      0  STON/O2. 3101282   7.9250   NaN        S  "
      ]
     },
     "execution_count": 204,
     "metadata": {},
     "output_type": "execute_result"
    }
   ],
   "source": [
    "# Visualizando a base de treino\n",
    "treino = pd.read_csv('dataset/train.csv')\n",
    "treino.head(3)"
   ]
  },
  {
   "cell_type": "code",
   "execution_count": 205,
   "id": "5e19a045",
   "metadata": {
    "scrolled": false
   },
   "outputs": [
    {
     "data": {
      "text/html": [
       "<div>\n",
       "<style scoped>\n",
       "    .dataframe tbody tr th:only-of-type {\n",
       "        vertical-align: middle;\n",
       "    }\n",
       "\n",
       "    .dataframe tbody tr th {\n",
       "        vertical-align: top;\n",
       "    }\n",
       "\n",
       "    .dataframe thead th {\n",
       "        text-align: right;\n",
       "    }\n",
       "</style>\n",
       "<table border=\"1\" class=\"dataframe\">\n",
       "  <thead>\n",
       "    <tr style=\"text-align: right;\">\n",
       "      <th></th>\n",
       "      <th>PassengerId</th>\n",
       "      <th>Pclass</th>\n",
       "      <th>Name</th>\n",
       "      <th>Sex</th>\n",
       "      <th>Age</th>\n",
       "      <th>SibSp</th>\n",
       "      <th>Parch</th>\n",
       "      <th>Ticket</th>\n",
       "      <th>Fare</th>\n",
       "      <th>Cabin</th>\n",
       "      <th>Embarked</th>\n",
       "    </tr>\n",
       "  </thead>\n",
       "  <tbody>\n",
       "    <tr>\n",
       "      <th>0</th>\n",
       "      <td>892</td>\n",
       "      <td>3</td>\n",
       "      <td>Kelly, Mr. James</td>\n",
       "      <td>male</td>\n",
       "      <td>34.5</td>\n",
       "      <td>0</td>\n",
       "      <td>0</td>\n",
       "      <td>330911</td>\n",
       "      <td>7.8292</td>\n",
       "      <td>NaN</td>\n",
       "      <td>Q</td>\n",
       "    </tr>\n",
       "    <tr>\n",
       "      <th>1</th>\n",
       "      <td>893</td>\n",
       "      <td>3</td>\n",
       "      <td>Wilkes, Mrs. James (Ellen Needs)</td>\n",
       "      <td>female</td>\n",
       "      <td>47.0</td>\n",
       "      <td>1</td>\n",
       "      <td>0</td>\n",
       "      <td>363272</td>\n",
       "      <td>7.0000</td>\n",
       "      <td>NaN</td>\n",
       "      <td>S</td>\n",
       "    </tr>\n",
       "    <tr>\n",
       "      <th>2</th>\n",
       "      <td>894</td>\n",
       "      <td>2</td>\n",
       "      <td>Myles, Mr. Thomas Francis</td>\n",
       "      <td>male</td>\n",
       "      <td>62.0</td>\n",
       "      <td>0</td>\n",
       "      <td>0</td>\n",
       "      <td>240276</td>\n",
       "      <td>9.6875</td>\n",
       "      <td>NaN</td>\n",
       "      <td>Q</td>\n",
       "    </tr>\n",
       "  </tbody>\n",
       "</table>\n",
       "</div>"
      ],
      "text/plain": [
       "   PassengerId  Pclass                              Name     Sex   Age  SibSp  \\\n",
       "0          892       3                  Kelly, Mr. James    male  34.5      0   \n",
       "1          893       3  Wilkes, Mrs. James (Ellen Needs)  female  47.0      1   \n",
       "2          894       2         Myles, Mr. Thomas Francis    male  62.0      0   \n",
       "\n",
       "   Parch  Ticket    Fare Cabin Embarked  \n",
       "0      0  330911  7.8292   NaN        Q  \n",
       "1      0  363272  7.0000   NaN        S  \n",
       "2      0  240276  9.6875   NaN        Q  "
      ]
     },
     "execution_count": 205,
     "metadata": {},
     "output_type": "execute_result"
    }
   ],
   "source": [
    "# Visualizando a base de teste\n",
    "teste = pd.read_csv('dataset/test.csv')\n",
    "teste.head(3)"
   ]
  },
  {
   "cell_type": "markdown",
   "id": "de677343",
   "metadata": {},
   "source": [
    "### Fazendo o mesmo tratamento inicial que fizemos na parte 1\n",
    "\n",
    "- Para isso, utilize o código disponível no capítulo \"Resumo\" do arquivo chamado \"Titanic - Parte 1\"."
   ]
  },
  {
   "cell_type": "code",
   "execution_count": 206,
   "id": "ffeccd46",
   "metadata": {},
   "outputs": [],
   "source": [
    "# Tratando a Coluna Embarked - Base de Treino\n",
    "treino.loc[treino['Embarked'].isnull(), 'Embarked'] = 'S'\n",
    "\n",
    "# Tratando a Coluna Age - Base de Treino e Teste\n",
    "treino['Age'].fillna(treino.groupby(['Pclass', 'Sex'])['Age'].transform('median'), inplace=True)\n",
    "teste['Age'].fillna(teste.groupby(['Pclass', 'Sex'])['Age'].transform('median'), inplace=True)\n",
    "\n",
    "# Tratando a Coluna Fare - Base de Teste\n",
    "teste.loc[teste['Fare'].isnull(), 'Fare'] = 7.0\n",
    "\n",
    "# Tratando a Coluna Sex - Base de Treino e Teste\n",
    "treino['Sex_male'] = pd.get_dummies(treino['Sex'], drop_first=True, dtype='int32')\n",
    "teste['Sex_male'] = pd.get_dummies(teste['Sex'], drop_first=True, dtype='int32')\n",
    "\n",
    "# Importando OneHotEnconder\n",
    "from sklearn.preprocessing import OneHotEncoder\n",
    "\n",
    "# Tratando a Coluna Embarked - Base de Treino e Teste\n",
    "ohe = OneHotEncoder(handle_unknown='ignore',dtype='int32')\n",
    "\n",
    "ohe_df_treino = pd.DataFrame(ohe.fit_transform(treino[['Embarked']]).toarray(), columns=ohe.get_feature_names_out())\n",
    "treino = pd.concat([treino, ohe_df_treino], axis=1)\n",
    "\n",
    "ohe_df_teste = pd.DataFrame(ohe.transform(teste[['Embarked']]).toarray(), columns=ohe.get_feature_names_out())\n",
    "teste = pd.concat([teste, ohe_df_teste], axis=1)\n",
    "\n",
    "# Removendo as colunas\n",
    "treino.drop(['Cabin', 'Sex', 'Embarked', 'Ticket'], axis=1, inplace=True)\n",
    "\n",
    "# Removendo as colunas\n",
    "teste.drop(['Cabin', 'Sex', 'Embarked', 'Ticket'], axis=1, inplace=True)"
   ]
  },
  {
   "cell_type": "code",
   "execution_count": 207,
   "id": "a81aca59",
   "metadata": {
    "scrolled": true
   },
   "outputs": [
    {
     "data": {
      "text/html": [
       "<div>\n",
       "<style scoped>\n",
       "    .dataframe tbody tr th:only-of-type {\n",
       "        vertical-align: middle;\n",
       "    }\n",
       "\n",
       "    .dataframe tbody tr th {\n",
       "        vertical-align: top;\n",
       "    }\n",
       "\n",
       "    .dataframe thead th {\n",
       "        text-align: right;\n",
       "    }\n",
       "</style>\n",
       "<table border=\"1\" class=\"dataframe\">\n",
       "  <thead>\n",
       "    <tr style=\"text-align: right;\">\n",
       "      <th></th>\n",
       "      <th>PassengerId</th>\n",
       "      <th>Survived</th>\n",
       "      <th>Pclass</th>\n",
       "      <th>Name</th>\n",
       "      <th>Age</th>\n",
       "      <th>SibSp</th>\n",
       "      <th>Parch</th>\n",
       "      <th>Fare</th>\n",
       "      <th>Sex_male</th>\n",
       "      <th>Embarked_C</th>\n",
       "      <th>Embarked_Q</th>\n",
       "      <th>Embarked_S</th>\n",
       "    </tr>\n",
       "  </thead>\n",
       "  <tbody>\n",
       "    <tr>\n",
       "      <th>0</th>\n",
       "      <td>1</td>\n",
       "      <td>0</td>\n",
       "      <td>3</td>\n",
       "      <td>Braund, Mr. Owen Harris</td>\n",
       "      <td>22.0</td>\n",
       "      <td>1</td>\n",
       "      <td>0</td>\n",
       "      <td>7.2500</td>\n",
       "      <td>1</td>\n",
       "      <td>0</td>\n",
       "      <td>0</td>\n",
       "      <td>1</td>\n",
       "    </tr>\n",
       "    <tr>\n",
       "      <th>1</th>\n",
       "      <td>2</td>\n",
       "      <td>1</td>\n",
       "      <td>1</td>\n",
       "      <td>Cumings, Mrs. John Bradley (Florence Briggs Th...</td>\n",
       "      <td>38.0</td>\n",
       "      <td>1</td>\n",
       "      <td>0</td>\n",
       "      <td>71.2833</td>\n",
       "      <td>0</td>\n",
       "      <td>1</td>\n",
       "      <td>0</td>\n",
       "      <td>0</td>\n",
       "    </tr>\n",
       "    <tr>\n",
       "      <th>2</th>\n",
       "      <td>3</td>\n",
       "      <td>1</td>\n",
       "      <td>3</td>\n",
       "      <td>Heikkinen, Miss. Laina</td>\n",
       "      <td>26.0</td>\n",
       "      <td>0</td>\n",
       "      <td>0</td>\n",
       "      <td>7.9250</td>\n",
       "      <td>0</td>\n",
       "      <td>0</td>\n",
       "      <td>0</td>\n",
       "      <td>1</td>\n",
       "    </tr>\n",
       "    <tr>\n",
       "      <th>3</th>\n",
       "      <td>4</td>\n",
       "      <td>1</td>\n",
       "      <td>1</td>\n",
       "      <td>Futrelle, Mrs. Jacques Heath (Lily May Peel)</td>\n",
       "      <td>35.0</td>\n",
       "      <td>1</td>\n",
       "      <td>0</td>\n",
       "      <td>53.1000</td>\n",
       "      <td>0</td>\n",
       "      <td>0</td>\n",
       "      <td>0</td>\n",
       "      <td>1</td>\n",
       "    </tr>\n",
       "    <tr>\n",
       "      <th>4</th>\n",
       "      <td>5</td>\n",
       "      <td>0</td>\n",
       "      <td>3</td>\n",
       "      <td>Allen, Mr. William Henry</td>\n",
       "      <td>35.0</td>\n",
       "      <td>0</td>\n",
       "      <td>0</td>\n",
       "      <td>8.0500</td>\n",
       "      <td>1</td>\n",
       "      <td>0</td>\n",
       "      <td>0</td>\n",
       "      <td>1</td>\n",
       "    </tr>\n",
       "  </tbody>\n",
       "</table>\n",
       "</div>"
      ],
      "text/plain": [
       "   PassengerId  Survived  Pclass  \\\n",
       "0            1         0       3   \n",
       "1            2         1       1   \n",
       "2            3         1       3   \n",
       "3            4         1       1   \n",
       "4            5         0       3   \n",
       "\n",
       "                                                Name   Age  SibSp  Parch  \\\n",
       "0                            Braund, Mr. Owen Harris  22.0      1      0   \n",
       "1  Cumings, Mrs. John Bradley (Florence Briggs Th...  38.0      1      0   \n",
       "2                             Heikkinen, Miss. Laina  26.0      0      0   \n",
       "3       Futrelle, Mrs. Jacques Heath (Lily May Peel)  35.0      1      0   \n",
       "4                           Allen, Mr. William Henry  35.0      0      0   \n",
       "\n",
       "      Fare  Sex_male  Embarked_C  Embarked_Q  Embarked_S  \n",
       "0   7.2500         1           0           0           1  \n",
       "1  71.2833         0           1           0           0  \n",
       "2   7.9250         0           0           0           1  \n",
       "3  53.1000         0           0           0           1  \n",
       "4   8.0500         1           0           0           1  "
      ]
     },
     "execution_count": 207,
     "metadata": {},
     "output_type": "execute_result"
    }
   ],
   "source": [
    "# Visualizando a base de treino\n",
    "treino.head()"
   ]
  },
  {
   "cell_type": "code",
   "execution_count": 208,
   "id": "55699914",
   "metadata": {
    "scrolled": true
   },
   "outputs": [
    {
     "data": {
      "text/html": [
       "<div>\n",
       "<style scoped>\n",
       "    .dataframe tbody tr th:only-of-type {\n",
       "        vertical-align: middle;\n",
       "    }\n",
       "\n",
       "    .dataframe tbody tr th {\n",
       "        vertical-align: top;\n",
       "    }\n",
       "\n",
       "    .dataframe thead th {\n",
       "        text-align: right;\n",
       "    }\n",
       "</style>\n",
       "<table border=\"1\" class=\"dataframe\">\n",
       "  <thead>\n",
       "    <tr style=\"text-align: right;\">\n",
       "      <th></th>\n",
       "      <th>PassengerId</th>\n",
       "      <th>Pclass</th>\n",
       "      <th>Name</th>\n",
       "      <th>Age</th>\n",
       "      <th>SibSp</th>\n",
       "      <th>Parch</th>\n",
       "      <th>Fare</th>\n",
       "      <th>Sex_male</th>\n",
       "      <th>Embarked_C</th>\n",
       "      <th>Embarked_Q</th>\n",
       "      <th>Embarked_S</th>\n",
       "    </tr>\n",
       "  </thead>\n",
       "  <tbody>\n",
       "    <tr>\n",
       "      <th>0</th>\n",
       "      <td>892</td>\n",
       "      <td>3</td>\n",
       "      <td>Kelly, Mr. James</td>\n",
       "      <td>34.5</td>\n",
       "      <td>0</td>\n",
       "      <td>0</td>\n",
       "      <td>7.8292</td>\n",
       "      <td>1</td>\n",
       "      <td>0</td>\n",
       "      <td>1</td>\n",
       "      <td>0</td>\n",
       "    </tr>\n",
       "    <tr>\n",
       "      <th>1</th>\n",
       "      <td>893</td>\n",
       "      <td>3</td>\n",
       "      <td>Wilkes, Mrs. James (Ellen Needs)</td>\n",
       "      <td>47.0</td>\n",
       "      <td>1</td>\n",
       "      <td>0</td>\n",
       "      <td>7.0000</td>\n",
       "      <td>0</td>\n",
       "      <td>0</td>\n",
       "      <td>0</td>\n",
       "      <td>1</td>\n",
       "    </tr>\n",
       "    <tr>\n",
       "      <th>2</th>\n",
       "      <td>894</td>\n",
       "      <td>2</td>\n",
       "      <td>Myles, Mr. Thomas Francis</td>\n",
       "      <td>62.0</td>\n",
       "      <td>0</td>\n",
       "      <td>0</td>\n",
       "      <td>9.6875</td>\n",
       "      <td>1</td>\n",
       "      <td>0</td>\n",
       "      <td>1</td>\n",
       "      <td>0</td>\n",
       "    </tr>\n",
       "    <tr>\n",
       "      <th>3</th>\n",
       "      <td>895</td>\n",
       "      <td>3</td>\n",
       "      <td>Wirz, Mr. Albert</td>\n",
       "      <td>27.0</td>\n",
       "      <td>0</td>\n",
       "      <td>0</td>\n",
       "      <td>8.6625</td>\n",
       "      <td>1</td>\n",
       "      <td>0</td>\n",
       "      <td>0</td>\n",
       "      <td>1</td>\n",
       "    </tr>\n",
       "    <tr>\n",
       "      <th>4</th>\n",
       "      <td>896</td>\n",
       "      <td>3</td>\n",
       "      <td>Hirvonen, Mrs. Alexander (Helga E Lindqvist)</td>\n",
       "      <td>22.0</td>\n",
       "      <td>1</td>\n",
       "      <td>1</td>\n",
       "      <td>12.2875</td>\n",
       "      <td>0</td>\n",
       "      <td>0</td>\n",
       "      <td>0</td>\n",
       "      <td>1</td>\n",
       "    </tr>\n",
       "  </tbody>\n",
       "</table>\n",
       "</div>"
      ],
      "text/plain": [
       "   PassengerId  Pclass                                          Name   Age  \\\n",
       "0          892       3                              Kelly, Mr. James  34.5   \n",
       "1          893       3              Wilkes, Mrs. James (Ellen Needs)  47.0   \n",
       "2          894       2                     Myles, Mr. Thomas Francis  62.0   \n",
       "3          895       3                              Wirz, Mr. Albert  27.0   \n",
       "4          896       3  Hirvonen, Mrs. Alexander (Helga E Lindqvist)  22.0   \n",
       "\n",
       "   SibSp  Parch     Fare  Sex_male  Embarked_C  Embarked_Q  Embarked_S  \n",
       "0      0      0   7.8292         1           0           1           0  \n",
       "1      1      0   7.0000         0           0           0           1  \n",
       "2      0      0   9.6875         1           0           1           0  \n",
       "3      0      0   8.6625         1           0           0           1  \n",
       "4      1      1  12.2875         0           0           0           1  "
      ]
     },
     "execution_count": 208,
     "metadata": {},
     "output_type": "execute_result"
    }
   ],
   "source": [
    "# Visualizando a base de teste\n",
    "teste.head(5)"
   ]
  },
  {
   "cell_type": "markdown",
   "id": "11f6df68",
   "metadata": {},
   "source": [
    "- Vamos testar esta base de dados com os mesmos modelos de machine learning utilizados na parte 1 e armazenar o resultado da avaliação em um dataframe para efeito de comparação com as melhorias que iremos fazer abaixo.  [Avaliar](#avaliar)"
   ]
  },
  {
   "cell_type": "markdown",
   "id": "77a18422",
   "metadata": {},
   "source": [
    "<a id='tratamento'></a>\n",
    "**No final da parte 1 do projeto, foram sugeridas algumas análises e tratamentos que podem contribuir para aumentar a acurácia do nosso modelo.**\n",
    "\n",
    "- Após a submissão do \"submission_parte1.csv\" no Kaggle, obtivemos um Score: 0.76076\n",
    "\n",
    "**Melhorias**\n",
    "- Analisar se a coluna Name possui informações que possam ser úteis ao nosso modelo\n",
    "- Classificar a coluna Age\n",
    "- Analisar e Tratar as colunas SibSp e Parch\n",
    "- Analisar e Tratar as colunas Pclass e Fare\n",
    "\n",
    "**Vamos explorar estes pontos a seguir**"
   ]
  },
  {
   "cell_type": "markdown",
   "id": "c5e71c2d",
   "metadata": {},
   "source": [
    "**___________________________________________________________________________________________________________________________**\n",
    "\n",
    "\n",
    "# TRATAMENTO\n",
    "\n",
    "- [Tratando a Coluna Name](#name)\n",
    "- [Analisando a Coluna Sex_male](#sex_male)\n",
    "- [Analisando e Tratando a Coluna Age](#age)\n",
    "- [Analisando e Tratando as Colunas SibSp e Parch](#parch)\n",
    "- [Analisando e Tratando as Colunas Pclass e Fare](#pclass)"
   ]
  },
  {
   "cell_type": "markdown",
   "id": "a2029322",
   "metadata": {},
   "source": [
    "<a id='name'></a>\n",
    "### Tratando a Coluna Name\n",
    "\n",
    "- Vamos analisar a coluna Name para entender se possui alguma informação que possa ajudar a melhorar o nosso modelo\n",
    "\n",
    "- **Base de Treino**"
   ]
  },
  {
   "cell_type": "code",
   "execution_count": 253,
   "id": "aa97b0e4",
   "metadata": {
    "scrolled": true
   },
   "outputs": [
    {
     "data": {
      "text/plain": [
       "0                              Braund, Mr. Owen Harris\n",
       "1    Cumings, Mrs. John Bradley (Florence Briggs Th...\n",
       "2                               Heikkinen, Miss. Laina\n",
       "3         Futrelle, Mrs. Jacques Heath (Lily May Peel)\n",
       "4                             Allen, Mr. William Henry\n",
       "Name: Name, dtype: object"
      ]
     },
     "execution_count": 253,
     "metadata": {},
     "output_type": "execute_result"
    }
   ],
   "source": [
    "# Vamos observar os nomes com mais detalhes\n",
    "treino['Name'].iloc[:5]"
   ]
  },
  {
   "cell_type": "markdown",
   "id": "095fa891",
   "metadata": {},
   "source": [
    "- Observe que para cada registro da coluna Name, tem um título associado ao nome. Vamos extrair estas informações para cada linha e armazená-las em uma nova coluna"
   ]
  },
  {
   "cell_type": "code",
   "execution_count": 254,
   "id": "7bc24ba3",
   "metadata": {},
   "outputs": [],
   "source": [
    "# importando a biblioteca string\n",
    "import string"
   ]
  },
  {
   "cell_type": "code",
   "execution_count": 255,
   "id": "ab6b173e",
   "metadata": {},
   "outputs": [],
   "source": [
    "# Cria uma função que retorna apenas o título de cada registro\n",
    "def title(texto):\n",
    "    return ''.join([x for x in texto.split(',')[-1] if x not in string.punctuation]).split()[0]"
   ]
  },
  {
   "cell_type": "code",
   "execution_count": 256,
   "id": "4f76c478",
   "metadata": {},
   "outputs": [],
   "source": [
    "# Aplicando a função para todas as linhas e retornando apenas o título\n",
    "# O título então é armazenado em uma nova coluna chamada \"Title\"\n",
    "treino['Title'] = treino['Name'].apply(lambda x: title(x))"
   ]
  },
  {
   "cell_type": "code",
   "execution_count": 257,
   "id": "f46d2fcc",
   "metadata": {},
   "outputs": [
    {
     "data": {
      "text/html": [
       "<div>\n",
       "<style scoped>\n",
       "    .dataframe tbody tr th:only-of-type {\n",
       "        vertical-align: middle;\n",
       "    }\n",
       "\n",
       "    .dataframe tbody tr th {\n",
       "        vertical-align: top;\n",
       "    }\n",
       "\n",
       "    .dataframe thead th {\n",
       "        text-align: right;\n",
       "    }\n",
       "</style>\n",
       "<table border=\"1\" class=\"dataframe\">\n",
       "  <thead>\n",
       "    <tr style=\"text-align: right;\">\n",
       "      <th></th>\n",
       "      <th>Name</th>\n",
       "      <th>Title</th>\n",
       "    </tr>\n",
       "  </thead>\n",
       "  <tbody>\n",
       "    <tr>\n",
       "      <th>0</th>\n",
       "      <td>Braund, Mr. Owen Harris</td>\n",
       "      <td>Mr</td>\n",
       "    </tr>\n",
       "    <tr>\n",
       "      <th>1</th>\n",
       "      <td>Cumings, Mrs. John Bradley (Florence Briggs Th...</td>\n",
       "      <td>Mrs</td>\n",
       "    </tr>\n",
       "    <tr>\n",
       "      <th>2</th>\n",
       "      <td>Heikkinen, Miss. Laina</td>\n",
       "      <td>Miss</td>\n",
       "    </tr>\n",
       "    <tr>\n",
       "      <th>3</th>\n",
       "      <td>Futrelle, Mrs. Jacques Heath (Lily May Peel)</td>\n",
       "      <td>Mrs</td>\n",
       "    </tr>\n",
       "    <tr>\n",
       "      <th>4</th>\n",
       "      <td>Allen, Mr. William Henry</td>\n",
       "      <td>Mr</td>\n",
       "    </tr>\n",
       "  </tbody>\n",
       "</table>\n",
       "</div>"
      ],
      "text/plain": [
       "                                                Name Title\n",
       "0                            Braund, Mr. Owen Harris    Mr\n",
       "1  Cumings, Mrs. John Bradley (Florence Briggs Th...   Mrs\n",
       "2                             Heikkinen, Miss. Laina  Miss\n",
       "3       Futrelle, Mrs. Jacques Heath (Lily May Peel)   Mrs\n",
       "4                           Allen, Mr. William Henry    Mr"
      ]
     },
     "execution_count": 257,
     "metadata": {},
     "output_type": "execute_result"
    }
   ],
   "source": [
    "# Visualiza a base de treino\n",
    "treino[['Name', 'Title']].head()"
   ]
  },
  {
   "cell_type": "code",
   "execution_count": 258,
   "id": "a7e93ec9",
   "metadata": {
    "scrolled": false
   },
   "outputs": [
    {
     "data": {
      "text/plain": [
       "Text(0.5, 1.0, 'Quantidade de Sobreviventes por Título')"
      ]
     },
     "execution_count": 258,
     "metadata": {},
     "output_type": "execute_result"
    },
    {
     "data": {
      "image/png": "[encoded data removed]",
      "text/plain": [
       "<Figure size 1200x500 with 1 Axes>"
      ]
     },
     "metadata": {},
     "output_type": "display_data"
    }
   ],
   "source": [
    "# Visualizando a quantidade de sobreviventes para cada título\n",
    "plt.figure(figsize=(12, 5))\n",
    "sns.countplot(x='Title', data=treino, hue='Survived')\n",
    "plt.legend(['NÃO Sobreviveu', 'Sobreviveu'])\n",
    "plt.title('Quantidade de Sobreviventes por Título')"
   ]
  },
  {
   "cell_type": "markdown",
   "id": "7f3415ee",
   "metadata": {},
   "source": [
    "- Podemos perceber que os títulos Mr, Mrs, Miss e Master separam relativamente bem os passageiros que sobreviveram ou não\n",
    "- Vamos deixar apenas os títulos mais frequentes"
   ]
  },
  {
   "cell_type": "code",
   "execution_count": 259,
   "id": "0fba3b42",
   "metadata": {},
   "outputs": [
    {
     "data": {
      "text/plain": [
       "Title\n",
       "Mr          517\n",
       "Miss        182\n",
       "Mrs         125\n",
       "Master       40\n",
       "Dr            7\n",
       "Rev           6\n",
       "Mlle          2\n",
       "Major         2\n",
       "Col           2\n",
       "the           1\n",
       "Capt          1\n",
       "Ms            1\n",
       "Sir           1\n",
       "Lady          1\n",
       "Mme           1\n",
       "Don           1\n",
       "Jonkheer      1\n",
       "Name: count, dtype: int64"
      ]
     },
     "execution_count": 259,
     "metadata": {},
     "output_type": "execute_result"
    }
   ],
   "source": [
    "# Visualizando os valores únicos e suas frequências\n",
    "treino['Title'].value_counts()"
   ]
  },
  {
   "cell_type": "markdown",
   "id": "4953327d",
   "metadata": {},
   "source": [
    "- Vamos deixar apenas os títulos Mr, Miss, Mrs e Master, os demais iremos nomeá-los como \"others\""
   ]
  },
  {
   "cell_type": "code",
   "execution_count": 260,
   "id": "9fe4ae51",
   "metadata": {},
   "outputs": [],
   "source": [
    "# Deixando apenas os títulos Mr, Miss, Mrs e Master, os demais iremos nomeá-los como \"others\"\n",
    "treino['Title'] = treino['Title'].apply(lambda x: x if x in ('Mr', 'Miss', 'Mrs', 'Master') else 'Others')"
   ]
  },
  {
   "cell_type": "code",
   "execution_count": 261,
   "id": "0d8cb132",
   "metadata": {},
   "outputs": [
    {
     "data": {
      "text/plain": [
       "Title\n",
       "Mr        517\n",
       "Miss      182\n",
       "Mrs       125\n",
       "Master     40\n",
       "Others     27\n",
       "Name: count, dtype: int64"
      ]
     },
     "execution_count": 261,
     "metadata": {},
     "output_type": "execute_result"
    }
   ],
   "source": [
    "# Visualizando novamente os valores únicos após a alteração\n",
    "treino['Title'].value_counts()"
   ]
  },
  {
   "cell_type": "markdown",
   "id": "9952d341",
   "metadata": {},
   "source": [
    "- Agora vamos codificar a coluna Title para transformar os valores do tipo texto em valores numéricos"
   ]
  },
  {
   "cell_type": "code",
   "execution_count": 262,
   "id": "e2467a67",
   "metadata": {
    "scrolled": true
   },
   "outputs": [
    {
     "data": {
      "text/html": [
       "<div>\n",
       "<style scoped>\n",
       "    .dataframe tbody tr th:only-of-type {\n",
       "        vertical-align: middle;\n",
       "    }\n",
       "\n",
       "    .dataframe tbody tr th {\n",
       "        vertical-align: top;\n",
       "    }\n",
       "\n",
       "    .dataframe thead th {\n",
       "        text-align: right;\n",
       "    }\n",
       "</style>\n",
       "<table border=\"1\" class=\"dataframe\">\n",
       "  <thead>\n",
       "    <tr style=\"text-align: right;\">\n",
       "      <th></th>\n",
       "      <th>PassengerId</th>\n",
       "      <th>Survived</th>\n",
       "      <th>Pclass</th>\n",
       "      <th>Name</th>\n",
       "      <th>Age</th>\n",
       "      <th>SibSp</th>\n",
       "      <th>Parch</th>\n",
       "      <th>Fare</th>\n",
       "      <th>Sex_male</th>\n",
       "      <th>Embarked_C</th>\n",
       "      <th>Embarked_Q</th>\n",
       "      <th>Embarked_S</th>\n",
       "      <th>Title_Master</th>\n",
       "      <th>Title_Miss</th>\n",
       "      <th>Title_Mr</th>\n",
       "      <th>Title_Mrs</th>\n",
       "      <th>Title_Others</th>\n",
       "    </tr>\n",
       "  </thead>\n",
       "  <tbody>\n",
       "    <tr>\n",
       "      <th>0</th>\n",
       "      <td>1</td>\n",
       "      <td>0</td>\n",
       "      <td>3</td>\n",
       "      <td>Braund, Mr. Owen Harris</td>\n",
       "      <td>22.0</td>\n",
       "      <td>1</td>\n",
       "      <td>0</td>\n",
       "      <td>7.2500</td>\n",
       "      <td>1</td>\n",
       "      <td>0</td>\n",
       "      <td>0</td>\n",
       "      <td>1</td>\n",
       "      <td>0</td>\n",
       "      <td>0</td>\n",
       "      <td>1</td>\n",
       "      <td>0</td>\n",
       "      <td>0</td>\n",
       "    </tr>\n",
       "    <tr>\n",
       "      <th>1</th>\n",
       "      <td>2</td>\n",
       "      <td>1</td>\n",
       "      <td>1</td>\n",
       "      <td>Cumings, Mrs. John Bradley (Florence Briggs Th...</td>\n",
       "      <td>38.0</td>\n",
       "      <td>1</td>\n",
       "      <td>0</td>\n",
       "      <td>71.2833</td>\n",
       "      <td>0</td>\n",
       "      <td>1</td>\n",
       "      <td>0</td>\n",
       "      <td>0</td>\n",
       "      <td>0</td>\n",
       "      <td>0</td>\n",
       "      <td>0</td>\n",
       "      <td>1</td>\n",
       "      <td>0</td>\n",
       "    </tr>\n",
       "    <tr>\n",
       "      <th>2</th>\n",
       "      <td>3</td>\n",
       "      <td>1</td>\n",
       "      <td>3</td>\n",
       "      <td>Heikkinen, Miss. Laina</td>\n",
       "      <td>26.0</td>\n",
       "      <td>0</td>\n",
       "      <td>0</td>\n",
       "      <td>7.9250</td>\n",
       "      <td>0</td>\n",
       "      <td>0</td>\n",
       "      <td>0</td>\n",
       "      <td>1</td>\n",
       "      <td>0</td>\n",
       "      <td>1</td>\n",
       "      <td>0</td>\n",
       "      <td>0</td>\n",
       "      <td>0</td>\n",
       "    </tr>\n",
       "  </tbody>\n",
       "</table>\n",
       "</div>"
      ],
      "text/plain": [
       "   PassengerId  Survived  Pclass  \\\n",
       "0            1         0       3   \n",
       "1            2         1       1   \n",
       "2            3         1       3   \n",
       "\n",
       "                                                Name   Age  SibSp  Parch  \\\n",
       "0                            Braund, Mr. Owen Harris  22.0      1      0   \n",
       "1  Cumings, Mrs. John Bradley (Florence Briggs Th...  38.0      1      0   \n",
       "2                             Heikkinen, Miss. Laina  26.0      0      0   \n",
       "\n",
       "      Fare  Sex_male  Embarked_C  Embarked_Q  Embarked_S  Title_Master  \\\n",
       "0   7.2500         1           0           0           1             0   \n",
       "1  71.2833         0           1           0           0             0   \n",
       "2   7.9250         0           0           0           1             0   \n",
       "\n",
       "   Title_Miss  Title_Mr  Title_Mrs  Title_Others  \n",
       "0           0         1          0             0  \n",
       "1           0         0          1             0  \n",
       "2           1         0          0             0  "
      ]
     },
     "execution_count": 262,
     "metadata": {},
     "output_type": "execute_result"
    }
   ],
   "source": [
    "# transformando em numérico\n",
    "treino = pd.get_dummies(treino, prefix='Title', dtype='int32', columns=['Title'])\n",
    "treino.head(3)"
   ]
  },
  {
   "cell_type": "code",
   "execution_count": 263,
   "id": "6af4977a",
   "metadata": {
    "scrolled": false
   },
   "outputs": [
    {
     "data": {
      "text/plain": [
       "Title_Master  Title_Miss  Title_Mr  Title_Mrs  Title_Others\n",
       "0             0           1         0          0               517\n",
       "              1           0         0          0               182\n",
       "              0           0         1          0               125\n",
       "1             0           0         0          0                40\n",
       "0             0           0         0          1                27\n",
       "Name: count, dtype: int64"
      ]
     },
     "execution_count": 263,
     "metadata": {},
     "output_type": "execute_result"
    }
   ],
   "source": [
    "treino[['Title_Master', 'Title_Miss', 'Title_Mr', 'Title_Mrs', 'Title_Others']].value_counts()"
   ]
  },
  {
   "cell_type": "markdown",
   "id": "c36781d1",
   "metadata": {},
   "source": [
    "- **Base de Teste**\n",
    "- Agora, vamos fazer o mesmo para a base de teste"
   ]
  },
  {
   "cell_type": "code",
   "execution_count": 264,
   "id": "7c493c0e",
   "metadata": {},
   "outputs": [
    {
     "data": {
      "text/html": [
       "<div>\n",
       "<style scoped>\n",
       "    .dataframe tbody tr th:only-of-type {\n",
       "        vertical-align: middle;\n",
       "    }\n",
       "\n",
       "    .dataframe tbody tr th {\n",
       "        vertical-align: top;\n",
       "    }\n",
       "\n",
       "    .dataframe thead th {\n",
       "        text-align: right;\n",
       "    }\n",
       "</style>\n",
       "<table border=\"1\" class=\"dataframe\">\n",
       "  <thead>\n",
       "    <tr style=\"text-align: right;\">\n",
       "      <th></th>\n",
       "      <th>PassengerId</th>\n",
       "      <th>Pclass</th>\n",
       "      <th>Name</th>\n",
       "      <th>Age</th>\n",
       "      <th>SibSp</th>\n",
       "      <th>Parch</th>\n",
       "      <th>Fare</th>\n",
       "      <th>Sex_male</th>\n",
       "      <th>Embarked_C</th>\n",
       "      <th>Embarked_Q</th>\n",
       "      <th>Embarked_S</th>\n",
       "    </tr>\n",
       "  </thead>\n",
       "  <tbody>\n",
       "    <tr>\n",
       "      <th>0</th>\n",
       "      <td>892</td>\n",
       "      <td>3</td>\n",
       "      <td>Kelly, Mr. James</td>\n",
       "      <td>34.5</td>\n",
       "      <td>0</td>\n",
       "      <td>0</td>\n",
       "      <td>7.8292</td>\n",
       "      <td>1</td>\n",
       "      <td>0</td>\n",
       "      <td>1</td>\n",
       "      <td>0</td>\n",
       "    </tr>\n",
       "    <tr>\n",
       "      <th>1</th>\n",
       "      <td>893</td>\n",
       "      <td>3</td>\n",
       "      <td>Wilkes, Mrs. James (Ellen Needs)</td>\n",
       "      <td>47.0</td>\n",
       "      <td>1</td>\n",
       "      <td>0</td>\n",
       "      <td>7.0000</td>\n",
       "      <td>0</td>\n",
       "      <td>0</td>\n",
       "      <td>0</td>\n",
       "      <td>1</td>\n",
       "    </tr>\n",
       "    <tr>\n",
       "      <th>2</th>\n",
       "      <td>894</td>\n",
       "      <td>2</td>\n",
       "      <td>Myles, Mr. Thomas Francis</td>\n",
       "      <td>62.0</td>\n",
       "      <td>0</td>\n",
       "      <td>0</td>\n",
       "      <td>9.6875</td>\n",
       "      <td>1</td>\n",
       "      <td>0</td>\n",
       "      <td>1</td>\n",
       "      <td>0</td>\n",
       "    </tr>\n",
       "  </tbody>\n",
       "</table>\n",
       "</div>"
      ],
      "text/plain": [
       "   PassengerId  Pclass                              Name   Age  SibSp  Parch  \\\n",
       "0          892       3                  Kelly, Mr. James  34.5      0      0   \n",
       "1          893       3  Wilkes, Mrs. James (Ellen Needs)  47.0      1      0   \n",
       "2          894       2         Myles, Mr. Thomas Francis  62.0      0      0   \n",
       "\n",
       "     Fare  Sex_male  Embarked_C  Embarked_Q  Embarked_S  \n",
       "0  7.8292         1           0           1           0  \n",
       "1  7.0000         0           0           0           1  \n",
       "2  9.6875         1           0           1           0  "
      ]
     },
     "execution_count": 264,
     "metadata": {},
     "output_type": "execute_result"
    }
   ],
   "source": [
    "# Visualizando a base de treino\n",
    "teste.head(3) "
   ]
  },
  {
   "cell_type": "code",
   "execution_count": 265,
   "id": "81cc3d44",
   "metadata": {},
   "outputs": [],
   "source": [
    "# Aplicando a função para todas as linhas e retornando apenas o título\n",
    "# O título então é armazenado em uma nova coluna chamada \"Title\"\n",
    "teste['Title'] = teste['Name'].apply(lambda x: title(x))"
   ]
  },
  {
   "cell_type": "code",
   "execution_count": 266,
   "id": "2454601a",
   "metadata": {},
   "outputs": [],
   "source": [
    "# Deixando apenas os títulos Mr, Miss, Mrs e Master, os demais iremos nomeá-los como \"others\"\n",
    "teste['Title'] = teste['Title'].apply(lambda x: x if x in ('Mr', 'Miss', 'Mrs', 'Master') else 'Others')"
   ]
  },
  {
   "cell_type": "code",
   "execution_count": 267,
   "id": "aa28be3c",
   "metadata": {},
   "outputs": [
    {
     "data": {
      "text/html": [
       "<div>\n",
       "<style scoped>\n",
       "    .dataframe tbody tr th:only-of-type {\n",
       "        vertical-align: middle;\n",
       "    }\n",
       "\n",
       "    .dataframe tbody tr th {\n",
       "        vertical-align: top;\n",
       "    }\n",
       "\n",
       "    .dataframe thead th {\n",
       "        text-align: right;\n",
       "    }\n",
       "</style>\n",
       "<table border=\"1\" class=\"dataframe\">\n",
       "  <thead>\n",
       "    <tr style=\"text-align: right;\">\n",
       "      <th></th>\n",
       "      <th>PassengerId</th>\n",
       "      <th>Pclass</th>\n",
       "      <th>Name</th>\n",
       "      <th>Age</th>\n",
       "      <th>SibSp</th>\n",
       "      <th>Parch</th>\n",
       "      <th>Fare</th>\n",
       "      <th>Sex_male</th>\n",
       "      <th>Embarked_C</th>\n",
       "      <th>Embarked_Q</th>\n",
       "      <th>Embarked_S</th>\n",
       "      <th>Title_Master</th>\n",
       "      <th>Title_Miss</th>\n",
       "      <th>Title_Mr</th>\n",
       "      <th>Title_Mrs</th>\n",
       "      <th>Title_Others</th>\n",
       "    </tr>\n",
       "  </thead>\n",
       "  <tbody>\n",
       "    <tr>\n",
       "      <th>0</th>\n",
       "      <td>892</td>\n",
       "      <td>3</td>\n",
       "      <td>Kelly, Mr. James</td>\n",
       "      <td>34.5</td>\n",
       "      <td>0</td>\n",
       "      <td>0</td>\n",
       "      <td>7.8292</td>\n",
       "      <td>1</td>\n",
       "      <td>0</td>\n",
       "      <td>1</td>\n",
       "      <td>0</td>\n",
       "      <td>0</td>\n",
       "      <td>0</td>\n",
       "      <td>1</td>\n",
       "      <td>0</td>\n",
       "      <td>0</td>\n",
       "    </tr>\n",
       "    <tr>\n",
       "      <th>1</th>\n",
       "      <td>893</td>\n",
       "      <td>3</td>\n",
       "      <td>Wilkes, Mrs. James (Ellen Needs)</td>\n",
       "      <td>47.0</td>\n",
       "      <td>1</td>\n",
       "      <td>0</td>\n",
       "      <td>7.0000</td>\n",
       "      <td>0</td>\n",
       "      <td>0</td>\n",
       "      <td>0</td>\n",
       "      <td>1</td>\n",
       "      <td>0</td>\n",
       "      <td>0</td>\n",
       "      <td>0</td>\n",
       "      <td>1</td>\n",
       "      <td>0</td>\n",
       "    </tr>\n",
       "    <tr>\n",
       "      <th>2</th>\n",
       "      <td>894</td>\n",
       "      <td>2</td>\n",
       "      <td>Myles, Mr. Thomas Francis</td>\n",
       "      <td>62.0</td>\n",
       "      <td>0</td>\n",
       "      <td>0</td>\n",
       "      <td>9.6875</td>\n",
       "      <td>1</td>\n",
       "      <td>0</td>\n",
       "      <td>1</td>\n",
       "      <td>0</td>\n",
       "      <td>0</td>\n",
       "      <td>0</td>\n",
       "      <td>1</td>\n",
       "      <td>0</td>\n",
       "      <td>0</td>\n",
       "    </tr>\n",
       "  </tbody>\n",
       "</table>\n",
       "</div>"
      ],
      "text/plain": [
       "   PassengerId  Pclass                              Name   Age  SibSp  Parch  \\\n",
       "0          892       3                  Kelly, Mr. James  34.5      0      0   \n",
       "1          893       3  Wilkes, Mrs. James (Ellen Needs)  47.0      1      0   \n",
       "2          894       2         Myles, Mr. Thomas Francis  62.0      0      0   \n",
       "\n",
       "     Fare  Sex_male  Embarked_C  Embarked_Q  Embarked_S  Title_Master  \\\n",
       "0  7.8292         1           0           1           0             0   \n",
       "1  7.0000         0           0           0           1             0   \n",
       "2  9.6875         1           0           1           0             0   \n",
       "\n",
       "   Title_Miss  Title_Mr  Title_Mrs  Title_Others  \n",
       "0           0         1          0             0  \n",
       "1           0         0          1             0  \n",
       "2           0         1          0             0  "
      ]
     },
     "execution_count": 267,
     "metadata": {},
     "output_type": "execute_result"
    }
   ],
   "source": [
    "# Codificando a coluna Title para transformar os valores do tipo texto em valores numéricos\n",
    "teste = pd.get_dummies(teste, prefix='Title', dtype='int32', columns=['Title'])\n",
    "teste.head(3)"
   ]
  },
  {
   "cell_type": "markdown",
   "id": "fa0e25dc",
   "metadata": {},
   "source": [
    "- **Agora, vamos avaliar o resultado dos modelos após esta alteração**"
   ]
  },
  {
   "cell_type": "code",
   "execution_count": 268,
   "id": "77ed3ac0",
   "metadata": {},
   "outputs": [
    {
     "data": {
      "text/html": [
       "<div>\n",
       "<style scoped>\n",
       "    .dataframe tbody tr th:only-of-type {\n",
       "        vertical-align: middle;\n",
       "    }\n",
       "\n",
       "    .dataframe tbody tr th {\n",
       "        vertical-align: top;\n",
       "    }\n",
       "\n",
       "    .dataframe thead th {\n",
       "        text-align: right;\n",
       "    }\n",
       "</style>\n",
       "<table border=\"1\" class=\"dataframe\">\n",
       "  <thead>\n",
       "    <tr style=\"text-align: right;\">\n",
       "      <th></th>\n",
       "      <th>Pclass</th>\n",
       "      <th>Age</th>\n",
       "      <th>SibSp</th>\n",
       "      <th>Parch</th>\n",
       "      <th>Fare</th>\n",
       "      <th>Sex_male</th>\n",
       "      <th>Embarked_C</th>\n",
       "      <th>Embarked_Q</th>\n",
       "      <th>Embarked_S</th>\n",
       "      <th>Title_Master</th>\n",
       "      <th>Title_Miss</th>\n",
       "      <th>Title_Mr</th>\n",
       "      <th>Title_Mrs</th>\n",
       "      <th>Title_Others</th>\n",
       "    </tr>\n",
       "  </thead>\n",
       "  <tbody>\n",
       "    <tr>\n",
       "      <th>0</th>\n",
       "      <td>3</td>\n",
       "      <td>22.0</td>\n",
       "      <td>1</td>\n",
       "      <td>0</td>\n",
       "      <td>7.2500</td>\n",
       "      <td>1</td>\n",
       "      <td>0</td>\n",
       "      <td>0</td>\n",
       "      <td>1</td>\n",
       "      <td>0</td>\n",
       "      <td>0</td>\n",
       "      <td>1</td>\n",
       "      <td>0</td>\n",
       "      <td>0</td>\n",
       "    </tr>\n",
       "    <tr>\n",
       "      <th>1</th>\n",
       "      <td>1</td>\n",
       "      <td>38.0</td>\n",
       "      <td>1</td>\n",
       "      <td>0</td>\n",
       "      <td>71.2833</td>\n",
       "      <td>0</td>\n",
       "      <td>1</td>\n",
       "      <td>0</td>\n",
       "      <td>0</td>\n",
       "      <td>0</td>\n",
       "      <td>0</td>\n",
       "      <td>0</td>\n",
       "      <td>1</td>\n",
       "      <td>0</td>\n",
       "    </tr>\n",
       "  </tbody>\n",
       "</table>\n",
       "</div>"
      ],
      "text/plain": [
       "   Pclass   Age  SibSp  Parch     Fare  Sex_male  Embarked_C  Embarked_Q  \\\n",
       "0       3  22.0      1      0   7.2500         1           0           0   \n",
       "1       1  38.0      1      0  71.2833         0           1           0   \n",
       "\n",
       "   Embarked_S  Title_Master  Title_Miss  Title_Mr  Title_Mrs  Title_Others  \n",
       "0           1             0           0         1          0             0  \n",
       "1           0             0           0         0          1             0  "
      ]
     },
     "execution_count": 268,
     "metadata": {},
     "output_type": "execute_result"
    }
   ],
   "source": [
    "# Base de treino que iremos testar agora\n",
    "treino.drop(['PassengerId', 'Survived', 'Name'], axis=1).head(2)"
   ]
  },
  {
   "cell_type": "code",
   "execution_count": 269,
   "id": "0462ac72",
   "metadata": {},
   "outputs": [
    {
     "data": {
      "text/html": [
       "<div>\n",
       "<style scoped>\n",
       "    .dataframe tbody tr th:only-of-type {\n",
       "        vertical-align: middle;\n",
       "    }\n",
       "\n",
       "    .dataframe tbody tr th {\n",
       "        vertical-align: top;\n",
       "    }\n",
       "\n",
       "    .dataframe thead th {\n",
       "        text-align: right;\n",
       "    }\n",
       "</style>\n",
       "<table border=\"1\" class=\"dataframe\">\n",
       "  <thead>\n",
       "    <tr style=\"text-align: right;\">\n",
       "      <th></th>\n",
       "      <th>modelos</th>\n",
       "      <th>Inicial</th>\n",
       "      <th>Title_Ohe</th>\n",
       "    </tr>\n",
       "  </thead>\n",
       "  <tbody>\n",
       "    <tr>\n",
       "      <th>0</th>\n",
       "      <td>DecisionTree</td>\n",
       "      <td>0.766102</td>\n",
       "      <td>0.762712</td>\n",
       "    </tr>\n",
       "    <tr>\n",
       "      <th>1</th>\n",
       "      <td>KNN</td>\n",
       "      <td>0.732203</td>\n",
       "      <td>0.752542</td>\n",
       "    </tr>\n",
       "    <tr>\n",
       "      <th>2</th>\n",
       "      <td>LogisticRegression</td>\n",
       "      <td>0.823729</td>\n",
       "      <td>0.840678</td>\n",
       "    </tr>\n",
       "  </tbody>\n",
       "</table>\n",
       "</div>"
      ],
      "text/plain": [
       "              modelos   Inicial  Title_Ohe\n",
       "0        DecisionTree  0.766102   0.762712\n",
       "1                 KNN  0.732203   0.752542\n",
       "2  LogisticRegression  0.823729   0.840678"
      ]
     },
     "execution_count": 269,
     "metadata": {},
     "output_type": "execute_result"
    }
   ],
   "source": [
    "# Chamando a função para avaliar nossa alteração\n",
    "avaliar_alteracao(['PassengerId', 'Survived', 'Name'], 'Title_Ohe')"
   ]
  },
  {
   "cell_type": "markdown",
   "id": "1e55c576",
   "metadata": {},
   "source": [
    "- Podemos perceber que houve uma melhora no nosso modelo, vamos continuar fazendo algumas alterações"
   ]
  },
  {
   "cell_type": "markdown",
   "id": "1e00255b",
   "metadata": {},
   "source": [
    "<a id='sex_male'></a>\n",
    "### Analisando a Coluna Sex_male\n",
    "- De acordo com pesquisas, durante a evacuação do Titanic, as mulheres e crianças tiveram prioridade.\n",
    "- Vamos analisar a coluna Sex_male se isso se confirma\n",
    "- Sex_male = 1 (Masculino)\n",
    "- Sex_male = 0 (Feminino)"
   ]
  },
  {
   "cell_type": "code",
   "execution_count": 270,
   "id": "5dffb20b",
   "metadata": {},
   "outputs": [
    {
     "data": {
      "text/html": [
       "<div>\n",
       "<style scoped>\n",
       "    .dataframe tbody tr th:only-of-type {\n",
       "        vertical-align: middle;\n",
       "    }\n",
       "\n",
       "    .dataframe tbody tr th {\n",
       "        vertical-align: top;\n",
       "    }\n",
       "\n",
       "    .dataframe thead th {\n",
       "        text-align: right;\n",
       "    }\n",
       "</style>\n",
       "<table border=\"1\" class=\"dataframe\">\n",
       "  <thead>\n",
       "    <tr style=\"text-align: right;\">\n",
       "      <th></th>\n",
       "      <th>Não Sobreviveu</th>\n",
       "      <th>Sobreviveu</th>\n",
       "      <th>Total</th>\n",
       "    </tr>\n",
       "  </thead>\n",
       "  <tbody>\n",
       "    <tr>\n",
       "      <th>Feminino</th>\n",
       "      <td>81</td>\n",
       "      <td>233</td>\n",
       "      <td>314</td>\n",
       "    </tr>\n",
       "    <tr>\n",
       "      <th>Masculino</th>\n",
       "      <td>468</td>\n",
       "      <td>109</td>\n",
       "      <td>577</td>\n",
       "    </tr>\n",
       "    <tr>\n",
       "      <th>Total</th>\n",
       "      <td>549</td>\n",
       "      <td>342</td>\n",
       "      <td>891</td>\n",
       "    </tr>\n",
       "  </tbody>\n",
       "</table>\n",
       "</div>"
      ],
      "text/plain": [
       "           Não Sobreviveu  Sobreviveu  Total\n",
       "Feminino               81         233    314\n",
       "Masculino             468         109    577\n",
       "Total                 549         342    891"
      ]
     },
     "execution_count": 270,
     "metadata": {},
     "output_type": "execute_result"
    }
   ],
   "source": [
    "# Quantidade de passageiros que sobreviveram por sexo\n",
    "df_check = pd.crosstab(index=treino['Sex_male'], columns=treino['Survived'], margins=True)\n",
    "\n",
    "df_check.columns = ['Não Sobreviveu', 'Sobreviveu', 'Total']\n",
    "df_check.index = ['Feminino', 'Masculino', 'Total']\n",
    "df_check"
   ]
  },
  {
   "cell_type": "code",
   "execution_count": 271,
   "id": "6c7b1fce",
   "metadata": {
    "scrolled": false
   },
   "outputs": [
    {
     "data": {
      "image/png": "[encoded data removed]",
      "text/plain": [
       "<Figure size 640x480 with 1 Axes>"
      ]
     },
     "metadata": {},
     "output_type": "display_data"
    }
   ],
   "source": [
    "# Visualizando as informações da tabela acima em forma de gráfico\n",
    "sns.countplot(data=treino, x='Survived', hue='Sex_male', palette='Set1')\n",
    "\n",
    "plt.title('Passageiros Sobreviveram por Sexo')\n",
    "plt.xticks(ticks = [0, 1], labels=['NÃO Sobreviveu', 'Sobreviveu'])\n",
    "plt.legend(['Feminino', 'Masculino'])\n",
    "plt.show()"
   ]
  },
  {
   "cell_type": "markdown",
   "id": "86ed7981",
   "metadata": {},
   "source": [
    "- Podemos perceber que o sexo é um fator determinante para a sobrevivencia do passageiro.\n",
    "- Isso se confirma pois durante a evacuação do Titanic, as mulheres e crianças tiveram prioridade."
   ]
  },
  {
   "cell_type": "markdown",
   "id": "4459dcba",
   "metadata": {},
   "source": [
    "<a id='age'></a>\n",
    "### Analisando e Tratando a Coluna Age\n",
    "\n",
    "- Vamos analisar a coluna Age para entender se possui alguma informação que possa melhorar o nosso modelo\n",
    "\n",
    "- **Base de Treino**"
   ]
  },
  {
   "cell_type": "code",
   "execution_count": 272,
   "id": "abdb51a2",
   "metadata": {
    "scrolled": false
   },
   "outputs": [
    {
     "data": {
      "text/plain": [
       "Text(0.5, 0, 'Idades')"
      ]
     },
     "execution_count": 272,
     "metadata": {},
     "output_type": "execute_result"
    },
    {
     "data": {
      "image/png": "[encoded data removed]",
      "text/plain": [
       "<Figure size 640x480 with 1 Axes>"
      ]
     },
     "metadata": {},
     "output_type": "display_data"
    }
   ],
   "source": [
    "# Visualizando a distribuição das idades\n",
    "treino['Age'].hist(bins=30)\n",
    "plt.title('Distribuição das Idades')\n",
    "plt.xlabel('Idades')"
   ]
  },
  {
   "cell_type": "markdown",
   "id": "8dac2550",
   "metadata": {},
   "source": [
    "- Como sabemos, as mulheres e crianças tiveram prioridades na evacuação durante o naufrágio, conforme as normas de \"mulheres e crianças em primeiro lugar\" que estavam em vigor na época.\n",
    "- Vamos então verificar a quantidade de crianças que foram salvas\n",
    "- Para isso, até quantos anos podemos considerar crianças? Vamos identificar através da seguinte análise"
   ]
  },
  {
   "cell_type": "code",
   "execution_count": 273,
   "id": "a2c2e003",
   "metadata": {
    "scrolled": true
   },
   "outputs": [],
   "source": [
    "# Importa a biblioteca numpy\n",
    "import numpy as np"
   ]
  },
  {
   "cell_type": "markdown",
   "id": "4c005b81",
   "metadata": {},
   "source": [
    "- Vamos selecionar no dataframe os passageiros que tinham idade menor ou igual a  X, vamos considerar como exemplo, passageiros <= 10 anos.\n",
    "- Depois iremos verificar dos passageiros com idade menor ou igual a 10, quantos desses passageiros sobreviveram e quantos não sobreviveram, e com isso tirar a diferença.\n",
    "- Caso a diferença seja um valor positivo, significa que houve mais sobreviventes\n",
    "- Caso a diferença seja um valor negativo, significa que houve mais não sobreviventes"
   ]
  },
  {
   "cell_type": "code",
   "execution_count": 274,
   "id": "a2b74ae4",
   "metadata": {},
   "outputs": [],
   "source": [
    "# Cria uma lista vazia que armazenará a diferença entre a quantidade de sobreviventes e não sobreviventes por idade\n",
    "lista_sobreviventes = []\n",
    "\n",
    "for idade in sorted(treino['Age'].unique())[9:29]:\n",
    "    \n",
    "    criancas = treino[treino['Age'] <=  idade]\n",
    "    \n",
    "    sub = np.subtract(criancas['Survived'].value_counts()[1], criancas['Survived'].value_counts()[0])\n",
    "    lista_sobreviventes.append(sub)"
   ]
  },
  {
   "cell_type": "code",
   "execution_count": 275,
   "id": "6b4be7cb",
   "metadata": {
    "scrolled": false
   },
   "outputs": [
    {
     "data": {
      "text/html": [
       "<div>\n",
       "<style scoped>\n",
       "    .dataframe tbody tr th:only-of-type {\n",
       "        vertical-align: middle;\n",
       "    }\n",
       "\n",
       "    .dataframe tbody tr th {\n",
       "        vertical-align: top;\n",
       "    }\n",
       "\n",
       "    .dataframe thead th {\n",
       "        text-align: right;\n",
       "    }\n",
       "</style>\n",
       "<table border=\"1\" class=\"dataframe\">\n",
       "  <thead>\n",
       "    <tr style=\"text-align: right;\">\n",
       "      <th></th>\n",
       "      <th>idade</th>\n",
       "      <th>diferenca</th>\n",
       "    </tr>\n",
       "  </thead>\n",
       "  <tbody>\n",
       "    <tr>\n",
       "      <th>0</th>\n",
       "      <td>5.0</td>\n",
       "      <td>18</td>\n",
       "    </tr>\n",
       "    <tr>\n",
       "      <th>1</th>\n",
       "      <td>6.0</td>\n",
       "      <td>19</td>\n",
       "    </tr>\n",
       "    <tr>\n",
       "      <th>2</th>\n",
       "      <td>7.0</td>\n",
       "      <td>18</td>\n",
       "    </tr>\n",
       "    <tr>\n",
       "      <th>3</th>\n",
       "      <td>8.0</td>\n",
       "      <td>18</td>\n",
       "    </tr>\n",
       "    <tr>\n",
       "      <th>4</th>\n",
       "      <td>9.0</td>\n",
       "      <td>14</td>\n",
       "    </tr>\n",
       "    <tr>\n",
       "      <th>5</th>\n",
       "      <td>10.0</td>\n",
       "      <td>12</td>\n",
       "    </tr>\n",
       "    <tr>\n",
       "      <th>6</th>\n",
       "      <td>11.0</td>\n",
       "      <td>10</td>\n",
       "    </tr>\n",
       "    <tr>\n",
       "      <th>7</th>\n",
       "      <td>12.0</td>\n",
       "      <td>11</td>\n",
       "    </tr>\n",
       "    <tr>\n",
       "      <th>8</th>\n",
       "      <td>13.0</td>\n",
       "      <td>13</td>\n",
       "    </tr>\n",
       "    <tr>\n",
       "      <th>9</th>\n",
       "      <td>14.0</td>\n",
       "      <td>13</td>\n",
       "    </tr>\n",
       "    <tr>\n",
       "      <th>10</th>\n",
       "      <td>14.5</td>\n",
       "      <td>12</td>\n",
       "    </tr>\n",
       "    <tr>\n",
       "      <th>11</th>\n",
       "      <td>15.0</td>\n",
       "      <td>15</td>\n",
       "    </tr>\n",
       "    <tr>\n",
       "      <th>12</th>\n",
       "      <td>16.0</td>\n",
       "      <td>10</td>\n",
       "    </tr>\n",
       "    <tr>\n",
       "      <th>13</th>\n",
       "      <td>17.0</td>\n",
       "      <td>9</td>\n",
       "    </tr>\n",
       "    <tr>\n",
       "      <th>14</th>\n",
       "      <td>18.0</td>\n",
       "      <td>1</td>\n",
       "    </tr>\n",
       "    <tr>\n",
       "      <th>15</th>\n",
       "      <td>19.0</td>\n",
       "      <td>-6</td>\n",
       "    </tr>\n",
       "    <tr>\n",
       "      <th>16</th>\n",
       "      <td>20.0</td>\n",
       "      <td>-15</td>\n",
       "    </tr>\n",
       "    <tr>\n",
       "      <th>17</th>\n",
       "      <td>20.5</td>\n",
       "      <td>-16</td>\n",
       "    </tr>\n",
       "    <tr>\n",
       "      <th>18</th>\n",
       "      <td>21.0</td>\n",
       "      <td>-30</td>\n",
       "    </tr>\n",
       "    <tr>\n",
       "      <th>19</th>\n",
       "      <td>21.5</td>\n",
       "      <td>-22</td>\n",
       "    </tr>\n",
       "  </tbody>\n",
       "</table>\n",
       "</div>"
      ],
      "text/plain": [
       "    idade  diferenca\n",
       "0     5.0         18\n",
       "1     6.0         19\n",
       "2     7.0         18\n",
       "3     8.0         18\n",
       "4     9.0         14\n",
       "5    10.0         12\n",
       "6    11.0         10\n",
       "7    12.0         11\n",
       "8    13.0         13\n",
       "9    14.0         13\n",
       "10   14.5         12\n",
       "11   15.0         15\n",
       "12   16.0         10\n",
       "13   17.0          9\n",
       "14   18.0          1\n",
       "15   19.0         -6\n",
       "16   20.0        -15\n",
       "17   20.5        -16\n",
       "18   21.0        -30\n",
       "19   21.5        -22"
      ]
     },
     "execution_count": 275,
     "metadata": {},
     "output_type": "execute_result"
    }
   ],
   "source": [
    "# Para facilitar o entendimento, vamos criar um dataframe com as idades e o resultado da diferença entre sobreviventes\n",
    "df_crianca = pd.DataFrame({'idade': sorted(treino['Age'].unique())[9:29], 'diferenca': lista_sobreviventes})\n",
    "df_crianca"
   ]
  },
  {
   "cell_type": "markdown",
   "id": "fbcf491b",
   "metadata": {},
   "source": [
    "- Podemos perceber que até os 17 anos, tiveram 9 sobreviventes a mais que não sobreviventes\n",
    "- Apartir dos 18 anos, podemos ver uma queda nessa diferença, se tornando negativa depois, onde a quantidade de pessoas que não sobreviveram foi maior\n",
    "- Com essa análise, vamos considerar crianças até 17 anos"
   ]
  },
  {
   "cell_type": "code",
   "execution_count": 276,
   "id": "7421bcef",
   "metadata": {},
   "outputs": [],
   "source": [
    "# Vamos separar um dataframe apenas com crianças\n",
    "treino_criancas = treino[treino['Age'] < 18]"
   ]
  },
  {
   "cell_type": "code",
   "execution_count": 277,
   "id": "214d1ac0",
   "metadata": {},
   "outputs": [
    {
     "data": {
      "text/plain": [
       "Survived\n",
       "1    61\n",
       "0    52\n",
       "Name: count, dtype: int64"
      ]
     },
     "execution_count": 277,
     "metadata": {},
     "output_type": "execute_result"
    }
   ],
   "source": [
    "# Quantidade de crianças que sobreviveram\n",
    "treino_criancas['Survived'].value_counts()"
   ]
  },
  {
   "cell_type": "code",
   "execution_count": 278,
   "id": "84889676",
   "metadata": {
    "scrolled": false
   },
   "outputs": [
    {
     "data": {
      "text/plain": [
       "Text(0.5, 1.0, 'Crianças por Classe')"
      ]
     },
     "execution_count": 278,
     "metadata": {},
     "output_type": "execute_result"
    },
    {
     "data": {
      "image/png": "[encoded data removed]",
      "text/plain": [
       "<Figure size 640x480 with 1 Axes>"
      ]
     },
     "metadata": {},
     "output_type": "display_data"
    }
   ],
   "source": [
    "# Agora vamos visualizar a quantidade de crianças salvas por classe\n",
    "sns.countplot(data=treino_criancas, x='Pclass', hue='Survived')\n",
    "plt.legend(['NÃO Sobreviveu', 'Sobreviveu'])\n",
    "plt.title('Crianças por Classe')"
   ]
  },
  {
   "cell_type": "code",
   "execution_count": 279,
   "id": "1e891f46",
   "metadata": {
    "scrolled": true
   },
   "outputs": [
    {
     "data": {
      "text/html": [
       "<div>\n",
       "<style scoped>\n",
       "    .dataframe tbody tr th:only-of-type {\n",
       "        vertical-align: middle;\n",
       "    }\n",
       "\n",
       "    .dataframe tbody tr th {\n",
       "        vertical-align: top;\n",
       "    }\n",
       "\n",
       "    .dataframe thead th {\n",
       "        text-align: right;\n",
       "    }\n",
       "</style>\n",
       "<table border=\"1\" class=\"dataframe\">\n",
       "  <thead>\n",
       "    <tr style=\"text-align: right;\">\n",
       "      <th></th>\n",
       "      <th>sobrev</th>\n",
       "      <th>total</th>\n",
       "      <th>tx_sobrev</th>\n",
       "    </tr>\n",
       "    <tr>\n",
       "      <th>Pclass</th>\n",
       "      <th></th>\n",
       "      <th></th>\n",
       "      <th></th>\n",
       "    </tr>\n",
       "  </thead>\n",
       "  <tbody>\n",
       "    <tr>\n",
       "      <th>1</th>\n",
       "      <td>11</td>\n",
       "      <td>12</td>\n",
       "      <td>0.916667</td>\n",
       "    </tr>\n",
       "    <tr>\n",
       "      <th>2</th>\n",
       "      <td>21</td>\n",
       "      <td>23</td>\n",
       "      <td>0.913043</td>\n",
       "    </tr>\n",
       "    <tr>\n",
       "      <th>3</th>\n",
       "      <td>29</td>\n",
       "      <td>78</td>\n",
       "      <td>0.371795</td>\n",
       "    </tr>\n",
       "  </tbody>\n",
       "</table>\n",
       "</div>"
      ],
      "text/plain": [
       "        sobrev  total  tx_sobrev\n",
       "Pclass                          \n",
       "1           11     12   0.916667\n",
       "2           21     23   0.913043\n",
       "3           29     78   0.371795"
      ]
     },
     "execution_count": 279,
     "metadata": {},
     "output_type": "execute_result"
    }
   ],
   "source": [
    "# Analisando a média de sobreviventes por classe\n",
    "df_check = treino_criancas.groupby('Pclass')['Survived'].agg(['sum', 'count', 'mean'])\n",
    "df_check.columns = ['sobrev', 'total', 'tx_sobrev']\n",
    "df_check"
   ]
  },
  {
   "cell_type": "code",
   "execution_count": 280,
   "id": "72b23cd5",
   "metadata": {
    "scrolled": false
   },
   "outputs": [
    {
     "data": {
      "text/plain": [
       "Text(0.5, 1.0, 'Crianças Sobreviventes por Sexo')"
      ]
     },
     "execution_count": 280,
     "metadata": {},
     "output_type": "execute_result"
    },
    {
     "data": {
      "image/png": "[encoded data removed]",
      "text/plain": [
       "<Figure size 640x480 with 1 Axes>"
      ]
     },
     "metadata": {},
     "output_type": "display_data"
    }
   ],
   "source": [
    "# Agora vamos visualizar a quantidade de crianças salvas por Sexo\n",
    "sns.countplot(data=treino_criancas, x='Survived', hue='Sex_male', palette='Set1')\n",
    "plt.legend(['Feminino', 'Masculino'])\n",
    "plt.xticks([0, 1], ['NÃO Sobreviveu', 'Sobreviveu'])\n",
    "plt.title('Crianças Sobreviventes por Sexo')"
   ]
  },
  {
   "cell_type": "markdown",
   "id": "68d08de6",
   "metadata": {},
   "source": [
    "- Através da nossa análise, percebemos que a maioria das crianças da 1ª e 2ª Classe conseguiram sobreviver\n",
    "- Crianças da 3ª classe não tiveram a mesma prioridade e por isso a taxa de sobrevivencia é pequena, apenas 37%\n",
    "- Além disso, o sexo feminino foi maior entre os sobreviventes"
   ]
  },
  {
   "cell_type": "code",
   "execution_count": 281,
   "id": "c9981992",
   "metadata": {},
   "outputs": [],
   "source": [
    "# Criando um dataframe apenas com adultos, ou seja, idade entre 18 e 55 anos\n",
    "treino_adultos = treino[(treino['Age'] >= 18) & (treino['Age'] < 55)]"
   ]
  },
  {
   "cell_type": "code",
   "execution_count": 282,
   "id": "7e67b306",
   "metadata": {},
   "outputs": [
    {
     "data": {
      "text/plain": [
       "Survived\n",
       "0    468\n",
       "1    268\n",
       "Name: count, dtype: int64"
      ]
     },
     "execution_count": 282,
     "metadata": {},
     "output_type": "execute_result"
    }
   ],
   "source": [
    "# Quantidade de adultos que sobreviveram\n",
    "treino_adultos['Survived'].value_counts()"
   ]
  },
  {
   "cell_type": "code",
   "execution_count": 283,
   "id": "f97eabb7",
   "metadata": {},
   "outputs": [
    {
     "data": {
      "text/plain": [
       "Text(0.5, 1.0, 'Adultos por Classe')"
      ]
     },
     "execution_count": 283,
     "metadata": {},
     "output_type": "execute_result"
    },
    {
     "data": {
      "image/png": "[encoded data removed]",
      "text/plain": [
       "<Figure size 640x480 with 1 Axes>"
      ]
     },
     "metadata": {},
     "output_type": "display_data"
    }
   ],
   "source": [
    "# Agora vamos visualizar a quantidade de adultos salvos por classe\n",
    "sns.countplot(data=treino_adultos, x='Pclass', hue='Survived')\n",
    "plt.legend(['NÃO Sobreviveu', 'Sobreviveu'])\n",
    "plt.title('Adultos por Classe')"
   ]
  },
  {
   "cell_type": "code",
   "execution_count": 284,
   "id": "4f61d202",
   "metadata": {
    "scrolled": true
   },
   "outputs": [
    {
     "data": {
      "text/html": [
       "<div>\n",
       "<style scoped>\n",
       "    .dataframe tbody tr th:only-of-type {\n",
       "        vertical-align: middle;\n",
       "    }\n",
       "\n",
       "    .dataframe tbody tr th {\n",
       "        vertical-align: top;\n",
       "    }\n",
       "\n",
       "    .dataframe thead th {\n",
       "        text-align: right;\n",
       "    }\n",
       "</style>\n",
       "<table border=\"1\" class=\"dataframe\">\n",
       "  <thead>\n",
       "    <tr style=\"text-align: right;\">\n",
       "      <th></th>\n",
       "      <th>sobrev</th>\n",
       "      <th>total</th>\n",
       "      <th>tx_sobrev</th>\n",
       "    </tr>\n",
       "    <tr>\n",
       "      <th>Pclass</th>\n",
       "      <th></th>\n",
       "      <th></th>\n",
       "      <th></th>\n",
       "    </tr>\n",
       "  </thead>\n",
       "  <tbody>\n",
       "    <tr>\n",
       "      <th>1</th>\n",
       "      <td>115</td>\n",
       "      <td>177</td>\n",
       "      <td>0.649718</td>\n",
       "    </tr>\n",
       "    <tr>\n",
       "      <th>2</th>\n",
       "      <td>64</td>\n",
       "      <td>153</td>\n",
       "      <td>0.418301</td>\n",
       "    </tr>\n",
       "    <tr>\n",
       "      <th>3</th>\n",
       "      <td>89</td>\n",
       "      <td>406</td>\n",
       "      <td>0.219212</td>\n",
       "    </tr>\n",
       "  </tbody>\n",
       "</table>\n",
       "</div>"
      ],
      "text/plain": [
       "        sobrev  total  tx_sobrev\n",
       "Pclass                          \n",
       "1          115    177   0.649718\n",
       "2           64    153   0.418301\n",
       "3           89    406   0.219212"
      ]
     },
     "execution_count": 284,
     "metadata": {},
     "output_type": "execute_result"
    }
   ],
   "source": [
    "# Analisando a média de sobreviventes por classe\n",
    "df_check = treino_adultos.groupby('Pclass')['Survived'].agg(['sum', 'count', 'mean'])\n",
    "df_check.columns = ['sobrev', 'total', 'tx_sobrev']\n",
    "df_check"
   ]
  },
  {
   "cell_type": "code",
   "execution_count": 285,
   "id": "7ec0bc30",
   "metadata": {
    "scrolled": false
   },
   "outputs": [
    {
     "data": {
      "text/plain": [
       "Text(0.5, 1.0, 'Adultos Sobreviventes por Sexo')"
      ]
     },
     "execution_count": 285,
     "metadata": {},
     "output_type": "execute_result"
    },
    {
     "data": {
      "image/png": "[encoded data removed]",
      "text/plain": [
       "<Figure size 640x480 with 1 Axes>"
      ]
     },
     "metadata": {},
     "output_type": "display_data"
    }
   ],
   "source": [
    "# Agora vamos visualizar a quantidade de adultos salvos por Sexo\n",
    "sns.countplot(data=treino_adultos, x='Survived', hue='Sex_male', palette='Set1')\n",
    "plt.legend(['Feminino', 'Masculino'])\n",
    "plt.xticks([0, 1], ['NÃO Sobreviveu', 'Sobreviveu'])\n",
    "plt.title('Adultos Sobreviventes por Sexo')"
   ]
  },
  {
   "cell_type": "code",
   "execution_count": 286,
   "id": "befe6671",
   "metadata": {},
   "outputs": [],
   "source": [
    "# Criando um dataframe apenas com idosos, ou seja, idade acima dos 54 anos\n",
    "treino_idosos = treino[treino['Age'] >= 55]"
   ]
  },
  {
   "cell_type": "code",
   "execution_count": 287,
   "id": "61c0ad43",
   "metadata": {},
   "outputs": [
    {
     "data": {
      "text/plain": [
       "Survived\n",
       "0    29\n",
       "1    13\n",
       "Name: count, dtype: int64"
      ]
     },
     "execution_count": 287,
     "metadata": {},
     "output_type": "execute_result"
    }
   ],
   "source": [
    "# Quantidade de idosos que sobreviveram\n",
    "treino_idosos['Survived'].value_counts()"
   ]
  },
  {
   "cell_type": "code",
   "execution_count": 288,
   "id": "bc16fefa",
   "metadata": {
    "scrolled": false
   },
   "outputs": [
    {
     "data": {
      "text/plain": [
       "Text(0.5, 1.0, 'Idosos por Classe')"
      ]
     },
     "execution_count": 288,
     "metadata": {},
     "output_type": "execute_result"
    },
    {
     "data": {
      "image/png": "[encoded data removed]",
      "text/plain": [
       "<Figure size 640x480 with 1 Axes>"
      ]
     },
     "metadata": {},
     "output_type": "display_data"
    }
   ],
   "source": [
    "# Agora vamos visualizar a quantidade de idosos salvos por classe\n",
    "sns.countplot(data=treino_idosos, x='Pclass', hue='Survived')\n",
    "plt.legend(['NÃO Sobreviveu', 'Sobreviveu'])\n",
    "plt.title('Idosos por Classe')"
   ]
  },
  {
   "cell_type": "code",
   "execution_count": 289,
   "id": "e8413854",
   "metadata": {
    "scrolled": false
   },
   "outputs": [
    {
     "data": {
      "text/plain": [
       "Text(0.5, 1.0, 'Idosos Sobreviventes por Sexo')"
      ]
     },
     "execution_count": 289,
     "metadata": {},
     "output_type": "execute_result"
    },
    {
     "data": {
      "image/png": "[encoded data removed]",
      "text/plain": [
       "<Figure size 640x480 with 1 Axes>"
      ]
     },
     "metadata": {},
     "output_type": "display_data"
    }
   ],
   "source": [
    "# Agora vamos visualizar a quantidade de idosos salvos por Sexo\n",
    "sns.countplot(data=treino_idosos, x='Survived', hue='Sex_male', palette='Set1')\n",
    "plt.legend(['Feminino', 'Masculino'])\n",
    "plt.xticks([0, 1], ['NÃO Sobreviveu', 'Sobreviveu'])\n",
    "plt.title('Idosos Sobreviventes por Sexo')"
   ]
  },
  {
   "cell_type": "markdown",
   "id": "55351430",
   "metadata": {},
   "source": [
    "- **O que podemos concluir através dessas análises acima?**\n",
    "    - Passageiros da 1ª classe tiveram mais chance de sobreviver\n",
    "    - Passageiros do sexo feminino tiveram mais chances de sobreviver\n",
    "    - A maior parte das crianças que sobreviveram eram da 1ª e 2ª classe"
   ]
  },
  {
   "cell_type": "markdown",
   "id": "ff6d6334",
   "metadata": {},
   "source": [
    "- **Vamos criar uma coluna para classificar as idades em criança, adulto e idoso**\n",
    "    - Para isso, vamos codificar da seguinte forma:\n",
    "        - crianças = 1\n",
    "        - adultos = 2\n",
    "        - idosos = 3"
   ]
  },
  {
   "cell_type": "code",
   "execution_count": 290,
   "id": "a658e629",
   "metadata": {},
   "outputs": [],
   "source": [
    "# Função para classificar as idades\n",
    "def classifica_idade(idade):\n",
    "    if idade < 18:\n",
    "        return 1\n",
    "    elif idade >= 18 and idade < 55:\n",
    "        return 2\n",
    "    else:\n",
    "        return 3"
   ]
  },
  {
   "cell_type": "code",
   "execution_count": 291,
   "id": "57f7d7b8",
   "metadata": {},
   "outputs": [],
   "source": [
    "# Criando uma coluna com a classificação das idades para a base de treino\n",
    "treino['Classe_Idade'] = treino['Age'].apply(lambda x: classifica_idade(x))"
   ]
  },
  {
   "cell_type": "code",
   "execution_count": 292,
   "id": "92b6445f",
   "metadata": {},
   "outputs": [],
   "source": [
    "# Criando uma coluna com a classificação das idades para a base de teste\n",
    "teste['Classe_Idade'] = teste['Age'].apply(lambda x: classifica_idade(x))"
   ]
  },
  {
   "cell_type": "markdown",
   "id": "1ecbe64b",
   "metadata": {},
   "source": [
    "- **Agora, vamos avaliar o resultado dos modelos após esta alteração**"
   ]
  },
  {
   "cell_type": "code",
   "execution_count": 293,
   "id": "50cc130a",
   "metadata": {},
   "outputs": [
    {
     "data": {
      "text/html": [
       "<div>\n",
       "<style scoped>\n",
       "    .dataframe tbody tr th:only-of-type {\n",
       "        vertical-align: middle;\n",
       "    }\n",
       "\n",
       "    .dataframe tbody tr th {\n",
       "        vertical-align: top;\n",
       "    }\n",
       "\n",
       "    .dataframe thead th {\n",
       "        text-align: right;\n",
       "    }\n",
       "</style>\n",
       "<table border=\"1\" class=\"dataframe\">\n",
       "  <thead>\n",
       "    <tr style=\"text-align: right;\">\n",
       "      <th></th>\n",
       "      <th>Pclass</th>\n",
       "      <th>SibSp</th>\n",
       "      <th>Parch</th>\n",
       "      <th>Fare</th>\n",
       "      <th>Sex_male</th>\n",
       "      <th>Embarked_C</th>\n",
       "      <th>Embarked_Q</th>\n",
       "      <th>Embarked_S</th>\n",
       "      <th>Title_Master</th>\n",
       "      <th>Title_Miss</th>\n",
       "      <th>Title_Mr</th>\n",
       "      <th>Title_Mrs</th>\n",
       "      <th>Title_Others</th>\n",
       "      <th>Classe_Idade</th>\n",
       "    </tr>\n",
       "  </thead>\n",
       "  <tbody>\n",
       "    <tr>\n",
       "      <th>0</th>\n",
       "      <td>3</td>\n",
       "      <td>1</td>\n",
       "      <td>0</td>\n",
       "      <td>7.2500</td>\n",
       "      <td>1</td>\n",
       "      <td>0</td>\n",
       "      <td>0</td>\n",
       "      <td>1</td>\n",
       "      <td>0</td>\n",
       "      <td>0</td>\n",
       "      <td>1</td>\n",
       "      <td>0</td>\n",
       "      <td>0</td>\n",
       "      <td>2</td>\n",
       "    </tr>\n",
       "    <tr>\n",
       "      <th>1</th>\n",
       "      <td>1</td>\n",
       "      <td>1</td>\n",
       "      <td>0</td>\n",
       "      <td>71.2833</td>\n",
       "      <td>0</td>\n",
       "      <td>1</td>\n",
       "      <td>0</td>\n",
       "      <td>0</td>\n",
       "      <td>0</td>\n",
       "      <td>0</td>\n",
       "      <td>0</td>\n",
       "      <td>1</td>\n",
       "      <td>0</td>\n",
       "      <td>2</td>\n",
       "    </tr>\n",
       "  </tbody>\n",
       "</table>\n",
       "</div>"
      ],
      "text/plain": [
       "   Pclass  SibSp  Parch     Fare  Sex_male  Embarked_C  Embarked_Q  \\\n",
       "0       3      1      0   7.2500         1           0           0   \n",
       "1       1      1      0  71.2833         0           1           0   \n",
       "\n",
       "   Embarked_S  Title_Master  Title_Miss  Title_Mr  Title_Mrs  Title_Others  \\\n",
       "0           1             0           0         1          0             0   \n",
       "1           0             0           0         0          1             0   \n",
       "\n",
       "   Classe_Idade  \n",
       "0             2  \n",
       "1             2  "
      ]
     },
     "execution_count": 293,
     "metadata": {},
     "output_type": "execute_result"
    }
   ],
   "source": [
    "# Visualizando a nossa base de treino\n",
    "treino.drop(['PassengerId', 'Survived', 'Name', 'Age'], axis=1).head(2)"
   ]
  },
  {
   "cell_type": "code",
   "execution_count": 294,
   "id": "dc81da09",
   "metadata": {},
   "outputs": [
    {
     "data": {
      "text/html": [
       "<div>\n",
       "<style scoped>\n",
       "    .dataframe tbody tr th:only-of-type {\n",
       "        vertical-align: middle;\n",
       "    }\n",
       "\n",
       "    .dataframe tbody tr th {\n",
       "        vertical-align: top;\n",
       "    }\n",
       "\n",
       "    .dataframe thead th {\n",
       "        text-align: right;\n",
       "    }\n",
       "</style>\n",
       "<table border=\"1\" class=\"dataframe\">\n",
       "  <thead>\n",
       "    <tr style=\"text-align: right;\">\n",
       "      <th></th>\n",
       "      <th>modelos</th>\n",
       "      <th>Inicial</th>\n",
       "      <th>Title_Ohe</th>\n",
       "      <th>Classe_Idade</th>\n",
       "    </tr>\n",
       "  </thead>\n",
       "  <tbody>\n",
       "    <tr>\n",
       "      <th>0</th>\n",
       "      <td>DecisionTree</td>\n",
       "      <td>0.766102</td>\n",
       "      <td>0.762712</td>\n",
       "      <td>0.823729</td>\n",
       "    </tr>\n",
       "    <tr>\n",
       "      <th>1</th>\n",
       "      <td>KNN</td>\n",
       "      <td>0.732203</td>\n",
       "      <td>0.752542</td>\n",
       "      <td>0.786441</td>\n",
       "    </tr>\n",
       "    <tr>\n",
       "      <th>2</th>\n",
       "      <td>LogisticRegression</td>\n",
       "      <td>0.823729</td>\n",
       "      <td>0.840678</td>\n",
       "      <td>0.830508</td>\n",
       "    </tr>\n",
       "  </tbody>\n",
       "</table>\n",
       "</div>"
      ],
      "text/plain": [
       "              modelos   Inicial  Title_Ohe  Classe_Idade\n",
       "0        DecisionTree  0.766102   0.762712      0.823729\n",
       "1                 KNN  0.732203   0.752542      0.786441\n",
       "2  LogisticRegression  0.823729   0.840678      0.830508"
      ]
     },
     "execution_count": 294,
     "metadata": {},
     "output_type": "execute_result"
    }
   ],
   "source": [
    "# Vamos avaliar nossa alteração após adicionar as colunas de Classe Idade\n",
    "avaliar_alteracao(['PassengerId', 'Survived', 'Name', 'Age'], 'Classe_Idade')"
   ]
  },
  {
   "cell_type": "markdown",
   "id": "10dfeca1",
   "metadata": {},
   "source": [
    "- Interessante! Agora que classificamos as idades em três grupos, tivemos uma melhora no classificador DecisionTree e KNN. Vamos continuar tratando"
   ]
  },
  {
   "cell_type": "markdown",
   "id": "99cda75a",
   "metadata": {},
   "source": [
    "<a id='parch'></a>\n",
    "### Analisando e Tratando as Colunas SibSp e Parch"
   ]
  },
  {
   "cell_type": "code",
   "execution_count": 295,
   "id": "94977a96",
   "metadata": {},
   "outputs": [
    {
     "data": {
      "text/plain": [
       "<Axes: >"
      ]
     },
     "execution_count": 295,
     "metadata": {},
     "output_type": "execute_result"
    },
    {
     "data": {
      "image/png": "[encoded data removed]",
      "text/plain": [
       "<Figure size 1200x500 with 2 Axes>"
      ]
     },
     "metadata": {},
     "output_type": "display_data"
    }
   ],
   "source": [
    "# Correlação entre as variáveis da base\n",
    "plt.figure(figsize=(12, 5))\n",
    "sns.heatmap(treino.drop('Name', axis=1).corr(), annot=True, fmt=\".2f\", cmap='coolwarm')"
   ]
  },
  {
   "cell_type": "markdown",
   "id": "51338503",
   "metadata": {},
   "source": [
    "- As colunas **SibSp** e **Parch** possuem correlação **baixa com a coluna Survived**\n",
    "- As duas colunas parecem  ter uma certa correlação"
   ]
  },
  {
   "cell_type": "code",
   "execution_count": 296,
   "id": "a7a09af3",
   "metadata": {
    "scrolled": true
   },
   "outputs": [
    {
     "data": {
      "text/plain": [
       "SibSp\n",
       "0    608\n",
       "1    209\n",
       "2     28\n",
       "4     18\n",
       "3     16\n",
       "8      7\n",
       "5      5\n",
       "Name: count, dtype: int64"
      ]
     },
     "execution_count": 296,
     "metadata": {},
     "output_type": "execute_result"
    }
   ],
   "source": [
    "# Visualizando os valores da coluna SibSp e sua frequencia\n",
    "treino['SibSp'].value_counts()"
   ]
  },
  {
   "cell_type": "code",
   "execution_count": 297,
   "id": "5b92e781",
   "metadata": {},
   "outputs": [
    {
     "data": {
      "text/plain": [
       "Text(0.5, 1.0, 'SibSp')"
      ]
     },
     "execution_count": 297,
     "metadata": {},
     "output_type": "execute_result"
    },
    {
     "data": {
      "image/png": "[encoded data removed]",
      "text/plain": [
       "<Figure size 640x480 with 1 Axes>"
      ]
     },
     "metadata": {},
     "output_type": "display_data"
    }
   ],
   "source": [
    "# Visualizando a contagem de passageiros que estavam acompanhados pelo irmão ou esposa e filtrando pela sobrevivencia\n",
    "sns.countplot(data=treino, x='SibSp', hue='Survived')\n",
    "plt.legend(['NÃO Sobreviveu', 'Sobreviveu'])\n",
    "plt.title('SibSp')"
   ]
  },
  {
   "cell_type": "markdown",
   "id": "b657e881",
   "metadata": {},
   "source": [
    "- **Análise do gráfico**\n",
    "    - Podemos perceber que grande parte dos passageiros viajaram sozinhos, e a maior parte desses passageiros não sobreviveram.\n",
    "        - Por isso devemos nos perguntar, quem sobreviveu e quem morreu?\n",
    "        - Quantos eram mulheres e quantos eram homens?"
   ]
  },
  {
   "cell_type": "code",
   "execution_count": 298,
   "id": "ef811386",
   "metadata": {
    "scrolled": false
   },
   "outputs": [
    {
     "data": {
      "text/html": [
       "<div>\n",
       "<style scoped>\n",
       "    .dataframe tbody tr th:only-of-type {\n",
       "        vertical-align: middle;\n",
       "    }\n",
       "\n",
       "    .dataframe tbody tr th {\n",
       "        vertical-align: top;\n",
       "    }\n",
       "\n",
       "    .dataframe thead th {\n",
       "        text-align: right;\n",
       "    }\n",
       "</style>\n",
       "<table border=\"1\" class=\"dataframe\">\n",
       "  <thead>\n",
       "    <tr style=\"text-align: right;\">\n",
       "      <th></th>\n",
       "      <th>Não Sobreviveu</th>\n",
       "      <th>Sobreviveu</th>\n",
       "      <th>Total</th>\n",
       "    </tr>\n",
       "  </thead>\n",
       "  <tbody>\n",
       "    <tr>\n",
       "      <th>Feminino</th>\n",
       "      <td>37</td>\n",
       "      <td>137</td>\n",
       "      <td>174</td>\n",
       "    </tr>\n",
       "    <tr>\n",
       "      <th>Masculino</th>\n",
       "      <td>361</td>\n",
       "      <td>73</td>\n",
       "      <td>434</td>\n",
       "    </tr>\n",
       "    <tr>\n",
       "      <th>Total</th>\n",
       "      <td>398</td>\n",
       "      <td>210</td>\n",
       "      <td>608</td>\n",
       "    </tr>\n",
       "  </tbody>\n",
       "</table>\n",
       "</div>"
      ],
      "text/plain": [
       "           Não Sobreviveu  Sobreviveu  Total\n",
       "Feminino               37         137    174\n",
       "Masculino             361          73    434\n",
       "Total                 398         210    608"
      ]
     },
     "execution_count": 298,
     "metadata": {},
     "output_type": "execute_result"
    }
   ],
   "source": [
    "# Analisando a quantidade de passageiros que viajaram sozinho e cruzando as informações entre sexo e sobrevivencia\n",
    "df_check = pd.crosstab(index=treino[treino['SibSp']==0]['Sex_male'], columns=treino[treino['SibSp']==0]['Survived'], margins=True)\n",
    "\n",
    "df_check.columns = ['Não Sobreviveu', 'Sobreviveu', 'Total']\n",
    "df_check.index = ['Feminino', 'Masculino', 'Total']\n",
    "df_check"
   ]
  },
  {
   "cell_type": "markdown",
   "id": "79ff77e7",
   "metadata": {},
   "source": [
    "- A Tabela acima mostra todos os passageiros que viajaram sozinho (SipSp = 0)\n",
    "- Dos 210 passageiros que sobreviveram, 137 (65,23%) foram mulheres e 73 (34,77%) homens\n",
    "- Dos 398 passageiros que NÃO sobreviveram, 37 (9,29%) foram mulheres e 361 (90,71%) homens\n",
    "\n",
    "- No gráfico abaixo podemos visualizar esta diferença entre os sexos"
   ]
  },
  {
   "cell_type": "code",
   "execution_count": 299,
   "id": "e141602c",
   "metadata": {
    "scrolled": false
   },
   "outputs": [
    {
     "data": {
      "image/png": "[encoded data removed]",
      "text/plain": [
       "<Figure size 640x480 with 1 Axes>"
      ]
     },
     "metadata": {},
     "output_type": "display_data"
    }
   ],
   "source": [
    "# Visualizando a tabela acima em forma de gráfico\n",
    "\n",
    "sns.countplot(data=treino[treino['SibSp']==0], x='Survived', hue='Sex_male', palette='Set1')\n",
    "\n",
    "plt.title('Passageiros que viajaram sozinhos')\n",
    "plt.xticks(ticks = [0, 1], labels=['NÃO Sobreviveu', 'Sobreviveu'])\n",
    "plt.legend(['Feminino', 'Masculino'])\n",
    "plt.show()"
   ]
  },
  {
   "cell_type": "markdown",
   "id": "85e4ee82",
   "metadata": {},
   "source": [
    "- Agora, vamos fazer a mesma análise para SibSp = 1"
   ]
  },
  {
   "cell_type": "code",
   "execution_count": 300,
   "id": "78c172ba",
   "metadata": {
    "scrolled": true
   },
   "outputs": [
    {
     "data": {
      "text/html": [
       "<div>\n",
       "<style scoped>\n",
       "    .dataframe tbody tr th:only-of-type {\n",
       "        vertical-align: middle;\n",
       "    }\n",
       "\n",
       "    .dataframe tbody tr th {\n",
       "        vertical-align: top;\n",
       "    }\n",
       "\n",
       "    .dataframe thead th {\n",
       "        text-align: right;\n",
       "    }\n",
       "</style>\n",
       "<table border=\"1\" class=\"dataframe\">\n",
       "  <thead>\n",
       "    <tr style=\"text-align: right;\">\n",
       "      <th></th>\n",
       "      <th>Não Sobreviveu</th>\n",
       "      <th>Sobreviveu</th>\n",
       "      <th>Total</th>\n",
       "    </tr>\n",
       "  </thead>\n",
       "  <tbody>\n",
       "    <tr>\n",
       "      <th>Feminino</th>\n",
       "      <td>26</td>\n",
       "      <td>80</td>\n",
       "      <td>106</td>\n",
       "    </tr>\n",
       "    <tr>\n",
       "      <th>Masculino</th>\n",
       "      <td>71</td>\n",
       "      <td>32</td>\n",
       "      <td>103</td>\n",
       "    </tr>\n",
       "    <tr>\n",
       "      <th>Total</th>\n",
       "      <td>97</td>\n",
       "      <td>112</td>\n",
       "      <td>209</td>\n",
       "    </tr>\n",
       "  </tbody>\n",
       "</table>\n",
       "</div>"
      ],
      "text/plain": [
       "           Não Sobreviveu  Sobreviveu  Total\n",
       "Feminino               26          80    106\n",
       "Masculino              71          32    103\n",
       "Total                  97         112    209"
      ]
     },
     "execution_count": 300,
     "metadata": {},
     "output_type": "execute_result"
    }
   ],
   "source": [
    "# Analisando a quantidade de passageiros que viajaram com mais uma pessoa e cruzando as informações entre sexo e sobrevivencia\n",
    "df_check = pd.crosstab(index=treino[treino['SibSp']==1]['Sex_male'], columns=treino[treino['SibSp']==1]['Survived'], margins=True)\n",
    "\n",
    "df_check.columns = ['Não Sobreviveu', 'Sobreviveu', 'Total']\n",
    "df_check.index = ['Feminino', 'Masculino', 'Total']\n",
    "df_check"
   ]
  },
  {
   "cell_type": "code",
   "execution_count": 301,
   "id": "54d91d25",
   "metadata": {
    "scrolled": false
   },
   "outputs": [
    {
     "data": {
      "image/png": "[encoded data removed]",
      "text/plain": [
       "<Figure size 640x480 with 1 Axes>"
      ]
     },
     "metadata": {},
     "output_type": "display_data"
    }
   ],
   "source": [
    "# Visualizando a tabela acima em forma de gráfico\n",
    "\n",
    "sns.countplot(data=treino[treino['SibSp']==1], x='Survived', hue='Sex_male', palette='Set1')\n",
    "\n",
    "plt.title('Passageiros que viajaram acompanhados por uma pessoa')\n",
    "plt.xticks(ticks = [0, 1], labels=['NÃO Sobreviveu', 'Sobreviveu'])\n",
    "plt.legend(['Feminino', 'Masculino'])\n",
    "plt.show()"
   ]
  },
  {
   "cell_type": "markdown",
   "id": "dd3cd61b",
   "metadata": {},
   "source": [
    "- **Fazendo a mesma analise com a Coluna Parch**"
   ]
  },
  {
   "cell_type": "code",
   "execution_count": 302,
   "id": "3799c7ff",
   "metadata": {
    "scrolled": true
   },
   "outputs": [
    {
     "data": {
      "text/plain": [
       "Parch\n",
       "0    678\n",
       "1    118\n",
       "2     80\n",
       "5      5\n",
       "3      5\n",
       "4      4\n",
       "6      1\n",
       "Name: count, dtype: int64"
      ]
     },
     "execution_count": 302,
     "metadata": {},
     "output_type": "execute_result"
    }
   ],
   "source": [
    "# Visualizando os valores da coluna Parch e sua frequencia\n",
    "treino['Parch'].value_counts()"
   ]
  },
  {
   "cell_type": "code",
   "execution_count": 303,
   "id": "61c3e996",
   "metadata": {
    "scrolled": false
   },
   "outputs": [
    {
     "data": {
      "image/png": "[encoded data removed]",
      "text/plain": [
       "<Figure size 640x480 with 1 Axes>"
      ]
     },
     "metadata": {},
     "output_type": "display_data"
    }
   ],
   "source": [
    "# Visualizando a contagem de passageiros da coluna Parch e filtrando pela sobrevivencia\n",
    "ax = sns.countplot(data=treino, x='Parch', hue='Survived', )\n",
    "\n",
    "# Adicionar a contagem em cada barra\n",
    "for p in ax.patches:\n",
    "    height = p.get_height()\n",
    "    ax.text(\n",
    "        p.get_x() + p.get_width() / 2.,  # X da posição\n",
    "        height,                          # Y da posição\n",
    "        f'{int(height)}',                # Texto\n",
    "        ha=\"center\",                      # Alinhamento horizontal\n",
    "        va=\"center\"                       # Alinhamento vertical\n",
    "    )\n",
    "    \n",
    "plt.show()"
   ]
  },
  {
   "cell_type": "code",
   "execution_count": 304,
   "id": "7ff404e7",
   "metadata": {
    "scrolled": false
   },
   "outputs": [
    {
     "data": {
      "text/html": [
       "<div>\n",
       "<style scoped>\n",
       "    .dataframe tbody tr th:only-of-type {\n",
       "        vertical-align: middle;\n",
       "    }\n",
       "\n",
       "    .dataframe tbody tr th {\n",
       "        vertical-align: top;\n",
       "    }\n",
       "\n",
       "    .dataframe thead th {\n",
       "        text-align: right;\n",
       "    }\n",
       "</style>\n",
       "<table border=\"1\" class=\"dataframe\">\n",
       "  <thead>\n",
       "    <tr style=\"text-align: right;\">\n",
       "      <th></th>\n",
       "      <th>Não Sobreviveu</th>\n",
       "      <th>Sobreviveu</th>\n",
       "      <th>Total</th>\n",
       "    </tr>\n",
       "  </thead>\n",
       "  <tbody>\n",
       "    <tr>\n",
       "      <th>Feminino</th>\n",
       "      <td>41</td>\n",
       "      <td>153</td>\n",
       "      <td>194</td>\n",
       "    </tr>\n",
       "    <tr>\n",
       "      <th>Masculino</th>\n",
       "      <td>404</td>\n",
       "      <td>80</td>\n",
       "      <td>484</td>\n",
       "    </tr>\n",
       "    <tr>\n",
       "      <th>Total</th>\n",
       "      <td>445</td>\n",
       "      <td>233</td>\n",
       "      <td>678</td>\n",
       "    </tr>\n",
       "  </tbody>\n",
       "</table>\n",
       "</div>"
      ],
      "text/plain": [
       "           Não Sobreviveu  Sobreviveu  Total\n",
       "Feminino               41         153    194\n",
       "Masculino             404          80    484\n",
       "Total                 445         233    678"
      ]
     },
     "execution_count": 304,
     "metadata": {},
     "output_type": "execute_result"
    }
   ],
   "source": [
    "# Analisando a quantidade de passageiros que viajaram sozinho e cruzando as informações entre sexo e sobrevivencia\n",
    "df_check = pd.crosstab(index=treino[treino['Parch']==0]['Sex_male'], columns=treino[treino['Parch']==0]['Survived'], margins=True)\n",
    "\n",
    "df_check.columns = ['Não Sobreviveu', 'Sobreviveu', 'Total']\n",
    "df_check.index = ['Feminino', 'Masculino', 'Total']\n",
    "df_check"
   ]
  },
  {
   "cell_type": "code",
   "execution_count": 305,
   "id": "ebc03a3d",
   "metadata": {
    "scrolled": false
   },
   "outputs": [
    {
     "data": {
      "image/png": "[encoded data removed]",
      "text/plain": [
       "<Figure size 640x480 with 1 Axes>"
      ]
     },
     "metadata": {},
     "output_type": "display_data"
    }
   ],
   "source": [
    "# Visualizando a tabela acima em forma de gráfico\n",
    "\n",
    "sns.countplot(data=treino[treino['Parch']==0], x='Survived', hue='Sex_male', palette='Set1')\n",
    "\n",
    "plt.title('Passageiros que viajaram sozinhos')\n",
    "plt.xticks(ticks = [0, 1], labels=['NÃO Sobreviveu', 'Sobreviveu'])\n",
    "plt.legend(['Feminino', 'Masculino'])\n",
    "plt.show()"
   ]
  },
  {
   "cell_type": "markdown",
   "id": "7b76b808",
   "metadata": {},
   "source": [
    "**Análise das colunas SipSp e Parch**\n",
    "\n",
    "- As colunas SipSp e Parch tem baixa correlação com a coluna Survived.\n",
    "- Ao observar com maiores detalhes a coluna SibSp e Parch, percebemos que a maioria dos passageiros viajaram sozinhos, ou seja, SibSp = 0 e Parch = 0\n",
    "- Analisando esses passageiros que viajaram sozinhos, a maior parte deles NÃO sobreviveram\n",
    "- Quem são esses passageiros que sobreviveram? Quem não sobreviveu?\n",
    "    - Para SibSp = 0\n",
    "        - Dos 210 passageiros que sobreviveram, 137 (65,23%) foram mulheres\n",
    "        - Dos 398 passageiros que NÃO sobreviveram, 361 (90,71%) homens\n",
    "    - Ao fazer a mesma análise com a coluna Parch, podemos notar que a maior parte dos passageiros que viajaram sozinhos e que sobreviveram eram mulheres e grande parte dos não sobreviventes eram homens.\n",
    "- Fazendo a mesma análise para aqueles que estavam acompanhados por uma pessoa, SibSp = 1 e Parch = 1, podemos perceber o mesmo padrão. A maioria dos sobreviventes eram mulheres e grande parte dos não sobreviventes eram homens.\n",
    "\n",
    "- Podemos concluir com isso que viajar sozinho ou acompanhado não possui tanta relevância para a sobrevivência. O que realmente importa é o sexo da pessoa, para mulheres a chance de sobreviver é muito maior que para homens."
   ]
  },
  {
   "cell_type": "markdown",
   "id": "9ceb67ab",
   "metadata": {},
   "source": [
    "- **Vamos unir as duas colunas**\n",
    "    - As duas colunas representam quantidade de acompanhantes, vamos unir as duas colunas em apenas uma"
   ]
  },
  {
   "cell_type": "code",
   "execution_count": 306,
   "id": "e87bc951",
   "metadata": {},
   "outputs": [],
   "source": [
    "# Unindo SipSp e Parch para a base de treino\n",
    "treino['Family'] = treino['SibSp'] + treino['Parch']\n",
    "\n",
    "# Unindo SipSp e Parch para a base de teste\n",
    "teste['Family'] = teste['SibSp'] + teste['Parch']"
   ]
  },
  {
   "cell_type": "markdown",
   "id": "cf8dacbd",
   "metadata": {},
   "source": [
    "- **Agora, vamos avaliar o resultado dos modelos após esta alteração**"
   ]
  },
  {
   "cell_type": "code",
   "execution_count": 307,
   "id": "d01c5a6a",
   "metadata": {
    "scrolled": true
   },
   "outputs": [
    {
     "data": {
      "text/html": [
       "<div>\n",
       "<style scoped>\n",
       "    .dataframe tbody tr th:only-of-type {\n",
       "        vertical-align: middle;\n",
       "    }\n",
       "\n",
       "    .dataframe tbody tr th {\n",
       "        vertical-align: top;\n",
       "    }\n",
       "\n",
       "    .dataframe thead th {\n",
       "        text-align: right;\n",
       "    }\n",
       "</style>\n",
       "<table border=\"1\" class=\"dataframe\">\n",
       "  <thead>\n",
       "    <tr style=\"text-align: right;\">\n",
       "      <th></th>\n",
       "      <th>Pclass</th>\n",
       "      <th>Fare</th>\n",
       "      <th>Sex_male</th>\n",
       "      <th>Embarked_C</th>\n",
       "      <th>Embarked_Q</th>\n",
       "      <th>Embarked_S</th>\n",
       "      <th>Title_Master</th>\n",
       "      <th>Title_Miss</th>\n",
       "      <th>Title_Mr</th>\n",
       "      <th>Title_Mrs</th>\n",
       "      <th>Title_Others</th>\n",
       "      <th>Classe_Idade</th>\n",
       "      <th>Family</th>\n",
       "    </tr>\n",
       "  </thead>\n",
       "  <tbody>\n",
       "    <tr>\n",
       "      <th>0</th>\n",
       "      <td>3</td>\n",
       "      <td>7.2500</td>\n",
       "      <td>1</td>\n",
       "      <td>0</td>\n",
       "      <td>0</td>\n",
       "      <td>1</td>\n",
       "      <td>0</td>\n",
       "      <td>0</td>\n",
       "      <td>1</td>\n",
       "      <td>0</td>\n",
       "      <td>0</td>\n",
       "      <td>2</td>\n",
       "      <td>1</td>\n",
       "    </tr>\n",
       "    <tr>\n",
       "      <th>1</th>\n",
       "      <td>1</td>\n",
       "      <td>71.2833</td>\n",
       "      <td>0</td>\n",
       "      <td>1</td>\n",
       "      <td>0</td>\n",
       "      <td>0</td>\n",
       "      <td>0</td>\n",
       "      <td>0</td>\n",
       "      <td>0</td>\n",
       "      <td>1</td>\n",
       "      <td>0</td>\n",
       "      <td>2</td>\n",
       "      <td>1</td>\n",
       "    </tr>\n",
       "  </tbody>\n",
       "</table>\n",
       "</div>"
      ],
      "text/plain": [
       "   Pclass     Fare  Sex_male  Embarked_C  Embarked_Q  Embarked_S  \\\n",
       "0       3   7.2500         1           0           0           1   \n",
       "1       1  71.2833         0           1           0           0   \n",
       "\n",
       "   Title_Master  Title_Miss  Title_Mr  Title_Mrs  Title_Others  Classe_Idade  \\\n",
       "0             0           0         1          0             0             2   \n",
       "1             0           0         0          1             0             2   \n",
       "\n",
       "   Family  \n",
       "0       1  \n",
       "1       1  "
      ]
     },
     "execution_count": 307,
     "metadata": {},
     "output_type": "execute_result"
    }
   ],
   "source": [
    "# Visualizando a nossa base de treino\n",
    "treino.drop(['PassengerId', 'Survived', 'Name', 'Age', 'SibSp', 'Parch'], axis=1).head(2)"
   ]
  },
  {
   "cell_type": "code",
   "execution_count": 308,
   "id": "9ab1e5df",
   "metadata": {
    "scrolled": true
   },
   "outputs": [
    {
     "data": {
      "text/html": [
       "<div>\n",
       "<style scoped>\n",
       "    .dataframe tbody tr th:only-of-type {\n",
       "        vertical-align: middle;\n",
       "    }\n",
       "\n",
       "    .dataframe tbody tr th {\n",
       "        vertical-align: top;\n",
       "    }\n",
       "\n",
       "    .dataframe thead th {\n",
       "        text-align: right;\n",
       "    }\n",
       "</style>\n",
       "<table border=\"1\" class=\"dataframe\">\n",
       "  <thead>\n",
       "    <tr style=\"text-align: right;\">\n",
       "      <th></th>\n",
       "      <th>modelos</th>\n",
       "      <th>Inicial</th>\n",
       "      <th>Title_Ohe</th>\n",
       "      <th>Classe_Idade</th>\n",
       "      <th>Family</th>\n",
       "    </tr>\n",
       "  </thead>\n",
       "  <tbody>\n",
       "    <tr>\n",
       "      <th>0</th>\n",
       "      <td>DecisionTree</td>\n",
       "      <td>0.766102</td>\n",
       "      <td>0.762712</td>\n",
       "      <td>0.823729</td>\n",
       "      <td>0.816949</td>\n",
       "    </tr>\n",
       "    <tr>\n",
       "      <th>1</th>\n",
       "      <td>KNN</td>\n",
       "      <td>0.732203</td>\n",
       "      <td>0.752542</td>\n",
       "      <td>0.786441</td>\n",
       "      <td>0.803390</td>\n",
       "    </tr>\n",
       "    <tr>\n",
       "      <th>2</th>\n",
       "      <td>LogisticRegression</td>\n",
       "      <td>0.823729</td>\n",
       "      <td>0.840678</td>\n",
       "      <td>0.830508</td>\n",
       "      <td>0.833898</td>\n",
       "    </tr>\n",
       "  </tbody>\n",
       "</table>\n",
       "</div>"
      ],
      "text/plain": [
       "              modelos   Inicial  Title_Ohe  Classe_Idade    Family\n",
       "0        DecisionTree  0.766102   0.762712      0.823729  0.816949\n",
       "1                 KNN  0.732203   0.752542      0.786441  0.803390\n",
       "2  LogisticRegression  0.823729   0.840678      0.830508  0.833898"
      ]
     },
     "execution_count": 308,
     "metadata": {},
     "output_type": "execute_result"
    }
   ],
   "source": [
    "# Vamos avaliar nossa alteração após adicionar a coluna Family\n",
    "avaliar_alteracao(['PassengerId', 'Survived', 'Name', 'Age', 'SibSp', 'Parch'], 'Family')"
   ]
  },
  {
   "cell_type": "markdown",
   "id": "530a899e",
   "metadata": {},
   "source": [
    "- Tivemos uma pequena melhora apenas no classificador KNN. Vamos continuar tratando"
   ]
  },
  {
   "cell_type": "markdown",
   "id": "7f797093",
   "metadata": {},
   "source": [
    "<a id='pclass'></a>\n",
    "### Analisando e Tratando as Colunas Pclass e Fare"
   ]
  },
  {
   "cell_type": "code",
   "execution_count": 309,
   "id": "ecd94da8",
   "metadata": {
    "scrolled": false
   },
   "outputs": [
    {
     "data": {
      "image/png": "[encoded data removed]",
      "text/plain": [
       "<Figure size 1000x400 with 3 Axes>"
      ]
     },
     "metadata": {},
     "output_type": "display_data"
    }
   ],
   "source": [
    "# Visualizando a distribuição do valor das passagens por classe\n",
    "fig, ax = plt.subplots(1, 3, figsize=(10, 4))\n",
    "\n",
    "ax[0].hist(treino[treino['Pclass']==1]['Fare'])\n",
    "ax[1].hist(treino[treino['Pclass']==2]['Fare'])\n",
    "ax[2].hist(treino[treino['Pclass']==3]['Fare'])\n",
    "\n",
    "ax[0].set_title('Fare (Pclass = 1)')\n",
    "ax[1].set_title('Fare (Pclass = 2)')\n",
    "ax[2].set_title('Fare (Pclass = 3)')\n",
    "\n",
    "ax[0].set_xlabel('Fare')\n",
    "ax[1].set_xlabel('Fare')\n",
    "ax[2].set_xlabel('Fare')\n",
    "\n",
    "plt.tight_layout()"
   ]
  },
  {
   "cell_type": "code",
   "execution_count": 310,
   "id": "6200ad22",
   "metadata": {},
   "outputs": [
    {
     "data": {
      "text/html": [
       "<div>\n",
       "<style scoped>\n",
       "    .dataframe tbody tr th:only-of-type {\n",
       "        vertical-align: middle;\n",
       "    }\n",
       "\n",
       "    .dataframe tbody tr th {\n",
       "        vertical-align: top;\n",
       "    }\n",
       "\n",
       "    .dataframe thead th {\n",
       "        text-align: right;\n",
       "    }\n",
       "</style>\n",
       "<table border=\"1\" class=\"dataframe\">\n",
       "  <thead>\n",
       "    <tr style=\"text-align: right;\">\n",
       "      <th></th>\n",
       "      <th>count</th>\n",
       "      <th>mean</th>\n",
       "      <th>std</th>\n",
       "      <th>min</th>\n",
       "      <th>25%</th>\n",
       "      <th>50%</th>\n",
       "      <th>75%</th>\n",
       "      <th>max</th>\n",
       "    </tr>\n",
       "    <tr>\n",
       "      <th>Pclass</th>\n",
       "      <th></th>\n",
       "      <th></th>\n",
       "      <th></th>\n",
       "      <th></th>\n",
       "      <th></th>\n",
       "      <th></th>\n",
       "      <th></th>\n",
       "      <th></th>\n",
       "    </tr>\n",
       "  </thead>\n",
       "  <tbody>\n",
       "    <tr>\n",
       "      <th>1</th>\n",
       "      <td>216.0</td>\n",
       "      <td>84.154687</td>\n",
       "      <td>78.380373</td>\n",
       "      <td>0.0</td>\n",
       "      <td>30.92395</td>\n",
       "      <td>60.2875</td>\n",
       "      <td>93.5</td>\n",
       "      <td>512.3292</td>\n",
       "    </tr>\n",
       "    <tr>\n",
       "      <th>2</th>\n",
       "      <td>184.0</td>\n",
       "      <td>20.662183</td>\n",
       "      <td>13.417399</td>\n",
       "      <td>0.0</td>\n",
       "      <td>13.00000</td>\n",
       "      <td>14.2500</td>\n",
       "      <td>26.0</td>\n",
       "      <td>73.5000</td>\n",
       "    </tr>\n",
       "    <tr>\n",
       "      <th>3</th>\n",
       "      <td>491.0</td>\n",
       "      <td>13.675550</td>\n",
       "      <td>11.778142</td>\n",
       "      <td>0.0</td>\n",
       "      <td>7.75000</td>\n",
       "      <td>8.0500</td>\n",
       "      <td>15.5</td>\n",
       "      <td>69.5500</td>\n",
       "    </tr>\n",
       "  </tbody>\n",
       "</table>\n",
       "</div>"
      ],
      "text/plain": [
       "        count       mean        std  min       25%      50%   75%       max\n",
       "Pclass                                                                     \n",
       "1       216.0  84.154687  78.380373  0.0  30.92395  60.2875  93.5  512.3292\n",
       "2       184.0  20.662183  13.417399  0.0  13.00000  14.2500  26.0   73.5000\n",
       "3       491.0  13.675550  11.778142  0.0   7.75000   8.0500  15.5   69.5500"
      ]
     },
     "execution_count": 310,
     "metadata": {},
     "output_type": "execute_result"
    }
   ],
   "source": [
    "# Entendendo a relação entre Pclass x Fare\n",
    "treino.groupby(['Pclass'])['Fare'].describe()"
   ]
  },
  {
   "cell_type": "markdown",
   "id": "166f74bf",
   "metadata": {},
   "source": [
    "- Observe que o valor mínimo de cada classe é zero, ou seja, alguns passageiros não pagaram nada para embarcar e alguns deles ainda ficaram na primeira ou segunda classe, por que isso aconteceu?\n",
    "    - Vamos analisar esses passageiros\n",
    "- Observe também que cada classe possui outliers pois os valores máximos estão bem distantes da mediana"
   ]
  },
  {
   "cell_type": "code",
   "execution_count": 311,
   "id": "0878dd8a",
   "metadata": {
    "scrolled": true
   },
   "outputs": [
    {
     "data": {
      "text/html": [
       "<div>\n",
       "<style scoped>\n",
       "    .dataframe tbody tr th:only-of-type {\n",
       "        vertical-align: middle;\n",
       "    }\n",
       "\n",
       "    .dataframe tbody tr th {\n",
       "        vertical-align: top;\n",
       "    }\n",
       "\n",
       "    .dataframe thead th {\n",
       "        text-align: right;\n",
       "    }\n",
       "</style>\n",
       "<table border=\"1\" class=\"dataframe\">\n",
       "  <thead>\n",
       "    <tr style=\"text-align: right;\">\n",
       "      <th></th>\n",
       "      <th>PassengerId</th>\n",
       "      <th>Survived</th>\n",
       "      <th>Pclass</th>\n",
       "      <th>Name</th>\n",
       "      <th>Age</th>\n",
       "      <th>SibSp</th>\n",
       "      <th>Parch</th>\n",
       "      <th>Fare</th>\n",
       "      <th>Sex_male</th>\n",
       "      <th>Embarked_C</th>\n",
       "      <th>Embarked_Q</th>\n",
       "      <th>Embarked_S</th>\n",
       "      <th>Title_Master</th>\n",
       "      <th>Title_Miss</th>\n",
       "      <th>Title_Mr</th>\n",
       "      <th>Title_Mrs</th>\n",
       "      <th>Title_Others</th>\n",
       "      <th>Classe_Idade</th>\n",
       "      <th>Family</th>\n",
       "    </tr>\n",
       "  </thead>\n",
       "  <tbody>\n",
       "    <tr>\n",
       "      <th>168</th>\n",
       "      <td>169</td>\n",
       "      <td>0</td>\n",
       "      <td>1</td>\n",
       "      <td>Baumann, Mr. John D</td>\n",
       "      <td>40.0</td>\n",
       "      <td>0</td>\n",
       "      <td>0</td>\n",
       "      <td>25.9250</td>\n",
       "      <td>1</td>\n",
       "      <td>0</td>\n",
       "      <td>0</td>\n",
       "      <td>1</td>\n",
       "      <td>0</td>\n",
       "      <td>0</td>\n",
       "      <td>1</td>\n",
       "      <td>0</td>\n",
       "      <td>0</td>\n",
       "      <td>2</td>\n",
       "      <td>0</td>\n",
       "    </tr>\n",
       "    <tr>\n",
       "      <th>263</th>\n",
       "      <td>264</td>\n",
       "      <td>0</td>\n",
       "      <td>1</td>\n",
       "      <td>Harrison, Mr. William</td>\n",
       "      <td>40.0</td>\n",
       "      <td>0</td>\n",
       "      <td>0</td>\n",
       "      <td>0.0000</td>\n",
       "      <td>1</td>\n",
       "      <td>0</td>\n",
       "      <td>0</td>\n",
       "      <td>1</td>\n",
       "      <td>0</td>\n",
       "      <td>0</td>\n",
       "      <td>1</td>\n",
       "      <td>0</td>\n",
       "      <td>0</td>\n",
       "      <td>2</td>\n",
       "      <td>0</td>\n",
       "    </tr>\n",
       "    <tr>\n",
       "      <th>633</th>\n",
       "      <td>634</td>\n",
       "      <td>0</td>\n",
       "      <td>1</td>\n",
       "      <td>Parr, Mr. William Henry Marsh</td>\n",
       "      <td>40.0</td>\n",
       "      <td>0</td>\n",
       "      <td>0</td>\n",
       "      <td>0.0000</td>\n",
       "      <td>1</td>\n",
       "      <td>0</td>\n",
       "      <td>0</td>\n",
       "      <td>1</td>\n",
       "      <td>0</td>\n",
       "      <td>0</td>\n",
       "      <td>1</td>\n",
       "      <td>0</td>\n",
       "      <td>0</td>\n",
       "      <td>2</td>\n",
       "      <td>0</td>\n",
       "    </tr>\n",
       "    <tr>\n",
       "      <th>662</th>\n",
       "      <td>663</td>\n",
       "      <td>0</td>\n",
       "      <td>1</td>\n",
       "      <td>Colley, Mr. Edward Pomeroy</td>\n",
       "      <td>47.0</td>\n",
       "      <td>0</td>\n",
       "      <td>0</td>\n",
       "      <td>25.5875</td>\n",
       "      <td>1</td>\n",
       "      <td>0</td>\n",
       "      <td>0</td>\n",
       "      <td>1</td>\n",
       "      <td>0</td>\n",
       "      <td>0</td>\n",
       "      <td>1</td>\n",
       "      <td>0</td>\n",
       "      <td>0</td>\n",
       "      <td>2</td>\n",
       "      <td>0</td>\n",
       "    </tr>\n",
       "    <tr>\n",
       "      <th>796</th>\n",
       "      <td>797</td>\n",
       "      <td>1</td>\n",
       "      <td>1</td>\n",
       "      <td>Leader, Dr. Alice (Farnham)</td>\n",
       "      <td>49.0</td>\n",
       "      <td>0</td>\n",
       "      <td>0</td>\n",
       "      <td>25.9292</td>\n",
       "      <td>0</td>\n",
       "      <td>0</td>\n",
       "      <td>0</td>\n",
       "      <td>1</td>\n",
       "      <td>0</td>\n",
       "      <td>0</td>\n",
       "      <td>0</td>\n",
       "      <td>0</td>\n",
       "      <td>1</td>\n",
       "      <td>2</td>\n",
       "      <td>0</td>\n",
       "    </tr>\n",
       "    <tr>\n",
       "      <th>806</th>\n",
       "      <td>807</td>\n",
       "      <td>0</td>\n",
       "      <td>1</td>\n",
       "      <td>Andrews, Mr. Thomas Jr</td>\n",
       "      <td>39.0</td>\n",
       "      <td>0</td>\n",
       "      <td>0</td>\n",
       "      <td>0.0000</td>\n",
       "      <td>1</td>\n",
       "      <td>0</td>\n",
       "      <td>0</td>\n",
       "      <td>1</td>\n",
       "      <td>0</td>\n",
       "      <td>0</td>\n",
       "      <td>1</td>\n",
       "      <td>0</td>\n",
       "      <td>0</td>\n",
       "      <td>2</td>\n",
       "      <td>0</td>\n",
       "    </tr>\n",
       "    <tr>\n",
       "      <th>815</th>\n",
       "      <td>816</td>\n",
       "      <td>0</td>\n",
       "      <td>1</td>\n",
       "      <td>Fry, Mr. Richard</td>\n",
       "      <td>40.0</td>\n",
       "      <td>0</td>\n",
       "      <td>0</td>\n",
       "      <td>0.0000</td>\n",
       "      <td>1</td>\n",
       "      <td>0</td>\n",
       "      <td>0</td>\n",
       "      <td>1</td>\n",
       "      <td>0</td>\n",
       "      <td>0</td>\n",
       "      <td>1</td>\n",
       "      <td>0</td>\n",
       "      <td>0</td>\n",
       "      <td>2</td>\n",
       "      <td>0</td>\n",
       "    </tr>\n",
       "    <tr>\n",
       "      <th>822</th>\n",
       "      <td>823</td>\n",
       "      <td>0</td>\n",
       "      <td>1</td>\n",
       "      <td>Reuchlin, Jonkheer. John George</td>\n",
       "      <td>38.0</td>\n",
       "      <td>0</td>\n",
       "      <td>0</td>\n",
       "      <td>0.0000</td>\n",
       "      <td>1</td>\n",
       "      <td>0</td>\n",
       "      <td>0</td>\n",
       "      <td>1</td>\n",
       "      <td>0</td>\n",
       "      <td>0</td>\n",
       "      <td>0</td>\n",
       "      <td>0</td>\n",
       "      <td>1</td>\n",
       "      <td>2</td>\n",
       "      <td>0</td>\n",
       "    </tr>\n",
       "    <tr>\n",
       "      <th>862</th>\n",
       "      <td>863</td>\n",
       "      <td>1</td>\n",
       "      <td>1</td>\n",
       "      <td>Swift, Mrs. Frederick Joel (Margaret Welles Ba...</td>\n",
       "      <td>48.0</td>\n",
       "      <td>0</td>\n",
       "      <td>0</td>\n",
       "      <td>25.9292</td>\n",
       "      <td>0</td>\n",
       "      <td>0</td>\n",
       "      <td>0</td>\n",
       "      <td>1</td>\n",
       "      <td>0</td>\n",
       "      <td>0</td>\n",
       "      <td>0</td>\n",
       "      <td>1</td>\n",
       "      <td>0</td>\n",
       "      <td>2</td>\n",
       "      <td>0</td>\n",
       "    </tr>\n",
       "    <tr>\n",
       "      <th>872</th>\n",
       "      <td>873</td>\n",
       "      <td>0</td>\n",
       "      <td>1</td>\n",
       "      <td>Carlsson, Mr. Frans Olof</td>\n",
       "      <td>33.0</td>\n",
       "      <td>0</td>\n",
       "      <td>0</td>\n",
       "      <td>5.0000</td>\n",
       "      <td>1</td>\n",
       "      <td>0</td>\n",
       "      <td>0</td>\n",
       "      <td>1</td>\n",
       "      <td>0</td>\n",
       "      <td>0</td>\n",
       "      <td>1</td>\n",
       "      <td>0</td>\n",
       "      <td>0</td>\n",
       "      <td>2</td>\n",
       "      <td>0</td>\n",
       "    </tr>\n",
       "  </tbody>\n",
       "</table>\n",
       "</div>"
      ],
      "text/plain": [
       "     PassengerId  Survived  Pclass  \\\n",
       "168          169         0       1   \n",
       "263          264         0       1   \n",
       "633          634         0       1   \n",
       "662          663         0       1   \n",
       "796          797         1       1   \n",
       "806          807         0       1   \n",
       "815          816         0       1   \n",
       "822          823         0       1   \n",
       "862          863         1       1   \n",
       "872          873         0       1   \n",
       "\n",
       "                                                  Name   Age  SibSp  Parch  \\\n",
       "168                                Baumann, Mr. John D  40.0      0      0   \n",
       "263                              Harrison, Mr. William  40.0      0      0   \n",
       "633                      Parr, Mr. William Henry Marsh  40.0      0      0   \n",
       "662                         Colley, Mr. Edward Pomeroy  47.0      0      0   \n",
       "796                        Leader, Dr. Alice (Farnham)  49.0      0      0   \n",
       "806                             Andrews, Mr. Thomas Jr  39.0      0      0   \n",
       "815                                   Fry, Mr. Richard  40.0      0      0   \n",
       "822                    Reuchlin, Jonkheer. John George  38.0      0      0   \n",
       "862  Swift, Mrs. Frederick Joel (Margaret Welles Ba...  48.0      0      0   \n",
       "872                           Carlsson, Mr. Frans Olof  33.0      0      0   \n",
       "\n",
       "        Fare  Sex_male  Embarked_C  Embarked_Q  Embarked_S  Title_Master  \\\n",
       "168  25.9250         1           0           0           1             0   \n",
       "263   0.0000         1           0           0           1             0   \n",
       "633   0.0000         1           0           0           1             0   \n",
       "662  25.5875         1           0           0           1             0   \n",
       "796  25.9292         0           0           0           1             0   \n",
       "806   0.0000         1           0           0           1             0   \n",
       "815   0.0000         1           0           0           1             0   \n",
       "822   0.0000         1           0           0           1             0   \n",
       "862  25.9292         0           0           0           1             0   \n",
       "872   5.0000         1           0           0           1             0   \n",
       "\n",
       "     Title_Miss  Title_Mr  Title_Mrs  Title_Others  Classe_Idade  Family  \n",
       "168           0         1          0             0             2       0  \n",
       "263           0         1          0             0             2       0  \n",
       "633           0         1          0             0             2       0  \n",
       "662           0         1          0             0             2       0  \n",
       "796           0         0          0             1             2       0  \n",
       "806           0         1          0             0             2       0  \n",
       "815           0         1          0             0             2       0  \n",
       "822           0         0          0             1             2       0  \n",
       "862           0         0          1             0             2       0  \n",
       "872           0         1          0             0             2       0  "
      ]
     },
     "execution_count": 311,
     "metadata": {},
     "output_type": "execute_result"
    }
   ],
   "source": [
    "# Visualizando passageiros que pagaram valor baixo e ficaram na primeira classe\n",
    "treino[(treino['Fare'] < 26) & (treino['Pclass'] == 1)]"
   ]
  },
  {
   "cell_type": "code",
   "execution_count": 312,
   "id": "7f766d16",
   "metadata": {
    "scrolled": true
   },
   "outputs": [
    {
     "data": {
      "text/html": [
       "<div>\n",
       "<style scoped>\n",
       "    .dataframe tbody tr th:only-of-type {\n",
       "        vertical-align: middle;\n",
       "    }\n",
       "\n",
       "    .dataframe tbody tr th {\n",
       "        vertical-align: top;\n",
       "    }\n",
       "\n",
       "    .dataframe thead th {\n",
       "        text-align: right;\n",
       "    }\n",
       "</style>\n",
       "<table border=\"1\" class=\"dataframe\">\n",
       "  <thead>\n",
       "    <tr style=\"text-align: right;\">\n",
       "      <th></th>\n",
       "      <th>PassengerId</th>\n",
       "      <th>Survived</th>\n",
       "      <th>Pclass</th>\n",
       "      <th>Name</th>\n",
       "      <th>Age</th>\n",
       "      <th>SibSp</th>\n",
       "      <th>Parch</th>\n",
       "      <th>Fare</th>\n",
       "      <th>Sex_male</th>\n",
       "      <th>Embarked_C</th>\n",
       "      <th>Embarked_Q</th>\n",
       "      <th>Embarked_S</th>\n",
       "      <th>Title_Master</th>\n",
       "      <th>Title_Miss</th>\n",
       "      <th>Title_Mr</th>\n",
       "      <th>Title_Mrs</th>\n",
       "      <th>Title_Others</th>\n",
       "      <th>Classe_Idade</th>\n",
       "      <th>Family</th>\n",
       "    </tr>\n",
       "  </thead>\n",
       "  <tbody>\n",
       "    <tr>\n",
       "      <th>179</th>\n",
       "      <td>180</td>\n",
       "      <td>0</td>\n",
       "      <td>3</td>\n",
       "      <td>Leonard, Mr. Lionel</td>\n",
       "      <td>36.0</td>\n",
       "      <td>0</td>\n",
       "      <td>0</td>\n",
       "      <td>0.0</td>\n",
       "      <td>1</td>\n",
       "      <td>0</td>\n",
       "      <td>0</td>\n",
       "      <td>1</td>\n",
       "      <td>0</td>\n",
       "      <td>0</td>\n",
       "      <td>1</td>\n",
       "      <td>0</td>\n",
       "      <td>0</td>\n",
       "      <td>2</td>\n",
       "      <td>0</td>\n",
       "    </tr>\n",
       "    <tr>\n",
       "      <th>263</th>\n",
       "      <td>264</td>\n",
       "      <td>0</td>\n",
       "      <td>1</td>\n",
       "      <td>Harrison, Mr. William</td>\n",
       "      <td>40.0</td>\n",
       "      <td>0</td>\n",
       "      <td>0</td>\n",
       "      <td>0.0</td>\n",
       "      <td>1</td>\n",
       "      <td>0</td>\n",
       "      <td>0</td>\n",
       "      <td>1</td>\n",
       "      <td>0</td>\n",
       "      <td>0</td>\n",
       "      <td>1</td>\n",
       "      <td>0</td>\n",
       "      <td>0</td>\n",
       "      <td>2</td>\n",
       "      <td>0</td>\n",
       "    </tr>\n",
       "    <tr>\n",
       "      <th>271</th>\n",
       "      <td>272</td>\n",
       "      <td>1</td>\n",
       "      <td>3</td>\n",
       "      <td>Tornquist, Mr. William Henry</td>\n",
       "      <td>25.0</td>\n",
       "      <td>0</td>\n",
       "      <td>0</td>\n",
       "      <td>0.0</td>\n",
       "      <td>1</td>\n",
       "      <td>0</td>\n",
       "      <td>0</td>\n",
       "      <td>1</td>\n",
       "      <td>0</td>\n",
       "      <td>0</td>\n",
       "      <td>1</td>\n",
       "      <td>0</td>\n",
       "      <td>0</td>\n",
       "      <td>2</td>\n",
       "      <td>0</td>\n",
       "    </tr>\n",
       "    <tr>\n",
       "      <th>277</th>\n",
       "      <td>278</td>\n",
       "      <td>0</td>\n",
       "      <td>2</td>\n",
       "      <td>Parkes, Mr. Francis \"Frank\"</td>\n",
       "      <td>30.0</td>\n",
       "      <td>0</td>\n",
       "      <td>0</td>\n",
       "      <td>0.0</td>\n",
       "      <td>1</td>\n",
       "      <td>0</td>\n",
       "      <td>0</td>\n",
       "      <td>1</td>\n",
       "      <td>0</td>\n",
       "      <td>0</td>\n",
       "      <td>1</td>\n",
       "      <td>0</td>\n",
       "      <td>0</td>\n",
       "      <td>2</td>\n",
       "      <td>0</td>\n",
       "    </tr>\n",
       "    <tr>\n",
       "      <th>302</th>\n",
       "      <td>303</td>\n",
       "      <td>0</td>\n",
       "      <td>3</td>\n",
       "      <td>Johnson, Mr. William Cahoone Jr</td>\n",
       "      <td>19.0</td>\n",
       "      <td>0</td>\n",
       "      <td>0</td>\n",
       "      <td>0.0</td>\n",
       "      <td>1</td>\n",
       "      <td>0</td>\n",
       "      <td>0</td>\n",
       "      <td>1</td>\n",
       "      <td>0</td>\n",
       "      <td>0</td>\n",
       "      <td>1</td>\n",
       "      <td>0</td>\n",
       "      <td>0</td>\n",
       "      <td>2</td>\n",
       "      <td>0</td>\n",
       "    </tr>\n",
       "    <tr>\n",
       "      <th>413</th>\n",
       "      <td>414</td>\n",
       "      <td>0</td>\n",
       "      <td>2</td>\n",
       "      <td>Cunningham, Mr. Alfred Fleming</td>\n",
       "      <td>30.0</td>\n",
       "      <td>0</td>\n",
       "      <td>0</td>\n",
       "      <td>0.0</td>\n",
       "      <td>1</td>\n",
       "      <td>0</td>\n",
       "      <td>0</td>\n",
       "      <td>1</td>\n",
       "      <td>0</td>\n",
       "      <td>0</td>\n",
       "      <td>1</td>\n",
       "      <td>0</td>\n",
       "      <td>0</td>\n",
       "      <td>2</td>\n",
       "      <td>0</td>\n",
       "    </tr>\n",
       "    <tr>\n",
       "      <th>466</th>\n",
       "      <td>467</td>\n",
       "      <td>0</td>\n",
       "      <td>2</td>\n",
       "      <td>Campbell, Mr. William</td>\n",
       "      <td>30.0</td>\n",
       "      <td>0</td>\n",
       "      <td>0</td>\n",
       "      <td>0.0</td>\n",
       "      <td>1</td>\n",
       "      <td>0</td>\n",
       "      <td>0</td>\n",
       "      <td>1</td>\n",
       "      <td>0</td>\n",
       "      <td>0</td>\n",
       "      <td>1</td>\n",
       "      <td>0</td>\n",
       "      <td>0</td>\n",
       "      <td>2</td>\n",
       "      <td>0</td>\n",
       "    </tr>\n",
       "    <tr>\n",
       "      <th>481</th>\n",
       "      <td>482</td>\n",
       "      <td>0</td>\n",
       "      <td>2</td>\n",
       "      <td>Frost, Mr. Anthony Wood \"Archie\"</td>\n",
       "      <td>30.0</td>\n",
       "      <td>0</td>\n",
       "      <td>0</td>\n",
       "      <td>0.0</td>\n",
       "      <td>1</td>\n",
       "      <td>0</td>\n",
       "      <td>0</td>\n",
       "      <td>1</td>\n",
       "      <td>0</td>\n",
       "      <td>0</td>\n",
       "      <td>1</td>\n",
       "      <td>0</td>\n",
       "      <td>0</td>\n",
       "      <td>2</td>\n",
       "      <td>0</td>\n",
       "    </tr>\n",
       "    <tr>\n",
       "      <th>597</th>\n",
       "      <td>598</td>\n",
       "      <td>0</td>\n",
       "      <td>3</td>\n",
       "      <td>Johnson, Mr. Alfred</td>\n",
       "      <td>49.0</td>\n",
       "      <td>0</td>\n",
       "      <td>0</td>\n",
       "      <td>0.0</td>\n",
       "      <td>1</td>\n",
       "      <td>0</td>\n",
       "      <td>0</td>\n",
       "      <td>1</td>\n",
       "      <td>0</td>\n",
       "      <td>0</td>\n",
       "      <td>1</td>\n",
       "      <td>0</td>\n",
       "      <td>0</td>\n",
       "      <td>2</td>\n",
       "      <td>0</td>\n",
       "    </tr>\n",
       "    <tr>\n",
       "      <th>633</th>\n",
       "      <td>634</td>\n",
       "      <td>0</td>\n",
       "      <td>1</td>\n",
       "      <td>Parr, Mr. William Henry Marsh</td>\n",
       "      <td>40.0</td>\n",
       "      <td>0</td>\n",
       "      <td>0</td>\n",
       "      <td>0.0</td>\n",
       "      <td>1</td>\n",
       "      <td>0</td>\n",
       "      <td>0</td>\n",
       "      <td>1</td>\n",
       "      <td>0</td>\n",
       "      <td>0</td>\n",
       "      <td>1</td>\n",
       "      <td>0</td>\n",
       "      <td>0</td>\n",
       "      <td>2</td>\n",
       "      <td>0</td>\n",
       "    </tr>\n",
       "    <tr>\n",
       "      <th>674</th>\n",
       "      <td>675</td>\n",
       "      <td>0</td>\n",
       "      <td>2</td>\n",
       "      <td>Watson, Mr. Ennis Hastings</td>\n",
       "      <td>30.0</td>\n",
       "      <td>0</td>\n",
       "      <td>0</td>\n",
       "      <td>0.0</td>\n",
       "      <td>1</td>\n",
       "      <td>0</td>\n",
       "      <td>0</td>\n",
       "      <td>1</td>\n",
       "      <td>0</td>\n",
       "      <td>0</td>\n",
       "      <td>1</td>\n",
       "      <td>0</td>\n",
       "      <td>0</td>\n",
       "      <td>2</td>\n",
       "      <td>0</td>\n",
       "    </tr>\n",
       "    <tr>\n",
       "      <th>732</th>\n",
       "      <td>733</td>\n",
       "      <td>0</td>\n",
       "      <td>2</td>\n",
       "      <td>Knight, Mr. Robert J</td>\n",
       "      <td>30.0</td>\n",
       "      <td>0</td>\n",
       "      <td>0</td>\n",
       "      <td>0.0</td>\n",
       "      <td>1</td>\n",
       "      <td>0</td>\n",
       "      <td>0</td>\n",
       "      <td>1</td>\n",
       "      <td>0</td>\n",
       "      <td>0</td>\n",
       "      <td>1</td>\n",
       "      <td>0</td>\n",
       "      <td>0</td>\n",
       "      <td>2</td>\n",
       "      <td>0</td>\n",
       "    </tr>\n",
       "    <tr>\n",
       "      <th>806</th>\n",
       "      <td>807</td>\n",
       "      <td>0</td>\n",
       "      <td>1</td>\n",
       "      <td>Andrews, Mr. Thomas Jr</td>\n",
       "      <td>39.0</td>\n",
       "      <td>0</td>\n",
       "      <td>0</td>\n",
       "      <td>0.0</td>\n",
       "      <td>1</td>\n",
       "      <td>0</td>\n",
       "      <td>0</td>\n",
       "      <td>1</td>\n",
       "      <td>0</td>\n",
       "      <td>0</td>\n",
       "      <td>1</td>\n",
       "      <td>0</td>\n",
       "      <td>0</td>\n",
       "      <td>2</td>\n",
       "      <td>0</td>\n",
       "    </tr>\n",
       "    <tr>\n",
       "      <th>815</th>\n",
       "      <td>816</td>\n",
       "      <td>0</td>\n",
       "      <td>1</td>\n",
       "      <td>Fry, Mr. Richard</td>\n",
       "      <td>40.0</td>\n",
       "      <td>0</td>\n",
       "      <td>0</td>\n",
       "      <td>0.0</td>\n",
       "      <td>1</td>\n",
       "      <td>0</td>\n",
       "      <td>0</td>\n",
       "      <td>1</td>\n",
       "      <td>0</td>\n",
       "      <td>0</td>\n",
       "      <td>1</td>\n",
       "      <td>0</td>\n",
       "      <td>0</td>\n",
       "      <td>2</td>\n",
       "      <td>0</td>\n",
       "    </tr>\n",
       "    <tr>\n",
       "      <th>822</th>\n",
       "      <td>823</td>\n",
       "      <td>0</td>\n",
       "      <td>1</td>\n",
       "      <td>Reuchlin, Jonkheer. John George</td>\n",
       "      <td>38.0</td>\n",
       "      <td>0</td>\n",
       "      <td>0</td>\n",
       "      <td>0.0</td>\n",
       "      <td>1</td>\n",
       "      <td>0</td>\n",
       "      <td>0</td>\n",
       "      <td>1</td>\n",
       "      <td>0</td>\n",
       "      <td>0</td>\n",
       "      <td>0</td>\n",
       "      <td>0</td>\n",
       "      <td>1</td>\n",
       "      <td>2</td>\n",
       "      <td>0</td>\n",
       "    </tr>\n",
       "  </tbody>\n",
       "</table>\n",
       "</div>"
      ],
      "text/plain": [
       "     PassengerId  Survived  Pclass                              Name   Age  \\\n",
       "179          180         0       3               Leonard, Mr. Lionel  36.0   \n",
       "263          264         0       1             Harrison, Mr. William  40.0   \n",
       "271          272         1       3      Tornquist, Mr. William Henry  25.0   \n",
       "277          278         0       2       Parkes, Mr. Francis \"Frank\"  30.0   \n",
       "302          303         0       3   Johnson, Mr. William Cahoone Jr  19.0   \n",
       "413          414         0       2    Cunningham, Mr. Alfred Fleming  30.0   \n",
       "466          467         0       2             Campbell, Mr. William  30.0   \n",
       "481          482         0       2  Frost, Mr. Anthony Wood \"Archie\"  30.0   \n",
       "597          598         0       3               Johnson, Mr. Alfred  49.0   \n",
       "633          634         0       1     Parr, Mr. William Henry Marsh  40.0   \n",
       "674          675         0       2        Watson, Mr. Ennis Hastings  30.0   \n",
       "732          733         0       2              Knight, Mr. Robert J  30.0   \n",
       "806          807         0       1            Andrews, Mr. Thomas Jr  39.0   \n",
       "815          816         0       1                  Fry, Mr. Richard  40.0   \n",
       "822          823         0       1   Reuchlin, Jonkheer. John George  38.0   \n",
       "\n",
       "     SibSp  Parch  Fare  Sex_male  Embarked_C  Embarked_Q  Embarked_S  \\\n",
       "179      0      0   0.0         1           0           0           1   \n",
       "263      0      0   0.0         1           0           0           1   \n",
       "271      0      0   0.0         1           0           0           1   \n",
       "277      0      0   0.0         1           0           0           1   \n",
       "302      0      0   0.0         1           0           0           1   \n",
       "413      0      0   0.0         1           0           0           1   \n",
       "466      0      0   0.0         1           0           0           1   \n",
       "481      0      0   0.0         1           0           0           1   \n",
       "597      0      0   0.0         1           0           0           1   \n",
       "633      0      0   0.0         1           0           0           1   \n",
       "674      0      0   0.0         1           0           0           1   \n",
       "732      0      0   0.0         1           0           0           1   \n",
       "806      0      0   0.0         1           0           0           1   \n",
       "815      0      0   0.0         1           0           0           1   \n",
       "822      0      0   0.0         1           0           0           1   \n",
       "\n",
       "     Title_Master  Title_Miss  Title_Mr  Title_Mrs  Title_Others  \\\n",
       "179             0           0         1          0             0   \n",
       "263             0           0         1          0             0   \n",
       "271             0           0         1          0             0   \n",
       "277             0           0         1          0             0   \n",
       "302             0           0         1          0             0   \n",
       "413             0           0         1          0             0   \n",
       "466             0           0         1          0             0   \n",
       "481             0           0         1          0             0   \n",
       "597             0           0         1          0             0   \n",
       "633             0           0         1          0             0   \n",
       "674             0           0         1          0             0   \n",
       "732             0           0         1          0             0   \n",
       "806             0           0         1          0             0   \n",
       "815             0           0         1          0             0   \n",
       "822             0           0         0          0             1   \n",
       "\n",
       "     Classe_Idade  Family  \n",
       "179             2       0  \n",
       "263             2       0  \n",
       "271             2       0  \n",
       "277             2       0  \n",
       "302             2       0  \n",
       "413             2       0  \n",
       "466             2       0  \n",
       "481             2       0  \n",
       "597             2       0  \n",
       "633             2       0  \n",
       "674             2       0  \n",
       "732             2       0  \n",
       "806             2       0  \n",
       "815             2       0  \n",
       "822             2       0  "
      ]
     },
     "execution_count": 312,
     "metadata": {},
     "output_type": "execute_result"
    }
   ],
   "source": [
    "# Visualizando passageiros que NÃO pagaram para embarcar\n",
    "treino[treino['Fare'] == 0]"
   ]
  },
  {
   "cell_type": "markdown",
   "id": "93fc34c6",
   "metadata": {},
   "source": [
    "- Após algumas pesquisas, foi possível identificar alguns motivos que explicam o valor da passagem igual a zero e um valor baixo para alguns passageiros da primeira classe. Podemos listar os seguintes motivos:\n",
    "    - Funcionários do \"Grupo de Garantia\" da Harland and Wolff não pagaram nada. Harland & Wolff: Grupo de Garantia Titanic foi uma equipe de Belfast enviada pelos construtores navais Harland & Wolff para acompanhar o Titanic em sua viagem inaugural.\n",
    "    - Muitos deles tratavam-se de tripulantes do Titanic, como marinheiros.\n",
    "    - Secretário, criado pessoal do dono do navio, Sr. Joseph Bruce Ismay\n",
    "    - Bilhete que eram de cortesias\n",
    "    - Promoções e Descontos\n",
    "    - Cabines de Primeira Classe Inferiores: Nem todas as cabines de primeira classe eram iguais. Algumas eram menores, menos luxuosas ou em localizações menos desejáveis dentro do navio. Essas cabines mais modestas tinham preços mais baixos.\n",
    "    - Conexões e Parcerias"
   ]
  },
  {
   "cell_type": "markdown",
   "id": "9cf206fa",
   "metadata": {},
   "source": [
    "- **Classificando a Coluna Fare**\n",
    "- Vamos agora classificar a coluna Fare da seguinte forma:\n",
    "    - 0: Valor Gratuito\n",
    "    - 1: Valor Alto\n",
    "    - 2: Valor Médio\n",
    "    - 3: Valor Baixo\n",
    "    \n",
    "- Para isso precisamos definir limites para cada classe, vamos analisar"
   ]
  },
  {
   "cell_type": "code",
   "execution_count": 313,
   "id": "3379adf2",
   "metadata": {},
   "outputs": [
    {
     "data": {
      "text/plain": [
       "<Axes: xlabel='Pclass', ylabel='Fare'>"
      ]
     },
     "execution_count": 313,
     "metadata": {},
     "output_type": "execute_result"
    },
    {
     "data": {
      "image/png": "[encoded data removed]",
      "text/plain": [
       "<Figure size 640x480 with 1 Axes>"
      ]
     },
     "metadata": {},
     "output_type": "display_data"
    }
   ],
   "source": [
    "# Observe que a coluna Fare possui Outliers\n",
    "sns.boxplot(data=treino, x = 'Pclass', y='Fare')"
   ]
  },
  {
   "cell_type": "code",
   "execution_count": 314,
   "id": "cc7d3cc6",
   "metadata": {},
   "outputs": [
    {
     "data": {
      "text/html": [
       "<div>\n",
       "<style scoped>\n",
       "    .dataframe tbody tr th:only-of-type {\n",
       "        vertical-align: middle;\n",
       "    }\n",
       "\n",
       "    .dataframe tbody tr th {\n",
       "        vertical-align: top;\n",
       "    }\n",
       "\n",
       "    .dataframe thead th {\n",
       "        text-align: right;\n",
       "    }\n",
       "</style>\n",
       "<table border=\"1\" class=\"dataframe\">\n",
       "  <thead>\n",
       "    <tr style=\"text-align: right;\">\n",
       "      <th></th>\n",
       "      <th>count</th>\n",
       "      <th>mean</th>\n",
       "      <th>std</th>\n",
       "      <th>min</th>\n",
       "      <th>25%</th>\n",
       "      <th>50%</th>\n",
       "      <th>75%</th>\n",
       "      <th>max</th>\n",
       "    </tr>\n",
       "    <tr>\n",
       "      <th>Pclass</th>\n",
       "      <th></th>\n",
       "      <th></th>\n",
       "      <th></th>\n",
       "      <th></th>\n",
       "      <th></th>\n",
       "      <th></th>\n",
       "      <th></th>\n",
       "      <th></th>\n",
       "    </tr>\n",
       "  </thead>\n",
       "  <tbody>\n",
       "    <tr>\n",
       "      <th>1</th>\n",
       "      <td>216.0</td>\n",
       "      <td>84.154687</td>\n",
       "      <td>78.380373</td>\n",
       "      <td>0.0</td>\n",
       "      <td>30.92395</td>\n",
       "      <td>60.2875</td>\n",
       "      <td>93.5</td>\n",
       "      <td>512.3292</td>\n",
       "    </tr>\n",
       "    <tr>\n",
       "      <th>2</th>\n",
       "      <td>184.0</td>\n",
       "      <td>20.662183</td>\n",
       "      <td>13.417399</td>\n",
       "      <td>0.0</td>\n",
       "      <td>13.00000</td>\n",
       "      <td>14.2500</td>\n",
       "      <td>26.0</td>\n",
       "      <td>73.5000</td>\n",
       "    </tr>\n",
       "    <tr>\n",
       "      <th>3</th>\n",
       "      <td>491.0</td>\n",
       "      <td>13.675550</td>\n",
       "      <td>11.778142</td>\n",
       "      <td>0.0</td>\n",
       "      <td>7.75000</td>\n",
       "      <td>8.0500</td>\n",
       "      <td>15.5</td>\n",
       "      <td>69.5500</td>\n",
       "    </tr>\n",
       "  </tbody>\n",
       "</table>\n",
       "</div>"
      ],
      "text/plain": [
       "        count       mean        std  min       25%      50%   75%       max\n",
       "Pclass                                                                     \n",
       "1       216.0  84.154687  78.380373  0.0  30.92395  60.2875  93.5  512.3292\n",
       "2       184.0  20.662183  13.417399  0.0  13.00000  14.2500  26.0   73.5000\n",
       "3       491.0  13.675550  11.778142  0.0   7.75000   8.0500  15.5   69.5500"
      ]
     },
     "execution_count": 314,
     "metadata": {},
     "output_type": "execute_result"
    }
   ],
   "source": [
    "# Analisando as tarifas de cada classe novamente\n",
    "treino.groupby('Pclass')['Fare'].describe()"
   ]
  },
  {
   "cell_type": "markdown",
   "id": "0bc0b40f",
   "metadata": {},
   "source": [
    "- Como vimos, cada classe possui outliers que interferem no valor da nossa média\n",
    "- Vamos remover os outliers e então verificar a nova média e a mediana para cada classes\n",
    "- E então, após remover os outliers podemos ter um valor um pouco mais real da nossa média e com isso definir os limites das classes"
   ]
  },
  {
   "cell_type": "code",
   "execution_count": 315,
   "id": "3d4953dd",
   "metadata": {},
   "outputs": [],
   "source": [
    "# Agora, vamos fazer um looping para armazenar as médias e medianas após a remoção dos outliers\n",
    "media = []\n",
    "mediana = []\n",
    "\n",
    "for i in range(1, 4):\n",
    "    classe = treino[treino['Pclass'] == i]\n",
    "    media.append(classe[classe['Fare'] <= classe['Fare'].quantile(0.95)]['Fare'].mean())\n",
    "    mediana.append(classe[classe['Fare'] <= classe['Fare'].quantile(0.95)]['Fare'].median())"
   ]
  },
  {
   "cell_type": "code",
   "execution_count": 316,
   "id": "a13b9e65",
   "metadata": {},
   "outputs": [
    {
     "data": {
      "text/html": [
       "<div>\n",
       "<style scoped>\n",
       "    .dataframe tbody tr th:only-of-type {\n",
       "        vertical-align: middle;\n",
       "    }\n",
       "\n",
       "    .dataframe tbody tr th {\n",
       "        vertical-align: top;\n",
       "    }\n",
       "\n",
       "    .dataframe thead th {\n",
       "        text-align: right;\n",
       "    }\n",
       "</style>\n",
       "<table border=\"1\" class=\"dataframe\">\n",
       "  <thead>\n",
       "    <tr style=\"text-align: right;\">\n",
       "      <th></th>\n",
       "      <th>Pclass</th>\n",
       "      <th>mean</th>\n",
       "      <th>median</th>\n",
       "    </tr>\n",
       "  </thead>\n",
       "  <tbody>\n",
       "    <tr>\n",
       "      <th>0</th>\n",
       "      <td>1</td>\n",
       "      <td>71.066504</td>\n",
       "      <td>56.9292</td>\n",
       "    </tr>\n",
       "    <tr>\n",
       "      <th>1</th>\n",
       "      <td>2</td>\n",
       "      <td>18.273587</td>\n",
       "      <td>13.5000</td>\n",
       "    </tr>\n",
       "    <tr>\n",
       "      <th>2</th>\n",
       "      <td>3</td>\n",
       "      <td>11.785508</td>\n",
       "      <td>8.0500</td>\n",
       "    </tr>\n",
       "  </tbody>\n",
       "</table>\n",
       "</div>"
      ],
      "text/plain": [
       "   Pclass       mean   median\n",
       "0       1  71.066504  56.9292\n",
       "1       2  18.273587  13.5000\n",
       "2       3  11.785508   8.0500"
      ]
     },
     "execution_count": 316,
     "metadata": {},
     "output_type": "execute_result"
    }
   ],
   "source": [
    "# Observe a média e a médiana SEM OUTLIERS\n",
    "pd.DataFrame({'Pclass': [1, 2, 3], 'mean': media, 'median': mediana})"
   ]
  },
  {
   "cell_type": "markdown",
   "id": "89fa24db",
   "metadata": {},
   "source": [
    "- Perceba que ao remover os outliers, as médias mudaram\n",
    "- Vamos então utilizar esses valores para definir os limites para cada classe"
   ]
  },
  {
   "cell_type": "code",
   "execution_count": 317,
   "id": "8c1e11a2",
   "metadata": {},
   "outputs": [],
   "source": [
    "# Cria uma função de classificação:\n",
    "def classifica_fare(fare):\n",
    "    if fare == 0:\n",
    "        return 0 # Valor Gratuito\n",
    "    elif fare > 0 and fare <= 18:\n",
    "        return 3 # Valor Baixo\n",
    "    elif fare > 18 and fare <= 71:\n",
    "        return 2 # Valor Médio\n",
    "    else:\n",
    "        return 1 # Valor Alto"
   ]
  },
  {
   "cell_type": "code",
   "execution_count": 318,
   "id": "c64d1864",
   "metadata": {},
   "outputs": [],
   "source": [
    "# Criando uma coluna com as classificações\n",
    "treino['Classe_Fare'] = treino['Fare'].apply(lambda x: classifica_fare(x))\n",
    "\n",
    "# Criando uma coluna com as classificações\n",
    "teste['Classe_Fare'] = teste['Fare'].apply(lambda x: classifica_fare(x))"
   ]
  },
  {
   "cell_type": "code",
   "execution_count": 319,
   "id": "29663944",
   "metadata": {
    "scrolled": true
   },
   "outputs": [
    {
     "data": {
      "text/html": [
       "<div>\n",
       "<style scoped>\n",
       "    .dataframe tbody tr th:only-of-type {\n",
       "        vertical-align: middle;\n",
       "    }\n",
       "\n",
       "    .dataframe tbody tr th {\n",
       "        vertical-align: top;\n",
       "    }\n",
       "\n",
       "    .dataframe thead th {\n",
       "        text-align: right;\n",
       "    }\n",
       "</style>\n",
       "<table border=\"1\" class=\"dataframe\">\n",
       "  <thead>\n",
       "    <tr style=\"text-align: right;\">\n",
       "      <th></th>\n",
       "      <th>count</th>\n",
       "      <th>sum</th>\n",
       "      <th>mean</th>\n",
       "    </tr>\n",
       "    <tr>\n",
       "      <th>Classe_Fare</th>\n",
       "      <th></th>\n",
       "      <th></th>\n",
       "      <th></th>\n",
       "    </tr>\n",
       "  </thead>\n",
       "  <tbody>\n",
       "    <tr>\n",
       "      <th>0</th>\n",
       "      <td>15</td>\n",
       "      <td>1</td>\n",
       "      <td>0.066667</td>\n",
       "    </tr>\n",
       "    <tr>\n",
       "      <th>1</th>\n",
       "      <td>103</td>\n",
       "      <td>75</td>\n",
       "      <td>0.728155</td>\n",
       "    </tr>\n",
       "    <tr>\n",
       "      <th>2</th>\n",
       "      <td>286</td>\n",
       "      <td>134</td>\n",
       "      <td>0.468531</td>\n",
       "    </tr>\n",
       "    <tr>\n",
       "      <th>3</th>\n",
       "      <td>487</td>\n",
       "      <td>132</td>\n",
       "      <td>0.271047</td>\n",
       "    </tr>\n",
       "  </tbody>\n",
       "</table>\n",
       "</div>"
      ],
      "text/plain": [
       "             count  sum      mean\n",
       "Classe_Fare                      \n",
       "0               15    1  0.066667\n",
       "1              103   75  0.728155\n",
       "2              286  134  0.468531\n",
       "3              487  132  0.271047"
      ]
     },
     "execution_count": 319,
     "metadata": {},
     "output_type": "execute_result"
    }
   ],
   "source": [
    "# Quantidade de sobreviventes por Classe_Fare\n",
    "treino.groupby('Classe_Fare')['Survived'].agg(['count', 'sum', 'mean'])"
   ]
  },
  {
   "cell_type": "code",
   "execution_count": 320,
   "id": "be8033db",
   "metadata": {
    "scrolled": false
   },
   "outputs": [
    {
     "data": {
      "text/html": [
       "<div>\n",
       "<style scoped>\n",
       "    .dataframe tbody tr th:only-of-type {\n",
       "        vertical-align: middle;\n",
       "    }\n",
       "\n",
       "    .dataframe tbody tr th {\n",
       "        vertical-align: top;\n",
       "    }\n",
       "\n",
       "    .dataframe thead th {\n",
       "        text-align: right;\n",
       "    }\n",
       "</style>\n",
       "<table border=\"1\" class=\"dataframe\">\n",
       "  <thead>\n",
       "    <tr style=\"text-align: right;\">\n",
       "      <th></th>\n",
       "      <th>count</th>\n",
       "      <th>sum</th>\n",
       "      <th>mean</th>\n",
       "    </tr>\n",
       "    <tr>\n",
       "      <th>Pclass</th>\n",
       "      <th></th>\n",
       "      <th></th>\n",
       "      <th></th>\n",
       "    </tr>\n",
       "  </thead>\n",
       "  <tbody>\n",
       "    <tr>\n",
       "      <th>1</th>\n",
       "      <td>216</td>\n",
       "      <td>136</td>\n",
       "      <td>0.629630</td>\n",
       "    </tr>\n",
       "    <tr>\n",
       "      <th>2</th>\n",
       "      <td>184</td>\n",
       "      <td>87</td>\n",
       "      <td>0.472826</td>\n",
       "    </tr>\n",
       "    <tr>\n",
       "      <th>3</th>\n",
       "      <td>491</td>\n",
       "      <td>119</td>\n",
       "      <td>0.242363</td>\n",
       "    </tr>\n",
       "  </tbody>\n",
       "</table>\n",
       "</div>"
      ],
      "text/plain": [
       "        count  sum      mean\n",
       "Pclass                      \n",
       "1         216  136  0.629630\n",
       "2         184   87  0.472826\n",
       "3         491  119  0.242363"
      ]
     },
     "execution_count": 320,
     "metadata": {},
     "output_type": "execute_result"
    }
   ],
   "source": [
    "# Quantidade de sobreviventes por Pclass\n",
    "treino.groupby(['Pclass'])['Survived'].agg(['count', 'sum', 'mean'])"
   ]
  },
  {
   "cell_type": "markdown",
   "id": "cb06cec4",
   "metadata": {},
   "source": [
    "- **Agora, vamos avaliar o resultados dos modelos**"
   ]
  },
  {
   "cell_type": "code",
   "execution_count": 321,
   "id": "ccf7e592",
   "metadata": {
    "scrolled": true
   },
   "outputs": [
    {
     "data": {
      "text/html": [
       "<div>\n",
       "<style scoped>\n",
       "    .dataframe tbody tr th:only-of-type {\n",
       "        vertical-align: middle;\n",
       "    }\n",
       "\n",
       "    .dataframe tbody tr th {\n",
       "        vertical-align: top;\n",
       "    }\n",
       "\n",
       "    .dataframe thead th {\n",
       "        text-align: right;\n",
       "    }\n",
       "</style>\n",
       "<table border=\"1\" class=\"dataframe\">\n",
       "  <thead>\n",
       "    <tr style=\"text-align: right;\">\n",
       "      <th></th>\n",
       "      <th>Pclass</th>\n",
       "      <th>Sex_male</th>\n",
       "      <th>Embarked_C</th>\n",
       "      <th>Embarked_Q</th>\n",
       "      <th>Embarked_S</th>\n",
       "      <th>Title_Master</th>\n",
       "      <th>Title_Miss</th>\n",
       "      <th>Title_Mr</th>\n",
       "      <th>Title_Mrs</th>\n",
       "      <th>Title_Others</th>\n",
       "      <th>Classe_Idade</th>\n",
       "      <th>Family</th>\n",
       "      <th>Classe_Fare</th>\n",
       "    </tr>\n",
       "  </thead>\n",
       "  <tbody>\n",
       "    <tr>\n",
       "      <th>0</th>\n",
       "      <td>3</td>\n",
       "      <td>1</td>\n",
       "      <td>0</td>\n",
       "      <td>0</td>\n",
       "      <td>1</td>\n",
       "      <td>0</td>\n",
       "      <td>0</td>\n",
       "      <td>1</td>\n",
       "      <td>0</td>\n",
       "      <td>0</td>\n",
       "      <td>2</td>\n",
       "      <td>1</td>\n",
       "      <td>3</td>\n",
       "    </tr>\n",
       "    <tr>\n",
       "      <th>1</th>\n",
       "      <td>1</td>\n",
       "      <td>0</td>\n",
       "      <td>1</td>\n",
       "      <td>0</td>\n",
       "      <td>0</td>\n",
       "      <td>0</td>\n",
       "      <td>0</td>\n",
       "      <td>0</td>\n",
       "      <td>1</td>\n",
       "      <td>0</td>\n",
       "      <td>2</td>\n",
       "      <td>1</td>\n",
       "      <td>1</td>\n",
       "    </tr>\n",
       "  </tbody>\n",
       "</table>\n",
       "</div>"
      ],
      "text/plain": [
       "   Pclass  Sex_male  Embarked_C  Embarked_Q  Embarked_S  Title_Master  \\\n",
       "0       3         1           0           0           1             0   \n",
       "1       1         0           1           0           0             0   \n",
       "\n",
       "   Title_Miss  Title_Mr  Title_Mrs  Title_Others  Classe_Idade  Family  \\\n",
       "0           0         1          0             0             2       1   \n",
       "1           0         0          1             0             2       1   \n",
       "\n",
       "   Classe_Fare  \n",
       "0            3  \n",
       "1            1  "
      ]
     },
     "execution_count": 321,
     "metadata": {},
     "output_type": "execute_result"
    }
   ],
   "source": [
    "# Visualizando a nossa base de treino\n",
    "treino.drop(['PassengerId', 'Survived', 'Name', 'Age', 'SibSp', 'Parch', 'Fare'], axis=1).head(2)"
   ]
  },
  {
   "cell_type": "code",
   "execution_count": 322,
   "id": "031354b2",
   "metadata": {
    "scrolled": false
   },
   "outputs": [
    {
     "data": {
      "text/html": [
       "<div>\n",
       "<style scoped>\n",
       "    .dataframe tbody tr th:only-of-type {\n",
       "        vertical-align: middle;\n",
       "    }\n",
       "\n",
       "    .dataframe tbody tr th {\n",
       "        vertical-align: top;\n",
       "    }\n",
       "\n",
       "    .dataframe thead th {\n",
       "        text-align: right;\n",
       "    }\n",
       "</style>\n",
       "<table border=\"1\" class=\"dataframe\">\n",
       "  <thead>\n",
       "    <tr style=\"text-align: right;\">\n",
       "      <th></th>\n",
       "      <th>modelos</th>\n",
       "      <th>Inicial</th>\n",
       "      <th>Title_Ohe</th>\n",
       "      <th>Classe_Idade</th>\n",
       "      <th>Family</th>\n",
       "      <th>Classe_Fare</th>\n",
       "    </tr>\n",
       "  </thead>\n",
       "  <tbody>\n",
       "    <tr>\n",
       "      <th>0</th>\n",
       "      <td>DecisionTree</td>\n",
       "      <td>0.766102</td>\n",
       "      <td>0.762712</td>\n",
       "      <td>0.823729</td>\n",
       "      <td>0.816949</td>\n",
       "      <td>0.786441</td>\n",
       "    </tr>\n",
       "    <tr>\n",
       "      <th>1</th>\n",
       "      <td>KNN</td>\n",
       "      <td>0.732203</td>\n",
       "      <td>0.752542</td>\n",
       "      <td>0.786441</td>\n",
       "      <td>0.803390</td>\n",
       "      <td>0.830508</td>\n",
       "    </tr>\n",
       "    <tr>\n",
       "      <th>2</th>\n",
       "      <td>LogisticRegression</td>\n",
       "      <td>0.823729</td>\n",
       "      <td>0.840678</td>\n",
       "      <td>0.830508</td>\n",
       "      <td>0.833898</td>\n",
       "      <td>0.847458</td>\n",
       "    </tr>\n",
       "  </tbody>\n",
       "</table>\n",
       "</div>"
      ],
      "text/plain": [
       "              modelos   Inicial  Title_Ohe  Classe_Idade    Family  \\\n",
       "0        DecisionTree  0.766102   0.762712      0.823729  0.816949   \n",
       "1                 KNN  0.732203   0.752542      0.786441  0.803390   \n",
       "2  LogisticRegression  0.823729   0.840678      0.830508  0.833898   \n",
       "\n",
       "   Classe_Fare  \n",
       "0     0.786441  \n",
       "1     0.830508  \n",
       "2     0.847458  "
      ]
     },
     "execution_count": 322,
     "metadata": {},
     "output_type": "execute_result"
    }
   ],
   "source": [
    "# Vamos avaliar nossa alteração\n",
    "avaliar_alteracao(['PassengerId', 'Survived', 'Name', 'Age', 'SibSp', 'Parch', 'Fare'], 'Classe_Fare')"
   ]
  },
  {
   "cell_type": "markdown",
   "id": "b07d9238",
   "metadata": {},
   "source": [
    "- Agora, vamos analisar graficamente o dataframe com a acurácia dos modelos para facilitar a comparação"
   ]
  },
  {
   "cell_type": "code",
   "execution_count": 323,
   "id": "f3832f12",
   "metadata": {},
   "outputs": [
    {
     "data": {
      "text/plain": [
       "<matplotlib.legend.Legend at 0x200a42a8710>"
      ]
     },
     "execution_count": 323,
     "metadata": {},
     "output_type": "execute_result"
    },
    {
     "data": {
      "image/png": "[encoded data removed]",
      "text/plain": [
       "<Figure size 640x480 with 1 Axes>"
      ]
     },
     "metadata": {},
     "output_type": "display_data"
    }
   ],
   "source": [
    "df_avaliacao.iloc[0, 1:].plot(label='DecisionTree')\n",
    "df_avaliacao.iloc[1, 1:].plot(label='KNN')\n",
    "df_avaliacao.iloc[2, 1:].plot(label='LogisticRegression')\n",
    "\n",
    "plt.title('Comparação Acurácia')\n",
    "\n",
    "plt.legend()"
   ]
  },
  {
   "cell_type": "markdown",
   "id": "9462ff92",
   "metadata": {},
   "source": [
    "### Removendo Colunas\n",
    "- Vamos utilizar a base de dados utilizada acima, sem as seguintes colunas: 'Name', 'Age', 'SibSp', 'Parch', 'Fare'. Esta base obteve a maior acurácia com o modelo de Regressão Logística\n",
    "- Para isso, vamos remover permanentemente essas colunas"
   ]
  },
  {
   "cell_type": "code",
   "execution_count": 324,
   "id": "51ffc1d9",
   "metadata": {},
   "outputs": [],
   "source": [
    "# Base de treino\n",
    "treino.drop(['Name', 'Age', 'SibSp', 'Parch', 'Fare'], axis=1, inplace=True)"
   ]
  },
  {
   "cell_type": "code",
   "execution_count": 325,
   "id": "84601bcf",
   "metadata": {},
   "outputs": [],
   "source": [
    "# Base de teste\n",
    "teste.drop(['Name', 'Age', 'SibSp', 'Parch', 'Fare'], axis=1, inplace=True)"
   ]
  },
  {
   "cell_type": "markdown",
   "id": "6795fb4c",
   "metadata": {},
   "source": [
    "<a id='avaliar'></a> \n",
    "### Usando essa nova base no modelo"
   ]
  },
  {
   "cell_type": "code",
   "execution_count": 330,
   "id": "c0f7668d",
   "metadata": {
    "scrolled": false
   },
   "outputs": [
    {
     "data": {
      "text/html": [
       "<div>\n",
       "<style scoped>\n",
       "    .dataframe tbody tr th:only-of-type {\n",
       "        vertical-align: middle;\n",
       "    }\n",
       "\n",
       "    .dataframe tbody tr th {\n",
       "        vertical-align: top;\n",
       "    }\n",
       "\n",
       "    .dataframe thead th {\n",
       "        text-align: right;\n",
       "    }\n",
       "</style>\n",
       "<table border=\"1\" class=\"dataframe\">\n",
       "  <thead>\n",
       "    <tr style=\"text-align: right;\">\n",
       "      <th></th>\n",
       "      <th>PassengerId</th>\n",
       "      <th>Survived</th>\n",
       "      <th>Pclass</th>\n",
       "      <th>Sex_male</th>\n",
       "      <th>Embarked_C</th>\n",
       "      <th>Embarked_Q</th>\n",
       "      <th>Embarked_S</th>\n",
       "      <th>Title_Master</th>\n",
       "      <th>Title_Miss</th>\n",
       "      <th>Title_Mr</th>\n",
       "      <th>Title_Mrs</th>\n",
       "      <th>Title_Others</th>\n",
       "      <th>Classe_Idade</th>\n",
       "      <th>Family</th>\n",
       "      <th>Classe_Fare</th>\n",
       "    </tr>\n",
       "  </thead>\n",
       "  <tbody>\n",
       "    <tr>\n",
       "      <th>0</th>\n",
       "      <td>1</td>\n",
       "      <td>0</td>\n",
       "      <td>3</td>\n",
       "      <td>1</td>\n",
       "      <td>0</td>\n",
       "      <td>0</td>\n",
       "      <td>1</td>\n",
       "      <td>0</td>\n",
       "      <td>0</td>\n",
       "      <td>1</td>\n",
       "      <td>0</td>\n",
       "      <td>0</td>\n",
       "      <td>2</td>\n",
       "      <td>1</td>\n",
       "      <td>3</td>\n",
       "    </tr>\n",
       "    <tr>\n",
       "      <th>1</th>\n",
       "      <td>2</td>\n",
       "      <td>1</td>\n",
       "      <td>1</td>\n",
       "      <td>0</td>\n",
       "      <td>1</td>\n",
       "      <td>0</td>\n",
       "      <td>0</td>\n",
       "      <td>0</td>\n",
       "      <td>0</td>\n",
       "      <td>0</td>\n",
       "      <td>1</td>\n",
       "      <td>0</td>\n",
       "      <td>2</td>\n",
       "      <td>1</td>\n",
       "      <td>1</td>\n",
       "    </tr>\n",
       "  </tbody>\n",
       "</table>\n",
       "</div>"
      ],
      "text/plain": [
       "   PassengerId  Survived  Pclass  Sex_male  Embarked_C  Embarked_Q  \\\n",
       "0            1         0       3         1           0           0   \n",
       "1            2         1       1         0           1           0   \n",
       "\n",
       "   Embarked_S  Title_Master  Title_Miss  Title_Mr  Title_Mrs  Title_Others  \\\n",
       "0           1             0           0         1          0             0   \n",
       "1           0             0           0         0          1             0   \n",
       "\n",
       "   Classe_Idade  Family  Classe_Fare  \n",
       "0             2       1            3  \n",
       "1             2       1            1  "
      ]
     },
     "execution_count": 330,
     "metadata": {},
     "output_type": "execute_result"
    }
   ],
   "source": [
    "# Visualizando a base\n",
    "treino.head(2)"
   ]
  },
  {
   "cell_type": "markdown",
   "id": "d403e579",
   "metadata": {},
   "source": [
    "**___________________________________________________________________________________________________________________________**\n",
    "<a id='modelagem'></a>\n",
    "# MODELAGEM"
   ]
  },
  {
   "cell_type": "markdown",
   "id": "82b1af18",
   "metadata": {},
   "source": [
    "- Para começar, vamos testar os seguintes modelos:\n",
    "    - **Decision Tree**\n",
    "        - https://scikit-learn.org/stable/modules/tree.html#classification\n",
    "    - **KNeighborsClassifier**\n",
    "        - https://scikit-learn.org/stable/modules/generated/sklearn.neighbors.KNeighborsClassifier.html#sklearn.neighbors.KNeighborsClassifier\n",
    "    - **Logistic Regression**\n",
    "        - https://scikit-learn.org/stable/modules/generated/sklearn.linear_model.LogisticRegression.html#sklearn.linear_model.LogisticRegression"
   ]
  },
  {
   "cell_type": "markdown",
   "id": "5ae2ee76",
   "metadata": {},
   "source": [
    "- Antes de usar os algoritmos, precisamos separar a base de treino em **treino e validação**\n",
    "    - Vamos fazer isso utilizando o **train_test_split**\n",
    "        - https://scikit-learn.org/stable/modules/generated/sklearn.model_selection.train_test_split.html"
   ]
  },
  {
   "cell_type": "code",
   "execution_count": 331,
   "id": "769a8cba",
   "metadata": {},
   "outputs": [],
   "source": [
    "# Importando o train_test_split\n",
    "from sklearn.model_selection import train_test_split"
   ]
  },
  {
   "cell_type": "code",
   "execution_count": 332,
   "id": "efe06e64",
   "metadata": {},
   "outputs": [],
   "source": [
    "# Separando a base de treino em X e y\n",
    "X = treino.drop(['PassengerId', 'Survived'], axis=1)\n",
    "y = treino.Survived"
   ]
  },
  {
   "cell_type": "code",
   "execution_count": 333,
   "id": "54bfceae",
   "metadata": {},
   "outputs": [],
   "source": [
    "# Separando em treino e validação\n",
    "X_train, X_val, y_train, y_val = train_test_split(X, y, test_size=0.33, random_state=42)"
   ]
  },
  {
   "cell_type": "markdown",
   "id": "ff8060ed",
   "metadata": {},
   "source": [
    "### Decision Tree"
   ]
  },
  {
   "cell_type": "code",
   "execution_count": 334,
   "id": "33f1d741",
   "metadata": {},
   "outputs": [],
   "source": [
    "# Fazendo a importação\n",
    "from sklearn import tree"
   ]
  },
  {
   "cell_type": "code",
   "execution_count": 335,
   "id": "954b1f36",
   "metadata": {},
   "outputs": [],
   "source": [
    "# Criando o classificador\n",
    "clf_ac = tree.DecisionTreeClassifier(random_state=42)"
   ]
  },
  {
   "cell_type": "code",
   "execution_count": 336,
   "id": "cb3734c7",
   "metadata": {},
   "outputs": [],
   "source": [
    "# Fazendo o fit com os dados\n",
    "clf_ac = clf_ac.fit(X_train,y_train)"
   ]
  },
  {
   "cell_type": "code",
   "execution_count": 337,
   "id": "78852919",
   "metadata": {},
   "outputs": [],
   "source": [
    "# Fazendo a previsão\n",
    "y_pred_ac = clf_ac.predict(X_val)"
   ]
  },
  {
   "cell_type": "markdown",
   "id": "75e875a0",
   "metadata": {},
   "source": [
    "### KNeighborsClassifier"
   ]
  },
  {
   "cell_type": "code",
   "execution_count": 338,
   "id": "f9f971e7",
   "metadata": {},
   "outputs": [],
   "source": [
    "# Importando\n",
    "from sklearn.neighbors import KNeighborsClassifier"
   ]
  },
  {
   "cell_type": "code",
   "execution_count": 339,
   "id": "da8a904f",
   "metadata": {},
   "outputs": [],
   "source": [
    "# Criando o classificador\n",
    "clf_knn = KNeighborsClassifier(n_neighbors=3)"
   ]
  },
  {
   "cell_type": "code",
   "execution_count": 340,
   "id": "de05cae2",
   "metadata": {},
   "outputs": [],
   "source": [
    "# Fazendo o fit com os dados\n",
    "clf_knn = clf_knn.fit(X_train,y_train)"
   ]
  },
  {
   "cell_type": "code",
   "execution_count": 341,
   "id": "3caac52c",
   "metadata": {},
   "outputs": [],
   "source": [
    "# Fazendo a previsão\n",
    "y_pred_knn = clf_knn.predict(X_val)"
   ]
  },
  {
   "cell_type": "markdown",
   "id": "0d03b3c7",
   "metadata": {},
   "source": [
    "### Logistic Regression"
   ]
  },
  {
   "cell_type": "code",
   "execution_count": 342,
   "id": "3d571bf2",
   "metadata": {},
   "outputs": [],
   "source": [
    "# Importando\n",
    "from sklearn.linear_model import LogisticRegression"
   ]
  },
  {
   "cell_type": "code",
   "execution_count": 343,
   "id": "94399450",
   "metadata": {},
   "outputs": [],
   "source": [
    "# Criando o classificador\n",
    "clf_rl = LogisticRegression(random_state=42, max_iter=400)"
   ]
  },
  {
   "cell_type": "code",
   "execution_count": 344,
   "id": "f50821cb",
   "metadata": {},
   "outputs": [],
   "source": [
    "# Fazendo o fit com os dados\n",
    "clf_rl = clf_rl.fit(X_train,y_train)"
   ]
  },
  {
   "cell_type": "code",
   "execution_count": 345,
   "id": "990eb713",
   "metadata": {},
   "outputs": [],
   "source": [
    "# Fazendo a previsão\n",
    "y_pred_rl = clf_rl.predict(X_val)"
   ]
  },
  {
   "cell_type": "markdown",
   "id": "98763414",
   "metadata": {},
   "source": [
    "**___________________________________________________________________________________________________________________________**\n",
    "<a id='avaliacao'></a>\n",
    "# AVALIAÇÃO"
   ]
  },
  {
   "cell_type": "markdown",
   "id": "a9176a1c",
   "metadata": {},
   "source": [
    "- Para fazer essa análise, podemos usar:\n",
    "    - Acurácia (método de avaliação usado na competição):\n",
    "        - https://scikit-learn.org/stable/modules/generated/sklearn.metrics.accuracy_score.html\n",
    "    - Matriz de confusão (ajuda a visualizar a distribuição dos erros):\n",
    "        - https://scikit-learn.org/stable/modules/generated/sklearn.metrics.confusion_matrix.html"
   ]
  },
  {
   "cell_type": "markdown",
   "id": "aa989a68",
   "metadata": {},
   "source": [
    "### Acurácia"
   ]
  },
  {
   "cell_type": "code",
   "execution_count": 346,
   "id": "a5b05922",
   "metadata": {},
   "outputs": [],
   "source": [
    "# Importando\n",
    "from sklearn.metrics import accuracy_score"
   ]
  },
  {
   "cell_type": "code",
   "execution_count": 347,
   "id": "e30194eb",
   "metadata": {},
   "outputs": [
    {
     "name": "stdout",
     "output_type": "stream",
     "text": [
      "Acurácia DecisionTree: 0.7864406779661017\n"
     ]
    }
   ],
   "source": [
    "# Para a árvore\n",
    "arvore = accuracy_score(y_val, y_pred_ac)\n",
    "print('Acurácia DecisionTree:', arvore)"
   ]
  },
  {
   "cell_type": "code",
   "execution_count": 348,
   "id": "48ab9f2b",
   "metadata": {},
   "outputs": [
    {
     "name": "stdout",
     "output_type": "stream",
     "text": [
      "Acurácia KNN: 0.8305084745762712\n"
     ]
    }
   ],
   "source": [
    "# Para o knn\n",
    "knn = accuracy_score(y_val, y_pred_knn)\n",
    "print('Acurácia KNN:', knn)"
   ]
  },
  {
   "cell_type": "code",
   "execution_count": 349,
   "id": "0a47a83e",
   "metadata": {},
   "outputs": [
    {
     "name": "stdout",
     "output_type": "stream",
     "text": [
      "Acurácia LogisticRegression: 0.847457627118644\n"
     ]
    }
   ],
   "source": [
    "# Para a regressão logística\n",
    "reg_log = accuracy_score(y_val, y_pred_rl)\n",
    "print('Acurácia LogisticRegression:', reg_log)"
   ]
  },
  {
   "cell_type": "markdown",
   "id": "1b250682",
   "metadata": {},
   "source": [
    "### Matriz de confusão"
   ]
  },
  {
   "cell_type": "code",
   "execution_count": 350,
   "id": "cce3f89c",
   "metadata": {},
   "outputs": [],
   "source": [
    "# Importando\n",
    "from sklearn.metrics import confusion_matrix"
   ]
  },
  {
   "cell_type": "code",
   "execution_count": 351,
   "id": "299c87b7",
   "metadata": {
    "scrolled": true
   },
   "outputs": [
    {
     "data": {
      "text/plain": [
       "array([[156,  19],\n",
       "       [ 44,  76]], dtype=int64)"
      ]
     },
     "execution_count": 351,
     "metadata": {},
     "output_type": "execute_result"
    }
   ],
   "source": [
    "# Para a árvore\n",
    "confusion_matrix(y_val, y_pred_ac)"
   ]
  },
  {
   "cell_type": "code",
   "execution_count": 352,
   "id": "81a9ad8e",
   "metadata": {
    "scrolled": true
   },
   "outputs": [
    {
     "data": {
      "text/plain": [
       "array([[153,  22],\n",
       "       [ 28,  92]], dtype=int64)"
      ]
     },
     "execution_count": 352,
     "metadata": {},
     "output_type": "execute_result"
    }
   ],
   "source": [
    "# Para o knn\n",
    "confusion_matrix(y_val, y_pred_knn)"
   ]
  },
  {
   "cell_type": "code",
   "execution_count": 353,
   "id": "cbaf5c77",
   "metadata": {
    "scrolled": true
   },
   "outputs": [
    {
     "data": {
      "text/plain": [
       "array([[155,  20],\n",
       "       [ 25,  95]], dtype=int64)"
      ]
     },
     "execution_count": 353,
     "metadata": {},
     "output_type": "execute_result"
    }
   ],
   "source": [
    "# Para a regressão logística\n",
    "confusion_matrix(y_val, y_pred_rl)"
   ]
  },
  {
   "cell_type": "markdown",
   "id": "2c640072",
   "metadata": {},
   "source": [
    "### Data Frame para comparar a performance do modelo com diferentes tratamentos"
   ]
  },
  {
   "cell_type": "code",
   "execution_count": 248,
   "id": "63592a94",
   "metadata": {},
   "outputs": [],
   "source": [
    "# Cria um dataframe para comparar a acurácia das nossas alterações\n",
    "df_avaliacao = pd.DataFrame({'modelos': ['DecisionTree', 'KNN', 'LogisticRegression']})"
   ]
  },
  {
   "cell_type": "code",
   "execution_count": 249,
   "id": "c1ad3be9",
   "metadata": {},
   "outputs": [],
   "source": [
    "# Adiciona uma coluna e insere os resultados das avaliações\n",
    "df_avaliacao['Inicial'] = arvore, knn, reg_log"
   ]
  },
  {
   "cell_type": "code",
   "execution_count": 250,
   "id": "396272df",
   "metadata": {
    "scrolled": false
   },
   "outputs": [
    {
     "data": {
      "text/html": [
       "<div>\n",
       "<style scoped>\n",
       "    .dataframe tbody tr th:only-of-type {\n",
       "        vertical-align: middle;\n",
       "    }\n",
       "\n",
       "    .dataframe tbody tr th {\n",
       "        vertical-align: top;\n",
       "    }\n",
       "\n",
       "    .dataframe thead th {\n",
       "        text-align: right;\n",
       "    }\n",
       "</style>\n",
       "<table border=\"1\" class=\"dataframe\">\n",
       "  <thead>\n",
       "    <tr style=\"text-align: right;\">\n",
       "      <th></th>\n",
       "      <th>modelos</th>\n",
       "      <th>Inicial</th>\n",
       "    </tr>\n",
       "  </thead>\n",
       "  <tbody>\n",
       "    <tr>\n",
       "      <th>0</th>\n",
       "      <td>DecisionTree</td>\n",
       "      <td>0.766102</td>\n",
       "    </tr>\n",
       "    <tr>\n",
       "      <th>1</th>\n",
       "      <td>KNN</td>\n",
       "      <td>0.732203</td>\n",
       "    </tr>\n",
       "    <tr>\n",
       "      <th>2</th>\n",
       "      <td>LogisticRegression</td>\n",
       "      <td>0.823729</td>\n",
       "    </tr>\n",
       "  </tbody>\n",
       "</table>\n",
       "</div>"
      ],
      "text/plain": [
       "              modelos   Inicial\n",
       "0        DecisionTree  0.766102\n",
       "1                 KNN  0.732203\n",
       "2  LogisticRegression  0.823729"
      ]
     },
     "execution_count": 250,
     "metadata": {},
     "output_type": "execute_result"
    }
   ],
   "source": [
    "# Mostra o dataframe\n",
    "df_avaliacao"
   ]
  },
  {
   "cell_type": "markdown",
   "id": "b12cd869",
   "metadata": {},
   "source": [
    "- Podemos ver acima, o resultado da nossa base de dados inicial.\n",
    "- Para simplificar nossa análise, vamos criar uma função que englobe todos os passos mencionados anteriormente: criação do modelo, treinamento e teste. Por fim, essa função retornará um dataframe comparativo, exibindo a nova métrica de avaliação após as alterações que realizarmos ao longo do notebook.\n",
    "\n",
    "### Função de Avaliação\n",
    "\n",
    "- Vamos executar esta função e sempre que quisermos avaliar nossas alterações na base, basta chamar a função, inserir como parâmetro as colunas que não fazem parte da nossa análise e o nome que iremos dar para a nossa alteração"
   ]
  },
  {
   "cell_type": "code",
   "execution_count": 251,
   "id": "b6cc370a",
   "metadata": {},
   "outputs": [],
   "source": [
    "def avaliar_alteracao(drop_colunas, avaliacao):\n",
    "\n",
    "    ###################### Importando o train_test_split\n",
    "    from sklearn.model_selection import train_test_split\n",
    "    # Separando a base de treino em X e y\n",
    "    X = treino.drop(drop_colunas,axis=1)\n",
    "    y = treino.Survived\n",
    "\n",
    "    # Separando em treino e validação\n",
    "    X_train, X_val, y_train, y_val = train_test_split(X, y, test_size=0.33, random_state=42)\n",
    "\n",
    "    ###################### Árvore de classificação\n",
    "    # Fazendo a importação\n",
    "    from sklearn import tree\n",
    "    # Criando o classificador\n",
    "    clf_ac = tree.DecisionTreeClassifier(random_state=42)\n",
    "    # Fazendo o fit com os dados\n",
    "    clf_ac = clf_ac.fit(X_train,y_train)\n",
    "    # Fazendo a previsão\n",
    "    y_pred_ac = clf_ac.predict(X_val)\n",
    "\n",
    "    ###################### KNeighborsClassifier\n",
    "    # Importando\n",
    "    from sklearn.neighbors import KNeighborsClassifier\n",
    "    # Criando o classificador\n",
    "    clf_knn = KNeighborsClassifier(n_neighbors=3)\n",
    "    # Fazendo o fit com os dados\n",
    "    clf_knn = clf_knn.fit(X_train,y_train)\n",
    "    # Fazendo a previsão\n",
    "    y_pred_knn = clf_knn.predict(X_val)\n",
    "\n",
    "    ###################### Regressão Logística\n",
    "    # Importando\n",
    "    from sklearn.linear_model import LogisticRegression\n",
    "    # Criando o classificador\n",
    "    clf_rl = LogisticRegression(random_state=42, max_iter=500)\n",
    "    # Fazendo o fit com os dados\n",
    "    clf_rl = clf_rl.fit(X_train,y_train)\n",
    "    # Fazendo a previsão\n",
    "    y_pred_rl = clf_rl.predict(X_val)\n",
    "\n",
    "\n",
    "    ###################### Acurácia\n",
    "    # Importando\n",
    "    from sklearn.metrics import accuracy_score\n",
    "    # Para a árvore\n",
    "    arvore = accuracy_score(y_val, y_pred_ac)\n",
    "    # Para o knn\n",
    "    knn = accuracy_score(y_val, y_pred_knn)\n",
    "    # Para a regressão logística\n",
    "    reg_log = accuracy_score(y_val, y_pred_rl)\n",
    "\n",
    "    ### Data Frame para comparar a performance do modelo com diferentes tratamentos    \n",
    "    df_avaliacao[avaliacao] = [arvore, knn, reg_log]\n",
    "\n",
    "    return df_avaliacao"
   ]
  },
  {
   "cell_type": "code",
   "execution_count": 252,
   "id": "58d9050d",
   "metadata": {
    "scrolled": false
   },
   "outputs": [
    {
     "data": {
      "text/html": [
       "<div>\n",
       "<style scoped>\n",
       "    .dataframe tbody tr th:only-of-type {\n",
       "        vertical-align: middle;\n",
       "    }\n",
       "\n",
       "    .dataframe tbody tr th {\n",
       "        vertical-align: top;\n",
       "    }\n",
       "\n",
       "    .dataframe thead th {\n",
       "        text-align: right;\n",
       "    }\n",
       "</style>\n",
       "<table border=\"1\" class=\"dataframe\">\n",
       "  <thead>\n",
       "    <tr style=\"text-align: right;\">\n",
       "      <th></th>\n",
       "      <th>modelos</th>\n",
       "      <th>Inicial</th>\n",
       "    </tr>\n",
       "  </thead>\n",
       "  <tbody>\n",
       "    <tr>\n",
       "      <th>0</th>\n",
       "      <td>DecisionTree</td>\n",
       "      <td>0.766102</td>\n",
       "    </tr>\n",
       "    <tr>\n",
       "      <th>1</th>\n",
       "      <td>KNN</td>\n",
       "      <td>0.732203</td>\n",
       "    </tr>\n",
       "    <tr>\n",
       "      <th>2</th>\n",
       "      <td>LogisticRegression</td>\n",
       "      <td>0.823729</td>\n",
       "    </tr>\n",
       "  </tbody>\n",
       "</table>\n",
       "</div>"
      ],
      "text/plain": [
       "              modelos   Inicial\n",
       "0        DecisionTree  0.766102\n",
       "1                 KNN  0.732203\n",
       "2  LogisticRegression  0.823729"
      ]
     },
     "execution_count": 252,
     "metadata": {},
     "output_type": "execute_result"
    }
   ],
   "source": [
    "# Testando a função, perceba que irá retornar os mesmos valores do DataFrame criado acima\n",
    "avaliar_alteracao(['PassengerId', 'Survived', 'Name'], 'Inicial')\n",
    "\n",
    "# ['PassengerId', 'Survived', 'Name'] - São colunas que NÃO iremos utilizar no nosso modelo\n",
    "# 'Inicial' - Nome da Coluna"
   ]
  },
  {
   "cell_type": "markdown",
   "id": "7e482ceb",
   "metadata": {},
   "source": [
    "- Agora, podemos **[voltar](#tratamento)** e continuar fazendo os ajustes necessários na nossa base"
   ]
  },
  {
   "cell_type": "markdown",
   "id": "c26c72a5",
   "metadata": {},
   "source": [
    "**___________________________________________________________________________________________________________________________**\n",
    "<a id='previsao'></a>\n",
    "# PREVISÃO"
   ]
  },
  {
   "cell_type": "markdown",
   "id": "70fb0198",
   "metadata": {},
   "source": [
    "### Fazendo a previsão para os dados de teste\n",
    "- Vamos usar o modelo com melhor precisão para fazer o predict na base de teste"
   ]
  },
  {
   "cell_type": "code",
   "execution_count": 354,
   "id": "e2661e59",
   "metadata": {},
   "outputs": [
    {
     "data": {
      "text/html": [
       "<div>\n",
       "<style scoped>\n",
       "    .dataframe tbody tr th:only-of-type {\n",
       "        vertical-align: middle;\n",
       "    }\n",
       "\n",
       "    .dataframe tbody tr th {\n",
       "        vertical-align: top;\n",
       "    }\n",
       "\n",
       "    .dataframe thead th {\n",
       "        text-align: right;\n",
       "    }\n",
       "</style>\n",
       "<table border=\"1\" class=\"dataframe\">\n",
       "  <thead>\n",
       "    <tr style=\"text-align: right;\">\n",
       "      <th></th>\n",
       "      <th>Pclass</th>\n",
       "      <th>Sex_male</th>\n",
       "      <th>Embarked_C</th>\n",
       "      <th>Embarked_Q</th>\n",
       "      <th>Embarked_S</th>\n",
       "      <th>Title_Master</th>\n",
       "      <th>Title_Miss</th>\n",
       "      <th>Title_Mr</th>\n",
       "      <th>Title_Mrs</th>\n",
       "      <th>Title_Others</th>\n",
       "      <th>Classe_Idade</th>\n",
       "      <th>Family</th>\n",
       "      <th>Classe_Fare</th>\n",
       "    </tr>\n",
       "  </thead>\n",
       "  <tbody>\n",
       "    <tr>\n",
       "      <th>6</th>\n",
       "      <td>1</td>\n",
       "      <td>1</td>\n",
       "      <td>0</td>\n",
       "      <td>0</td>\n",
       "      <td>1</td>\n",
       "      <td>0</td>\n",
       "      <td>0</td>\n",
       "      <td>1</td>\n",
       "      <td>0</td>\n",
       "      <td>0</td>\n",
       "      <td>2</td>\n",
       "      <td>0</td>\n",
       "      <td>2</td>\n",
       "    </tr>\n",
       "    <tr>\n",
       "      <th>718</th>\n",
       "      <td>3</td>\n",
       "      <td>1</td>\n",
       "      <td>0</td>\n",
       "      <td>1</td>\n",
       "      <td>0</td>\n",
       "      <td>0</td>\n",
       "      <td>0</td>\n",
       "      <td>1</td>\n",
       "      <td>0</td>\n",
       "      <td>0</td>\n",
       "      <td>2</td>\n",
       "      <td>0</td>\n",
       "      <td>3</td>\n",
       "    </tr>\n",
       "  </tbody>\n",
       "</table>\n",
       "</div>"
      ],
      "text/plain": [
       "     Pclass  Sex_male  Embarked_C  Embarked_Q  Embarked_S  Title_Master  \\\n",
       "6         1         1           0           0           1             0   \n",
       "718       3         1           0           1           0             0   \n",
       "\n",
       "     Title_Miss  Title_Mr  Title_Mrs  Title_Others  Classe_Idade  Family  \\\n",
       "6             0         1          0             0             2       0   \n",
       "718           0         1          0             0             2       0   \n",
       "\n",
       "     Classe_Fare  \n",
       "6              2  \n",
       "718            3  "
      ]
     },
     "execution_count": 354,
     "metadata": {},
     "output_type": "execute_result"
    }
   ],
   "source": [
    "# Visualizando o X_train\n",
    "X_train.head(2)"
   ]
  },
  {
   "cell_type": "code",
   "execution_count": 355,
   "id": "3be47ba2",
   "metadata": {},
   "outputs": [
    {
     "data": {
      "text/html": [
       "<div>\n",
       "<style scoped>\n",
       "    .dataframe tbody tr th:only-of-type {\n",
       "        vertical-align: middle;\n",
       "    }\n",
       "\n",
       "    .dataframe tbody tr th {\n",
       "        vertical-align: top;\n",
       "    }\n",
       "\n",
       "    .dataframe thead th {\n",
       "        text-align: right;\n",
       "    }\n",
       "</style>\n",
       "<table border=\"1\" class=\"dataframe\">\n",
       "  <thead>\n",
       "    <tr style=\"text-align: right;\">\n",
       "      <th></th>\n",
       "      <th>PassengerId</th>\n",
       "      <th>Pclass</th>\n",
       "      <th>Sex_male</th>\n",
       "      <th>Embarked_C</th>\n",
       "      <th>Embarked_Q</th>\n",
       "      <th>Embarked_S</th>\n",
       "      <th>Title_Master</th>\n",
       "      <th>Title_Miss</th>\n",
       "      <th>Title_Mr</th>\n",
       "      <th>Title_Mrs</th>\n",
       "      <th>Title_Others</th>\n",
       "      <th>Classe_Idade</th>\n",
       "      <th>Family</th>\n",
       "      <th>Classe_Fare</th>\n",
       "    </tr>\n",
       "  </thead>\n",
       "  <tbody>\n",
       "    <tr>\n",
       "      <th>0</th>\n",
       "      <td>892</td>\n",
       "      <td>3</td>\n",
       "      <td>1</td>\n",
       "      <td>0</td>\n",
       "      <td>1</td>\n",
       "      <td>0</td>\n",
       "      <td>0</td>\n",
       "      <td>0</td>\n",
       "      <td>1</td>\n",
       "      <td>0</td>\n",
       "      <td>0</td>\n",
       "      <td>2</td>\n",
       "      <td>0</td>\n",
       "      <td>3</td>\n",
       "    </tr>\n",
       "    <tr>\n",
       "      <th>1</th>\n",
       "      <td>893</td>\n",
       "      <td>3</td>\n",
       "      <td>0</td>\n",
       "      <td>0</td>\n",
       "      <td>0</td>\n",
       "      <td>1</td>\n",
       "      <td>0</td>\n",
       "      <td>0</td>\n",
       "      <td>0</td>\n",
       "      <td>1</td>\n",
       "      <td>0</td>\n",
       "      <td>2</td>\n",
       "      <td>1</td>\n",
       "      <td>3</td>\n",
       "    </tr>\n",
       "  </tbody>\n",
       "</table>\n",
       "</div>"
      ],
      "text/plain": [
       "   PassengerId  Pclass  Sex_male  Embarked_C  Embarked_Q  Embarked_S  \\\n",
       "0          892       3         1           0           1           0   \n",
       "1          893       3         0           0           0           1   \n",
       "\n",
       "   Title_Master  Title_Miss  Title_Mr  Title_Mrs  Title_Others  Classe_Idade  \\\n",
       "0             0           0         1          0             0             2   \n",
       "1             0           0         0          1             0             2   \n",
       "\n",
       "   Family  Classe_Fare  \n",
       "0       0            3  \n",
       "1       1            3  "
      ]
     },
     "execution_count": 355,
     "metadata": {},
     "output_type": "execute_result"
    }
   ],
   "source": [
    "# Visualizando a base de teste\n",
    "teste.head(2)"
   ]
  },
  {
   "cell_type": "code",
   "execution_count": 356,
   "id": "4f130a33",
   "metadata": {
    "scrolled": true
   },
   "outputs": [],
   "source": [
    "# Para a base de teste ser igual a base de treino, precisamos eliminar algumas colunas\n",
    "X_teste = teste.drop(['PassengerId'],axis=1)"
   ]
  },
  {
   "cell_type": "markdown",
   "id": "91afadbf",
   "metadata": {},
   "source": [
    "- Para fazer previsão nos dados de teste, vamos treinar novamente o modelo com a melhor acurácia, mas agora com todos os valores de treino"
   ]
  },
  {
   "cell_type": "code",
   "execution_count": 357,
   "id": "38c8c6b4",
   "metadata": {},
   "outputs": [],
   "source": [
    "# Importando\n",
    "from sklearn.linear_model import LogisticRegression\n",
    "\n",
    "# Criando o classificador\n",
    "clf_rl = LogisticRegression(random_state=42, max_iter=400)\n",
    "\n",
    "# Fazendo o fit com TODOS os dados de treino\n",
    "clf_rl = clf_rl.fit(X, y)"
   ]
  },
  {
   "cell_type": "markdown",
   "id": "f6216559",
   "metadata": {},
   "source": [
    "- Fazendo a previsão nos dados de teste, os dados que ainda não foram \"vistos\" pelo nosso modelo"
   ]
  },
  {
   "cell_type": "code",
   "execution_count": 358,
   "id": "a88ce180",
   "metadata": {},
   "outputs": [],
   "source": [
    "# Utilizando a regressão logística na base de teste\n",
    "y_pred = clf_rl.predict(X_teste)"
   ]
  },
  {
   "cell_type": "code",
   "execution_count": 359,
   "id": "f600d8e0",
   "metadata": {},
   "outputs": [],
   "source": [
    "# Criando uma nova coluna com a previsão na base de teste\n",
    "teste['Survived'] = y_pred"
   ]
  },
  {
   "cell_type": "code",
   "execution_count": 360,
   "id": "a7f24559",
   "metadata": {},
   "outputs": [
    {
     "data": {
      "text/html": [
       "<div>\n",
       "<style scoped>\n",
       "    .dataframe tbody tr th:only-of-type {\n",
       "        vertical-align: middle;\n",
       "    }\n",
       "\n",
       "    .dataframe tbody tr th {\n",
       "        vertical-align: top;\n",
       "    }\n",
       "\n",
       "    .dataframe thead th {\n",
       "        text-align: right;\n",
       "    }\n",
       "</style>\n",
       "<table border=\"1\" class=\"dataframe\">\n",
       "  <thead>\n",
       "    <tr style=\"text-align: right;\">\n",
       "      <th></th>\n",
       "      <th>PassengerId</th>\n",
       "      <th>Survived</th>\n",
       "    </tr>\n",
       "  </thead>\n",
       "  <tbody>\n",
       "    <tr>\n",
       "      <th>0</th>\n",
       "      <td>892</td>\n",
       "      <td>0</td>\n",
       "    </tr>\n",
       "    <tr>\n",
       "      <th>1</th>\n",
       "      <td>893</td>\n",
       "      <td>1</td>\n",
       "    </tr>\n",
       "    <tr>\n",
       "      <th>2</th>\n",
       "      <td>894</td>\n",
       "      <td>0</td>\n",
       "    </tr>\n",
       "    <tr>\n",
       "      <th>3</th>\n",
       "      <td>895</td>\n",
       "      <td>0</td>\n",
       "    </tr>\n",
       "    <tr>\n",
       "      <th>4</th>\n",
       "      <td>896</td>\n",
       "      <td>1</td>\n",
       "    </tr>\n",
       "  </tbody>\n",
       "</table>\n",
       "</div>"
      ],
      "text/plain": [
       "   PassengerId  Survived\n",
       "0          892         0\n",
       "1          893         1\n",
       "2          894         0\n",
       "3          895         0\n",
       "4          896         1"
      ]
     },
     "execution_count": 360,
     "metadata": {},
     "output_type": "execute_result"
    }
   ],
   "source": [
    "# Selecionando apenas a coluna de Id e Survived para fazer o envio\n",
    "base_envio = teste[['PassengerId','Survived']]\n",
    "base_envio.head()"
   ]
  },
  {
   "cell_type": "code",
   "execution_count": 361,
   "id": "ced64242",
   "metadata": {},
   "outputs": [],
   "source": [
    "# Exportando para um csv\n",
    "base_envio.to_csv('submission/submission_parte2.csv',index=False)"
   ]
  },
  {
   "cell_type": "markdown",
   "id": "c1cc142d",
   "metadata": {},
   "source": [
    "- Agora que temos os resultados previstos pelo nosso modelo, podemos ir ao [Kaggle](https://www.kaggle.com/competitions/titanic/submissions) e fazer a submissão e verificar qual foi a acurácia do modelo."
   ]
  },
  {
   "cell_type": "markdown",
   "id": "1757499f",
   "metadata": {},
   "source": [
    "**___________________________________________________________________________________________________________________________**\n",
    "<a id='conclusao'></a>\n",
    "# CONCLUSÃO\n",
    "\n",
    "- Após a submissão do \"submission_parte1.csv\" no Kaggle, obtivemos um Score: 0.76076\n",
    "- Após a submissão do \"submission_parte2.csv\" no Kaggle, obtivemos um Score: 0.77033\n",
    "\n",
    "**Melhorias**\n",
    "- Testar algoritmos mais avançados\n",
    "- Realizar a validação cruzada\n",
    "- Feature Selection\n",
    "- Fazer o tunning do modelo com o GridSearchCV"
   ]
  },
  {
   "cell_type": "markdown",
   "id": "959eb5fb",
   "metadata": {},
   "source": [
    "**___________________________________________________________________________________________________________________________**\n",
    "<a id='resumo'></a>\n",
    "# RESUMO\n",
    "\n",
    "### Parte 1\n",
    "\n",
    "**Tratamento**\n",
    "- Coluna Embarked valores nulos atualizados com o valor \"S\"\n",
    "- Coluna Fare valores nulos atualizados com o valor 7.0\n",
    "- Coluna Age, os valores nulos foram substituidos pela mediana das idades de acordo com a classe (Pclass) e o sexo (Sex)\n",
    "- Coluna Cabin foi removida devido a alta cardinalidade e muitos valores nulos\n",
    "- Coluna Sex foi transformada para numérica com valores 1 para male e 0 para female\n",
    "- Coluna Embarked foi transformada em numérica utilizando o método OneHotEncoder\n",
    "- Coluna Name e Ticket foi removida por possuir alta cardinalidade\n",
    "\n",
    "**Modelagem e Avaliação**\n",
    "- Foram criados três modelos para fazer a previsão\n",
    "    - Acurácia DecisionTree: 0.76\n",
    "    - Acurácia KNN: 0.73\n",
    "    - Acurácia LogisticRegression: 0.82\n",
    "\n",
    "**Submissão Kaggle (LogisticRegression)**\n",
    "- Score: 0.76076\n",
    "\n",
    "### Parte 2\n",
    "\n",
    "**Tratamento**\n",
    "- Coluna Name: foi retirado o título pertencente a cada registro e então codificado com o OneHotEncoder.\n",
    "- Coluna Age: foi criado uma classificação para as idades, sendo elas, criança, adulto e idoso e então codificado em numérico.\n",
    "- Coluna SibSp e Parch: foi criado uma nova coluna Family que é a soma dos valores das colunas SibSp e Parch\n",
    "- Coluna Fare: foi criado uma nova coluna que classifica a coluna Fare em categorias\n",
    "\n",
    "**Modelagem e Avaliação**\n",
    "- Foram criados três modelos para fazer a previsão\n",
    "    - Acurácia DecisionTree: 0.78\n",
    "    - Acurácia KNN: 0.83\n",
    "    - Acurácia LogisticRegression: 0.84\n",
    "    \n",
    "    \n",
    "**Submissão Kaggle (LogisticRegression)**\n",
    "- Score: 0.77033"
   ]
  },
  {
   "cell_type": "markdown",
   "id": "836c80e8",
   "metadata": {},
   "source": [
    "### Código dos tratamentos\n",
    "```\n",
    "######################## PARTE 1 #######################################\n",
    "# Tratando a Coluna Embarked - Base de Treino\n",
    "treino.loc[treino['Embarked'].isnull(), 'Embarked'] = 'S'\n",
    "\n",
    "# Tratando a Coluna Age - Base de Treino e Teste\n",
    "treino['Age'].fillna(treino.groupby(['Pclass', 'Sex'])['Age'].transform('median'), inplace=True)\n",
    "teste['Age'].fillna(teste.groupby(['Pclass', 'Sex'])['Age'].transform('median'), inplace=True)\n",
    "\n",
    "# Tratando a Coluna Fare - Base de Teste\n",
    "teste.loc[teste['Fare'].isnull(), 'Fare'] = 7.0\n",
    "\n",
    "# Tratando a Coluna Sex - Base de Treino e Teste\n",
    "treino['Sex_male'] = pd.get_dummies(treino['Sex'], drop_first=True, dtype='int32')\n",
    "teste['Sex_male'] = pd.get_dummies(teste['Sex'], drop_first=True, dtype='int32')\n",
    "\n",
    "# Importando OneHotEnconder\n",
    "from sklearn.preprocessing import OneHotEncoder\n",
    "\n",
    "# Tratando a Coluna Embarked - Base de Treino e Teste\n",
    "ohe = OneHotEncoder(handle_unknown='ignore',dtype='int32')\n",
    "\n",
    "ohe_df_treino = pd.DataFrame(ohe.fit_transform(treino[['Embarked']]).toarray(), columns=ohe.get_feature_names_out())\n",
    "treino = pd.concat([treino, ohe_df_treino], axis=1)\n",
    "\n",
    "ohe_df_teste = pd.DataFrame(ohe.transform(teste[['Embarked']]).toarray(), columns=ohe.get_feature_names_out())\n",
    "teste = pd.concat([teste, ohe_df_teste], axis=1)\n",
    "\n",
    "# Removendo as colunas\n",
    "treino.drop(['Cabin', 'Sex', 'Embarked', 'Ticket'], axis=1, inplace=True)\n",
    "\n",
    "# Removendo as colunas\n",
    "teste.drop(['Cabin', 'Sex', 'Embarked', 'Ticket'], axis=1, inplace=True)\n",
    "\n",
    "######################## PARTE 2 #######################################\n",
    "\n",
    "# importando a biblioteca string\n",
    "import string\n",
    "\n",
    "# Cria uma função que retorna apenas o título de cada registro\n",
    "def title(texto):\n",
    "    return ''.join([x for x in texto.split(',')[-1] if x not in string.punctuation]).split()[0]\n",
    "\n",
    "# Aplicando a função para todas as linhas e retornando apenas o título\n",
    "# O título então é armazenado em uma nova coluna chamada \"Title\"\n",
    "treino['Title'] = treino['Name'].apply(lambda x: title(x))\n",
    "\n",
    "# Deixando apenas os títulos Mr, Miss, Mrs e Master, os demais iremos nomeá-los como \"others\"\n",
    "treino['Title'] = treino['Title'].apply(lambda x: x if x in ('Mr', 'Miss', 'Mrs', 'Master') else 'Others')\n",
    "\n",
    "# transformando em numérico\n",
    "treino = pd.get_dummies(treino, prefix='Title', dtype='int32', columns=['Title'])\n",
    "\n",
    "# Aplicando a função para todas as linhas e retornando apenas o título\n",
    "# O título então é armazenado em uma nova coluna chamada \"Title\"\n",
    "teste['Title'] = teste['Name'].apply(lambda x: title(x))\n",
    "\n",
    "# Deixando apenas os títulos Mr, Miss, Mrs e Master, os demais iremos nomeá-los como \"others\"\n",
    "teste['Title'] = teste['Title'].apply(lambda x: x if x in ('Mr', 'Miss', 'Mrs', 'Master') else 'Others')\n",
    "\n",
    "# Codificando a coluna Title para transformar os valores do tipo texto em valores numéricos\n",
    "teste = pd.get_dummies(teste, prefix='Title', dtype='int32', columns=['Title'])\n",
    "\n",
    "# Função para classificar as idades\n",
    "def classifica_idade(idade):\n",
    "    if idade < 18:\n",
    "        return 1\n",
    "    elif idade >= 18 and idade < 55:\n",
    "        return 2\n",
    "    else:\n",
    "        return 3\n",
    "\n",
    "# Criando uma coluna com a classificação das idades para a base de treino\n",
    "treino['Classe_Idade'] = treino['Age'].apply(lambda x: classifica_idade(x))\n",
    "\n",
    "# Criando uma coluna com a classificação das idades para a base de teste\n",
    "teste['Classe_Idade'] = teste['Age'].apply(lambda x: classifica_idade(x))\n",
    "\n",
    "# Unindo SipSp e Parch para a base de treino\n",
    "treino['Family'] = treino['SibSp'] + treino['Parch']\n",
    "\n",
    "# Unindo SipSp e Parch para a base de teste\n",
    "teste['Family'] = teste['SibSp'] + teste['Parch']\n",
    "\n",
    "# Cria uma função de classificação:\n",
    "def classifica_fare(fare):\n",
    "    if fare == 0:\n",
    "        return 0 # Valor Gratuito\n",
    "    elif fare > 0 and fare <= 18:\n",
    "        return 3 # Valor Baixo\n",
    "    elif fare > 18 and fare <= 71:\n",
    "        return 2 # Valor Médio\n",
    "    else:\n",
    "        return 1 # Valor Alto\n",
    "\n",
    "# Criando uma coluna com as classificações\n",
    "treino['Classe_Fare'] = treino['Fare'].apply(lambda x: classifica_fare(x))\n",
    "\n",
    "# Criando uma coluna com as classificações\n",
    "teste['Classe_Fare'] = teste['Fare'].apply(lambda x: classifica_fare(x))\n",
    "\n",
    "# Removendo as colunas da base de treino\n",
    "treino.drop(['Name', 'Age', 'SibSp', 'Parch', 'Fare'], axis=1, inplace=True)\n",
    "\n",
    "# Removendo as colunas da base de teste\n",
    "teste.drop(['Name', 'Age', 'SibSp', 'Parch', 'Fare'], axis=1, inplace=True)\n",
    "```"
   ]
  },
  {
   "cell_type": "markdown",
   "id": "68d04aba",
   "metadata": {},
   "source": [
    "**___________________________________________________________________________________________________________________________**\n",
    "<a id='exportacao'></a>\n",
    "# EXPORTAÇÃO BASE FINAL PARTE 2\n",
    "- **Base de Treino**"
   ]
  },
  {
   "cell_type": "code",
   "execution_count": 362,
   "id": "fe303d5f",
   "metadata": {
    "scrolled": true
   },
   "outputs": [
    {
     "data": {
      "text/html": [
       "<div>\n",
       "<style scoped>\n",
       "    .dataframe tbody tr th:only-of-type {\n",
       "        vertical-align: middle;\n",
       "    }\n",
       "\n",
       "    .dataframe tbody tr th {\n",
       "        vertical-align: top;\n",
       "    }\n",
       "\n",
       "    .dataframe thead th {\n",
       "        text-align: right;\n",
       "    }\n",
       "</style>\n",
       "<table border=\"1\" class=\"dataframe\">\n",
       "  <thead>\n",
       "    <tr style=\"text-align: right;\">\n",
       "      <th></th>\n",
       "      <th>PassengerId</th>\n",
       "      <th>Survived</th>\n",
       "      <th>Pclass</th>\n",
       "      <th>Sex_male</th>\n",
       "      <th>Embarked_C</th>\n",
       "      <th>Embarked_Q</th>\n",
       "      <th>Embarked_S</th>\n",
       "      <th>Title_Master</th>\n",
       "      <th>Title_Miss</th>\n",
       "      <th>Title_Mr</th>\n",
       "      <th>Title_Mrs</th>\n",
       "      <th>Title_Others</th>\n",
       "      <th>Classe_Idade</th>\n",
       "      <th>Family</th>\n",
       "      <th>Classe_Fare</th>\n",
       "    </tr>\n",
       "  </thead>\n",
       "  <tbody>\n",
       "    <tr>\n",
       "      <th>0</th>\n",
       "      <td>1</td>\n",
       "      <td>0</td>\n",
       "      <td>3</td>\n",
       "      <td>1</td>\n",
       "      <td>0</td>\n",
       "      <td>0</td>\n",
       "      <td>1</td>\n",
       "      <td>0</td>\n",
       "      <td>0</td>\n",
       "      <td>1</td>\n",
       "      <td>0</td>\n",
       "      <td>0</td>\n",
       "      <td>2</td>\n",
       "      <td>1</td>\n",
       "      <td>3</td>\n",
       "    </tr>\n",
       "    <tr>\n",
       "      <th>1</th>\n",
       "      <td>2</td>\n",
       "      <td>1</td>\n",
       "      <td>1</td>\n",
       "      <td>0</td>\n",
       "      <td>1</td>\n",
       "      <td>0</td>\n",
       "      <td>0</td>\n",
       "      <td>0</td>\n",
       "      <td>0</td>\n",
       "      <td>0</td>\n",
       "      <td>1</td>\n",
       "      <td>0</td>\n",
       "      <td>2</td>\n",
       "      <td>1</td>\n",
       "      <td>1</td>\n",
       "    </tr>\n",
       "  </tbody>\n",
       "</table>\n",
       "</div>"
      ],
      "text/plain": [
       "   PassengerId  Survived  Pclass  Sex_male  Embarked_C  Embarked_Q  \\\n",
       "0            1         0       3         1           0           0   \n",
       "1            2         1       1         0           1           0   \n",
       "\n",
       "   Embarked_S  Title_Master  Title_Miss  Title_Mr  Title_Mrs  Title_Others  \\\n",
       "0           1             0           0         1          0             0   \n",
       "1           0             0           0         0          1             0   \n",
       "\n",
       "   Classe_Idade  Family  Classe_Fare  \n",
       "0             2       1            3  \n",
       "1             2       1            1  "
      ]
     },
     "execution_count": 362,
     "metadata": {},
     "output_type": "execute_result"
    }
   ],
   "source": [
    "treino.head(2)"
   ]
  },
  {
   "cell_type": "code",
   "execution_count": 363,
   "id": "00ec6980",
   "metadata": {},
   "outputs": [],
   "source": [
    "treino.to_csv('dataset_parte2/train_parte2.csv', index = False)"
   ]
  },
  {
   "cell_type": "markdown",
   "id": "64051757",
   "metadata": {},
   "source": [
    "- **Base de Teste**"
   ]
  },
  {
   "cell_type": "code",
   "execution_count": 364,
   "id": "db33ca1c",
   "metadata": {},
   "outputs": [
    {
     "data": {
      "text/html": [
       "<div>\n",
       "<style scoped>\n",
       "    .dataframe tbody tr th:only-of-type {\n",
       "        vertical-align: middle;\n",
       "    }\n",
       "\n",
       "    .dataframe tbody tr th {\n",
       "        vertical-align: top;\n",
       "    }\n",
       "\n",
       "    .dataframe thead th {\n",
       "        text-align: right;\n",
       "    }\n",
       "</style>\n",
       "<table border=\"1\" class=\"dataframe\">\n",
       "  <thead>\n",
       "    <tr style=\"text-align: right;\">\n",
       "      <th></th>\n",
       "      <th>PassengerId</th>\n",
       "      <th>Pclass</th>\n",
       "      <th>Sex_male</th>\n",
       "      <th>Embarked_C</th>\n",
       "      <th>Embarked_Q</th>\n",
       "      <th>Embarked_S</th>\n",
       "      <th>Title_Master</th>\n",
       "      <th>Title_Miss</th>\n",
       "      <th>Title_Mr</th>\n",
       "      <th>Title_Mrs</th>\n",
       "      <th>Title_Others</th>\n",
       "      <th>Classe_Idade</th>\n",
       "      <th>Family</th>\n",
       "      <th>Classe_Fare</th>\n",
       "      <th>Survived</th>\n",
       "    </tr>\n",
       "  </thead>\n",
       "  <tbody>\n",
       "    <tr>\n",
       "      <th>0</th>\n",
       "      <td>892</td>\n",
       "      <td>3</td>\n",
       "      <td>1</td>\n",
       "      <td>0</td>\n",
       "      <td>1</td>\n",
       "      <td>0</td>\n",
       "      <td>0</td>\n",
       "      <td>0</td>\n",
       "      <td>1</td>\n",
       "      <td>0</td>\n",
       "      <td>0</td>\n",
       "      <td>2</td>\n",
       "      <td>0</td>\n",
       "      <td>3</td>\n",
       "      <td>0</td>\n",
       "    </tr>\n",
       "    <tr>\n",
       "      <th>1</th>\n",
       "      <td>893</td>\n",
       "      <td>3</td>\n",
       "      <td>0</td>\n",
       "      <td>0</td>\n",
       "      <td>0</td>\n",
       "      <td>1</td>\n",
       "      <td>0</td>\n",
       "      <td>0</td>\n",
       "      <td>0</td>\n",
       "      <td>1</td>\n",
       "      <td>0</td>\n",
       "      <td>2</td>\n",
       "      <td>1</td>\n",
       "      <td>3</td>\n",
       "      <td>1</td>\n",
       "    </tr>\n",
       "  </tbody>\n",
       "</table>\n",
       "</div>"
      ],
      "text/plain": [
       "   PassengerId  Pclass  Sex_male  Embarked_C  Embarked_Q  Embarked_S  \\\n",
       "0          892       3         1           0           1           0   \n",
       "1          893       3         0           0           0           1   \n",
       "\n",
       "   Title_Master  Title_Miss  Title_Mr  Title_Mrs  Title_Others  Classe_Idade  \\\n",
       "0             0           0         1          0             0             2   \n",
       "1             0           0         0          1             0             2   \n",
       "\n",
       "   Family  Classe_Fare  Survived  \n",
       "0       0            3         0  \n",
       "1       1            3         1  "
      ]
     },
     "execution_count": 364,
     "metadata": {},
     "output_type": "execute_result"
    }
   ],
   "source": [
    "teste.head(2)"
   ]
  },
  {
   "cell_type": "code",
   "execution_count": 365,
   "id": "679b1c59",
   "metadata": {},
   "outputs": [],
   "source": [
    "teste.drop('Survived', axis=1).to_csv('dataset_parte2/test_parte2.csv', index = False)"
   ]
  }
 ],
 "metadata": {
  "kernelspec": {
   "display_name": "Python 3 (ipykernel)",
   "language": "python",
   "name": "python3"
  },
  "language_info": {
   "codemirror_mode": {
    "name": "ipython",
    "version": 3
   },
   "file_extension": ".py",
   "mimetype": "text/x-python",
   "name": "python",
   "nbconvert_exporter": "python",
   "pygments_lexer": "ipython3",
   "version": "3.11.5"
  }
 },
 "nbformat": 4,
 "nbformat_minor": 5
}
